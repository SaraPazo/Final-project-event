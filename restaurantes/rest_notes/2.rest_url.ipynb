{
 "cells": [
  {
   "cell_type": "code",
   "execution_count": 1,
   "metadata": {},
   "outputs": [],
   "source": [
    "import re\n",
    "import statistics as stats\n",
    "import requests as req\n",
    "import numpy as np\n",
    "import pandas as pd\n",
    "pd.set_option('display.max_columns', None)\n",
    "pd.set_option('display.max_rows', None)\n",
    "\n",
    "\n",
    "import feedparser\n",
    "\n",
    "from selenium import webdriver\n",
    "from selenium.webdriver.common.keys import Keys\n",
    "from webdriver_manager.chrome import ChromeDriverManager\n",
    "from selenium.webdriver.support.ui import WebDriverWait\n",
    "from selenium.webdriver.support import expected_conditions as EC\n",
    "from selenium.webdriver import ActionChains as AC   # acciones encadenadas\n",
    "from selenium.webdriver.common.by import By\n",
    "from selenium.webdriver.chrome.options import Options\n",
    "\n",
    "\n",
    "\n",
    "import tqdm\n",
    "from bs4 import BeautifulSoup\n",
    "import time\n",
    "import re\n",
    "import json\n",
    "\n",
    "import warnings\n",
    "warnings.filterwarnings('ignore')\n",
    "\n",
    "import sys\n",
    "sys.path.append('../src')"
   ]
  },
  {
   "cell_type": "code",
   "execution_count": 2,
   "metadata": {},
   "outputs": [],
   "source": [
    "options=Options()\n",
    "options.add_experimental_option('excludeSwitches', ['enable-automation'])\n",
    "options.add_experimental_option('useAutomationExtension', False)\n",
    "options.add_argument(\"--remote-allow-origins=*\")\n",
    "options.add_argument(\"user-data-dir=cookies\")\n",
    "#options.add_argument('--headless')                 #Habilitar si no queremos ver la ventana\n",
    "options.add_experimental_option(\"detach\", True)    #Esta opción corrige el error de cierre repentino\n",
    "options.add_argument('--start-minimized')\n",
    "options.add_argument('--disable-gpu')\n",
    "options.add_argument('--disable-dev-shm-usage')\n",
    "options.add_argument('--no-sandbox')\n",
    "options.add_argument('--disable-extensions')\n",
    "options.add_argument('--disable-infobars')"
   ]
  },
  {
   "cell_type": "code",
   "execution_count": 3,
   "metadata": {},
   "outputs": [],
   "source": [
    "driver = webdriver.Chrome(options=options)    # abre una ventana de chrome "
   ]
  },
  {
   "cell_type": "markdown",
   "metadata": {},
   "source": [
    "driver.get('https://www.tripadvisor.es/FindRestaurants?geo=187514&cuisines=10655%2C10649%2C10654%2C10642%2C10640%2C10659%2C4617%2C10670%2C10679%2C10646%2C10648%2C9908%2C10671%2C5473%2C10641%2C10653%2C10639%2C5379%2C5110%2C10345%2C10669%2C10643%2C10651%2C21353%2C10715%2C10668%2C10686%2C10676%2C10682%2C20076%2C10683%2C10346%2C5086%2C21367%2C10763%2C10621%2C21355%2C20062%2C20069%2C10661%2C10347%2C10717&broadened=true')"
   ]
  },
  {
   "cell_type": "markdown",
   "metadata": {},
   "source": [
    " for e in range(len(driver.find_elements(By.XPATH, './/div[@class=\"biGQs _P fiohW alXOW NwcxK GzNcM ytVPx UTQMg RnEEZ ngXxk\"]/a'))):\n",
    "                box = driver.find_elements(By.XPATH, './/div[@class=\"biGQs _P fiohW alXOW NwcxK GzNcM ytVPx UTQMg RnEEZ ngXxk\"]/a')[e].get_attribute('href').split('\\n')\n",
    "                cartas.append(box)"
   ]
  },
  {
   "cell_type": "markdown",
   "metadata": {},
   "source": [
    "box = driver.find_elements(By.XPATH, './/div[@class=\"biGQs _P fiohW alXOW NwcxK GzNcM ytVPx UTQMg RnEEZ ngXxk\"]/a')\n",
    "\n",
    "for e in box: \n",
    "    print(e.get_attribute('href'))"
   ]
  },
  {
   "cell_type": "code",
   "execution_count": null,
   "metadata": {},
   "outputs": [],
   "source": []
  },
  {
   "cell_type": "code",
   "execution_count": 4,
   "metadata": {},
   "outputs": [],
   "source": [
    "url1 = 'https://www.tripadvisor.es/FindRestaurants?geo=187514&cuisines=10655%2C10649%2C10654%2C10642%2C10640%2C10659%2C4617%2C10670%2C10679%2C10646%2C10648%2C9908%2C10671%2C5473%2C10641%2C10653%2C10639%2C5379%2C5110%2C10345%2C10669%2C10643%2C10651%2C21353%2C10715%2C10668%2C10686%2C10676%2C10682%2C20076%2C10683%2C10346%2C5086%2C21367%2C10763%2C10621%2C21355%2C20062%2C20069%2C10661%2C10347%2C10717&broadened=true'\n",
    "\n",
    "url2 = 'https://www.tripadvisor.es/FindRestaurants?geo=187514&offset=30&cuisines=10655%2C10649%2C10654%2C10642%2C10640%2C10659%2C4617%2C10670%2C10679%2C10646%2C10648%2C9908%2C10671%2C5473%2C10641%2C10653%2C10639%2C5379%2C5110%2C10345%2C10669%2C10643%2C10651%2C21353%2C10715%2C10668%2C10686%2C10676%2C10682%2C20076%2C10683%2C10346%2C5086%2C21367%2C10763%2C10621%2C21355%2C20062%2C20069%2C10661%2C10347%2C10717&broadened=true'\n",
    "\n",
    "url3 = 'https://www.tripadvisor.es/FindRestaurants?geo=187514&offset=60&cuisines=10655%2C10649%2C10654%2C10642%2C10640%2C10659%2C4617%2C10670%2C10679%2C10646%2C10648%2C9908%2C10671%2C5473%2C10641%2C10653%2C10639%2C5379%2C5110%2C10345%2C10669%2C10643%2C10651%2C21353%2C10715%2C10668%2C10686%2C10676%2C10682%2C20076%2C10683%2C10346%2C5086%2C21367%2C10763%2C10621%2C21355%2C20062%2C20069%2C10661%2C10347%2C10717&broadened=true'\n",
    "\n",
    "url4 = 'https://www.tripadvisor.es/FindRestaurants?geo=187514&offset=60&cuisines=10655%2C10649%2C10654%2C10642%2C10640%2C10659%2C4617%2C10670%2C10679%2C10646%2C10648%2C9908%2C10671%2C5473%2C10641%2C10653%2C10639%2C5379%2C5110%2C10345%2C10669%2C10643%2C10651%2C21353%2C10715%2C10668%2C10686%2C10676%2C10682%2C20076%2C10683%2C10346%2C5086%2C21367%2C10763%2C10621%2C21355%2C20062%2C20069%2C10661%2C10347%2C10717&broadened=true'\n",
    "\n",
    "url5 = 'https://www.tripadvisor.es/FindRestaurants?geo=187514&offset=90&cuisines=10655%2C10649%2C10654%2C10642%2C10640%2C10659%2C4617%2C10670%2C10679%2C10646%2C10648%2C9908%2C10671%2C5473%2C10641%2C10653%2C10639%2C5379%2C5110%2C10345%2C10669%2C10643%2C10651%2C21353%2C10715%2C10668%2C10686%2C10676%2C10682%2C20076%2C10683%2C10346%2C5086%2C21367%2C10763%2C10621%2C21355%2C20062%2C20069%2C10661%2C10347%2C10717&broadened=true'"
   ]
  },
  {
   "cell_type": "code",
   "execution_count": 9,
   "metadata": {},
   "outputs": [],
   "source": [
    "url6 = 'https://www.tripadvisor.es/FindRestaurants?geo=187514&offset=120&cuisines=10655%2C10649%2C10654%2C10642%2C10640%2C10659%2C4617%2C10670%2C10679%2C10646%2C10648%2C9908%2C10671%2C5473%2C10641%2C10653%2C10639%2C5379%2C5110%2C10345%2C10669%2C10643%2C10651%2C21353%2C10715%2C10668%2C10686%2C10676%2C10682%2C20076%2C10683%2C10346%2C5086%2C21367%2C10763%2C10621%2C21355%2C20062%2C20069%2C10661%2C10347%2C10717&broadened=true'\n",
    "\n",
    "url7 = 'https://www.tripadvisor.es/FindRestaurants?geo=187514&offset=150&cuisines=10655%2C10649%2C10654%2C10642%2C10640%2C10659%2C4617%2C10670%2C10679%2C10646%2C10648%2C9908%2C10671%2C5473%2C10641%2C10653%2C10639%2C5379%2C5110%2C10345%2C10669%2C10643%2C10651%2C21353%2C10715%2C10668%2C10686%2C10676%2C10682%2C20076%2C10683%2C10346%2C5086%2C21367%2C10763%2C10621%2C21355%2C20062%2C20069%2C10661%2C10347%2C10717&broadened=true'\n",
    "\n",
    "url8 = 'https://www.tripadvisor.es/FindRestaurants?geo=187514&offset=180&cuisines=10655%2C10649%2C10654%2C10642%2C10640%2C10659%2C4617%2C10670%2C10679%2C10646%2C10648%2C9908%2C10671%2C5473%2C10641%2C10653%2C10639%2C5379%2C5110%2C10345%2C10669%2C10643%2C10651%2C21353%2C10715%2C10668%2C10686%2C10676%2C10682%2C20076%2C10683%2C10346%2C5086%2C21367%2C10763%2C10621%2C21355%2C20062%2C20069%2C10661%2C10347%2C10717&broadened=true'\n",
    "\n",
    "url9 = 'https://www.tripadvisor.es/FindRestaurants?geo=187514&offset=210&cuisines=10655%2C10649%2C10654%2C10642%2C10640%2C10659%2C4617%2C10670%2C10679%2C10646%2C10648%2C9908%2C10671%2C5473%2C10641%2C10653%2C10639%2C5379%2C5110%2C10345%2C10669%2C10643%2C10651%2C21353%2C10715%2C10668%2C10686%2C10676%2C10682%2C20076%2C10683%2C10346%2C5086%2C21367%2C10763%2C10621%2C21355%2C20062%2C20069%2C10661%2C10347%2C10717&broadened=true'\n",
    "\n",
    "url10 = 'https://www.tripadvisor.es/FindRestaurants?geo=187514&offset=240&cuisines=10655%2C10649%2C10654%2C10642%2C10640%2C10659%2C4617%2C10670%2C10679%2C10646%2C10648%2C9908%2C10671%2C5473%2C10641%2C10653%2C10639%2C5379%2C5110%2C10345%2C10669%2C10643%2C10651%2C21353%2C10715%2C10668%2C10686%2C10676%2C10682%2C20076%2C10683%2C10346%2C5086%2C21367%2C10763%2C10621%2C21355%2C20062%2C20069%2C10661%2C10347%2C10717&broadened=true'\n",
    "\n",
    "url11 = 'https://www.tripadvisor.es/FindRestaurants?geo=187514&offset=270&cuisines=10655%2C10649%2C10654%2C10642%2C10640%2C10659%2C4617%2C10670%2C10679%2C10646%2C10648%2C9908%2C10671%2C5473%2C10641%2C10653%2C10639%2C5379%2C5110%2C10345%2C10669%2C10643%2C10651%2C21353%2C10715%2C10668%2C10686%2C10676%2C10682%2C20076%2C10683%2C10346%2C5086%2C21367%2C10763%2C10621%2C21355%2C20062%2C20069%2C10661%2C10347%2C10717&broadened=true'"
   ]
  },
  {
   "cell_type": "code",
   "execution_count": 5,
   "metadata": {},
   "outputs": [],
   "source": [
    "def extraer(url):\n",
    "\n",
    "    global table\n",
    "\n",
    "    while True:\n",
    "        driver.get(url)\n",
    "        time.sleep(4)\n",
    "\n",
    "        print('entro')\n",
    "\n",
    "        # paso 2: cookies\n",
    "        time.sleep(3)\n",
    "\n",
    "        try:\n",
    "            aceptar = driver.find_element(By.XPATH, '//*[@id=\"onetrust-accept-btn-handler\"]')\n",
    "            aceptar.click()\n",
    "\n",
    "        except Exception as e:\n",
    "            print(f'no salen las cookies')\n",
    "\n",
    "        # paso 3: obtener tabla\n",
    "\n",
    "        time.sleep(4)\n",
    "\n",
    "        print('0')\n",
    "\n",
    "        cartas = []\n",
    "\n",
    "        try:\n",
    "            for e in range(len(driver.find_elements(By.XPATH, './/div[@class=\"biGQs _P fiohW alXOW NwcxK GzNcM ytVPx UTQMg RnEEZ ngXxk\"]/a'))):\n",
    "                box = driver.find_elements(By.XPATH, './/div[@class=\"biGQs _P fiohW alXOW NwcxK GzNcM ytVPx UTQMg RnEEZ ngXxk\"]/a')[e].get_attribute('href').split('\\n')\n",
    "                cartas.append(box)\n",
    "            print('1')\n",
    "\n",
    "        except Exception as e:\n",
    "            print(f'Algo falló en el paso 3: {e}')\n",
    "\n",
    "\n",
    "        # paso 4: concatenamos las tablas\n",
    "        if cartas:\n",
    "            table += cartas\n",
    "            break  \n",
    "\n",
    "        else:\n",
    "            print('La lista \"cartas\" está vacía, se vuelve a abrir la URL.')"
   ]
  },
  {
   "cell_type": "code",
   "execution_count": 6,
   "metadata": {},
   "outputs": [
    {
     "name": "stdout",
     "output_type": "stream",
     "text": [
      "entro\n",
      "no salen las cookies\n",
      "0\n",
      "1\n",
      "entro\n",
      "no salen las cookies\n",
      "0\n",
      "1\n",
      "entro\n",
      "no salen las cookies\n",
      "0\n",
      "1\n",
      "entro\n",
      "no salen las cookies\n",
      "0\n",
      "1\n",
      "entro\n",
      "no salen las cookies\n",
      "0\n",
      "1\n",
      "La lista \"cartas\" está vacía, se vuelve a abrir la URL.\n",
      "entro\n",
      "no salen las cookies\n",
      "0\n",
      "1\n"
     ]
    }
   ],
   "source": [
    "table = []\n",
    "\n",
    "extraer(url1)\n",
    "extraer(url2)\n",
    "extraer(url3)\n",
    "extraer(url4)\n",
    "extraer(url5)"
   ]
  },
  {
   "cell_type": "code",
   "execution_count": 11,
   "metadata": {},
   "outputs": [],
   "source": [
    "data = pd.DataFrame(table)"
   ]
  },
  {
   "cell_type": "code",
   "execution_count": 8,
   "metadata": {},
   "outputs": [],
   "source": [
    "data.to_csv('./datos/href1.csv', index=False, encoding='utf-8')"
   ]
  },
  {
   "cell_type": "code",
   "execution_count": null,
   "metadata": {},
   "outputs": [],
   "source": [
    "#repetimos con el resto de url"
   ]
  },
  {
   "cell_type": "code",
   "execution_count": 10,
   "metadata": {},
   "outputs": [
    {
     "name": "stdout",
     "output_type": "stream",
     "text": [
      "entro\n",
      "no salen las cookies\n",
      "0\n",
      "1\n",
      "entro\n",
      "no salen las cookies\n",
      "0\n",
      "1\n",
      "entro\n",
      "no salen las cookies\n",
      "0\n",
      "1\n",
      "entro\n",
      "no salen las cookies\n",
      "0\n",
      "1\n",
      "entro\n",
      "no salen las cookies\n",
      "0\n",
      "1\n",
      "entro\n",
      "no salen las cookies\n",
      "0\n",
      "1\n"
     ]
    }
   ],
   "source": [
    "table = []\n",
    "\n",
    "extraer(url6)\n",
    "extraer(url7)\n",
    "extraer(url8)\n",
    "extraer(url9)\n",
    "extraer(url10)\n",
    "extraer(url11)"
   ]
  },
  {
   "cell_type": "code",
   "execution_count": 12,
   "metadata": {},
   "outputs": [],
   "source": [
    "data = pd.DataFrame(table)"
   ]
  },
  {
   "cell_type": "code",
   "execution_count": 14,
   "metadata": {},
   "outputs": [],
   "source": [
    "data.to_csv('./datos/href2.csv', index=False, encoding='utf-8')"
   ]
  }
 ],
 "metadata": {
  "kernelspec": {
   "display_name": "clase",
   "language": "python",
   "name": "python3"
  },
  "language_info": {
   "codemirror_mode": {
    "name": "ipython",
    "version": 3
   },
   "file_extension": ".py",
   "mimetype": "text/x-python",
   "name": "python",
   "nbconvert_exporter": "python",
   "pygments_lexer": "ipython3",
   "version": "3.10.13"
  }
 },
 "nbformat": 4,
 "nbformat_minor": 2
}
