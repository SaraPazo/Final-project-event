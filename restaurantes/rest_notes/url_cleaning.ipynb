{
 "cells": [
  {
   "cell_type": "markdown",
   "metadata": {},
   "source": [
    "### Limpieza URL"
   ]
  },
  {
   "cell_type": "code",
   "execution_count": 1,
   "metadata": {},
   "outputs": [
    {
     "name": "stderr",
     "output_type": "stream",
     "text": [
      "/Users/sarapazopadron/anaconda3/envs/clase/lib/python3.10/site-packages/fuzzywuzzy/fuzz.py:11: UserWarning: Using slow pure-python SequenceMatcher. Install python-Levenshtein to remove this warning\n",
      "  warnings.warn('Using slow pure-python SequenceMatcher. Install python-Levenshtein to remove this warning')\n"
     ]
    }
   ],
   "source": [
    "import requests as req\n",
    "import re\n",
    "import numpy as np\n",
    "import pandas as pd\n",
    "pd.set_option('display.max_columns', None)\n",
    "pd.set_option('display.max_rows', None)\n",
    "\n",
    "from fuzzywuzzy import fuzz\n",
    "\n",
    "import time\n",
    "from tqdm import tqdm\n",
    "import warnings\n",
    "warnings.filterwarnings('ignore')\n",
    "\n",
    "import sys\n",
    "sys.path.append('../src')"
   ]
  },
  {
   "cell_type": "markdown",
   "metadata": {},
   "source": [
    "Importo los csv que contienen las url."
   ]
  },
  {
   "cell_type": "code",
   "execution_count": 2,
   "metadata": {},
   "outputs": [],
   "source": [
    "url1 = pd.read_csv('./datos/href1.csv')\n",
    "url2 = pd.read_csv('./datos/href2.csv')"
   ]
  },
  {
   "cell_type": "code",
   "execution_count": 3,
   "metadata": {},
   "outputs": [
    {
     "data": {
      "text/html": [
       "<div>\n",
       "<style scoped>\n",
       "    .dataframe tbody tr th:only-of-type {\n",
       "        vertical-align: middle;\n",
       "    }\n",
       "\n",
       "    .dataframe tbody tr th {\n",
       "        vertical-align: top;\n",
       "    }\n",
       "\n",
       "    .dataframe thead th {\n",
       "        text-align: right;\n",
       "    }\n",
       "</style>\n",
       "<table border=\"1\" class=\"dataframe\">\n",
       "  <thead>\n",
       "    <tr style=\"text-align: right;\">\n",
       "      <th></th>\n",
       "      <th>0</th>\n",
       "    </tr>\n",
       "  </thead>\n",
       "  <tbody>\n",
       "    <tr>\n",
       "      <th>0</th>\n",
       "      <td>https://www.tripadvisor.es/Restaurant_Review-g...</td>\n",
       "    </tr>\n",
       "    <tr>\n",
       "      <th>1</th>\n",
       "      <td>https://www.tripadvisor.es/Restaurant_Review-g...</td>\n",
       "    </tr>\n",
       "    <tr>\n",
       "      <th>2</th>\n",
       "      <td>https://www.tripadvisor.es/Restaurant_Review-g...</td>\n",
       "    </tr>\n",
       "    <tr>\n",
       "      <th>3</th>\n",
       "      <td>https://www.tripadvisor.es/Restaurant_Review-g...</td>\n",
       "    </tr>\n",
       "    <tr>\n",
       "      <th>4</th>\n",
       "      <td>https://www.tripadvisor.es/Restaurant_Review-g...</td>\n",
       "    </tr>\n",
       "  </tbody>\n",
       "</table>\n",
       "</div>"
      ],
      "text/plain": [
       "                                                   0\n",
       "0  https://www.tripadvisor.es/Restaurant_Review-g...\n",
       "1  https://www.tripadvisor.es/Restaurant_Review-g...\n",
       "2  https://www.tripadvisor.es/Restaurant_Review-g...\n",
       "3  https://www.tripadvisor.es/Restaurant_Review-g...\n",
       "4  https://www.tripadvisor.es/Restaurant_Review-g..."
      ]
     },
     "execution_count": 3,
     "metadata": {},
     "output_type": "execute_result"
    }
   ],
   "source": [
    "url1.head()"
   ]
  },
  {
   "cell_type": "code",
   "execution_count": 4,
   "metadata": {},
   "outputs": [
    {
     "data": {
      "text/html": [
       "<div>\n",
       "<style scoped>\n",
       "    .dataframe tbody tr th:only-of-type {\n",
       "        vertical-align: middle;\n",
       "    }\n",
       "\n",
       "    .dataframe tbody tr th {\n",
       "        vertical-align: top;\n",
       "    }\n",
       "\n",
       "    .dataframe thead th {\n",
       "        text-align: right;\n",
       "    }\n",
       "</style>\n",
       "<table border=\"1\" class=\"dataframe\">\n",
       "  <thead>\n",
       "    <tr style=\"text-align: right;\">\n",
       "      <th></th>\n",
       "      <th>0</th>\n",
       "    </tr>\n",
       "  </thead>\n",
       "  <tbody>\n",
       "    <tr>\n",
       "      <th>0</th>\n",
       "      <td>https://www.tripadvisor.es/Restaurant_Review-g...</td>\n",
       "    </tr>\n",
       "    <tr>\n",
       "      <th>1</th>\n",
       "      <td>https://www.tripadvisor.es/Restaurant_Review-g...</td>\n",
       "    </tr>\n",
       "    <tr>\n",
       "      <th>2</th>\n",
       "      <td>https://www.tripadvisor.es/Restaurant_Review-g...</td>\n",
       "    </tr>\n",
       "    <tr>\n",
       "      <th>3</th>\n",
       "      <td>https://www.tripadvisor.es/Restaurant_Review-g...</td>\n",
       "    </tr>\n",
       "    <tr>\n",
       "      <th>4</th>\n",
       "      <td>https://www.tripadvisor.es/Restaurant_Review-g...</td>\n",
       "    </tr>\n",
       "  </tbody>\n",
       "</table>\n",
       "</div>"
      ],
      "text/plain": [
       "                                                   0\n",
       "0  https://www.tripadvisor.es/Restaurant_Review-g...\n",
       "1  https://www.tripadvisor.es/Restaurant_Review-g...\n",
       "2  https://www.tripadvisor.es/Restaurant_Review-g...\n",
       "3  https://www.tripadvisor.es/Restaurant_Review-g...\n",
       "4  https://www.tripadvisor.es/Restaurant_Review-g..."
      ]
     },
     "execution_count": 4,
     "metadata": {},
     "output_type": "execute_result"
    }
   ],
   "source": [
    "url2.head()"
   ]
  },
  {
   "cell_type": "code",
   "execution_count": 5,
   "metadata": {},
   "outputs": [],
   "source": [
    "url = pd.concat([url1, url2], ignore_index = True)"
   ]
  },
  {
   "cell_type": "code",
   "execution_count": 6,
   "metadata": {},
   "outputs": [
    {
     "data": {
      "text/html": [
       "<div>\n",
       "<style scoped>\n",
       "    .dataframe tbody tr th:only-of-type {\n",
       "        vertical-align: middle;\n",
       "    }\n",
       "\n",
       "    .dataframe tbody tr th {\n",
       "        vertical-align: top;\n",
       "    }\n",
       "\n",
       "    .dataframe thead th {\n",
       "        text-align: right;\n",
       "    }\n",
       "</style>\n",
       "<table border=\"1\" class=\"dataframe\">\n",
       "  <thead>\n",
       "    <tr style=\"text-align: right;\">\n",
       "      <th></th>\n",
       "      <th>0</th>\n",
       "    </tr>\n",
       "  </thead>\n",
       "  <tbody>\n",
       "    <tr>\n",
       "      <th>0</th>\n",
       "      <td>https://www.tripadvisor.es/Restaurant_Review-g...</td>\n",
       "    </tr>\n",
       "    <tr>\n",
       "      <th>1</th>\n",
       "      <td>https://www.tripadvisor.es/Restaurant_Review-g...</td>\n",
       "    </tr>\n",
       "    <tr>\n",
       "      <th>2</th>\n",
       "      <td>https://www.tripadvisor.es/Restaurant_Review-g...</td>\n",
       "    </tr>\n",
       "    <tr>\n",
       "      <th>3</th>\n",
       "      <td>https://www.tripadvisor.es/Restaurant_Review-g...</td>\n",
       "    </tr>\n",
       "    <tr>\n",
       "      <th>4</th>\n",
       "      <td>https://www.tripadvisor.es/Restaurant_Review-g...</td>\n",
       "    </tr>\n",
       "  </tbody>\n",
       "</table>\n",
       "</div>"
      ],
      "text/plain": [
       "                                                   0\n",
       "0  https://www.tripadvisor.es/Restaurant_Review-g...\n",
       "1  https://www.tripadvisor.es/Restaurant_Review-g...\n",
       "2  https://www.tripadvisor.es/Restaurant_Review-g...\n",
       "3  https://www.tripadvisor.es/Restaurant_Review-g...\n",
       "4  https://www.tripadvisor.es/Restaurant_Review-g..."
      ]
     },
     "execution_count": 6,
     "metadata": {},
     "output_type": "execute_result"
    }
   ],
   "source": [
    "url.head()"
   ]
  },
  {
   "cell_type": "code",
   "execution_count": 7,
   "metadata": {},
   "outputs": [
    {
     "data": {
      "text/plain": [
       "30"
      ]
     },
     "execution_count": 7,
     "metadata": {},
     "output_type": "execute_result"
    }
   ],
   "source": [
    "num_duplicates = url.duplicated().sum()\n",
    "num_duplicates"
   ]
  },
  {
   "cell_type": "code",
   "execution_count": 8,
   "metadata": {},
   "outputs": [],
   "source": [
    "url = url.drop_duplicates()"
   ]
  },
  {
   "cell_type": "code",
   "execution_count": 9,
   "metadata": {},
   "outputs": [
    {
     "data": {
      "text/plain": [
       "300"
      ]
     },
     "execution_count": 9,
     "metadata": {},
     "output_type": "execute_result"
    }
   ],
   "source": [
    "len(url)"
   ]
  },
  {
   "cell_type": "markdown",
   "metadata": {},
   "source": [
    "- Voy a intentar unir las URL con sus respectivos restaurantes. \n",
    "- Para ello importo el .csv limpio de restaurantes."
   ]
  },
  {
   "cell_type": "code",
   "execution_count": 10,
   "metadata": {},
   "outputs": [],
   "source": [
    "data_rest = pd.read_csv('./datos/data_rest.csv')"
   ]
  },
  {
   "cell_type": "code",
   "execution_count": 11,
   "metadata": {},
   "outputs": [
    {
     "data": {
      "text/html": [
       "<div>\n",
       "<style scoped>\n",
       "    .dataframe tbody tr th:only-of-type {\n",
       "        vertical-align: middle;\n",
       "    }\n",
       "\n",
       "    .dataframe tbody tr th {\n",
       "        vertical-align: top;\n",
       "    }\n",
       "\n",
       "    .dataframe thead th {\n",
       "        text-align: right;\n",
       "    }\n",
       "</style>\n",
       "<table border=\"1\" class=\"dataframe\">\n",
       "  <thead>\n",
       "    <tr style=\"text-align: right;\">\n",
       "      <th></th>\n",
       "      <th>restaurante</th>\n",
       "      <th>gastronomia</th>\n",
       "      <th>precio</th>\n",
       "      <th>opinion</th>\n",
       "      <th>reseña</th>\n",
       "    </tr>\n",
       "  </thead>\n",
       "  <tbody>\n",
       "    <tr>\n",
       "      <th>0</th>\n",
       "      <td>Yakiniku Rikyu</td>\n",
       "      <td>Japonesa</td>\n",
       "      <td>Medio</td>\n",
       "      <td>267 opiniones</td>\n",
       "      <td>Patrocinado</td>\n",
       "    </tr>\n",
       "    <tr>\n",
       "      <th>1</th>\n",
       "      <td>marmitón</td>\n",
       "      <td>Mediterránea</td>\n",
       "      <td>Medio</td>\n",
       "      <td>89 opiniones</td>\n",
       "      <td>MICHELIN</td>\n",
       "    </tr>\n",
       "    <tr>\n",
       "      <th>2</th>\n",
       "      <td>Vinoteca Moratín</td>\n",
       "      <td>Internacional</td>\n",
       "      <td>Medio</td>\n",
       "      <td>1221 opiniones</td>\n",
       "      <td>MICHELIN</td>\n",
       "    </tr>\n",
       "    <tr>\n",
       "      <th>3</th>\n",
       "      <td>Pilar Akaneya</td>\n",
       "      <td>Japonesa</td>\n",
       "      <td>Alto</td>\n",
       "      <td>276 opiniones</td>\n",
       "      <td>MICHELIN</td>\n",
       "    </tr>\n",
       "    <tr>\n",
       "      <th>4</th>\n",
       "      <td>Gioia</td>\n",
       "      <td>Italiana</td>\n",
       "      <td>Medio</td>\n",
       "      <td>387 opiniones</td>\n",
       "      <td>MICHELIN</td>\n",
       "    </tr>\n",
       "  </tbody>\n",
       "</table>\n",
       "</div>"
      ],
      "text/plain": [
       "        restaurante    gastronomia precio         opinion       reseña\n",
       "0    Yakiniku Rikyu       Japonesa  Medio   267 opiniones  Patrocinado\n",
       "1          marmitón   Mediterránea  Medio    89 opiniones     MICHELIN\n",
       "2  Vinoteca Moratín  Internacional  Medio  1221 opiniones     MICHELIN\n",
       "3     Pilar Akaneya       Japonesa   Alto   276 opiniones     MICHELIN\n",
       "4             Gioia       Italiana  Medio   387 opiniones     MICHELIN"
      ]
     },
     "execution_count": 11,
     "metadata": {},
     "output_type": "execute_result"
    }
   ],
   "source": [
    "data_rest.head()"
   ]
  },
  {
   "cell_type": "code",
   "execution_count": 12,
   "metadata": {},
   "outputs": [
    {
     "data": {
      "text/plain": [
       "300"
      ]
     },
     "execution_count": 12,
     "metadata": {},
     "output_type": "execute_result"
    }
   ],
   "source": [
    "len(data_rest)"
   ]
  },
  {
   "cell_type": "code",
   "execution_count": 13,
   "metadata": {},
   "outputs": [
    {
     "data": {
      "text/plain": [
       "0                      Bardero\n",
       "1     Pizzart_Villa_Fuencarral\n",
       "2            Ornella_Velazquez\n",
       "3    Lettera_Trattoria_Moderna\n",
       "4      Pizzart_Villa_Canalejas\n",
       "Name: restaurante, dtype: object"
      ]
     },
     "execution_count": 13,
     "metadata": {},
     "output_type": "execute_result"
    }
   ],
   "source": [
    "# Extraer el nombre del restaurante de la URL\n",
    "url['restaurante'] = url['0'].str.extract(r'-Reviews-(.*)-')\n",
    "\n",
    "url['restaurante'].head()"
   ]
  },
  {
   "cell_type": "code",
   "execution_count": 14,
   "metadata": {},
   "outputs": [
    {
     "data": {
      "text/html": [
       "<div>\n",
       "<style scoped>\n",
       "    .dataframe tbody tr th:only-of-type {\n",
       "        vertical-align: middle;\n",
       "    }\n",
       "\n",
       "    .dataframe tbody tr th {\n",
       "        vertical-align: top;\n",
       "    }\n",
       "\n",
       "    .dataframe thead th {\n",
       "        text-align: right;\n",
       "    }\n",
       "</style>\n",
       "<table border=\"1\" class=\"dataframe\">\n",
       "  <thead>\n",
       "    <tr style=\"text-align: right;\">\n",
       "      <th></th>\n",
       "      <th>0</th>\n",
       "      <th>restaurante</th>\n",
       "    </tr>\n",
       "  </thead>\n",
       "  <tbody>\n",
       "    <tr>\n",
       "      <th>0</th>\n",
       "      <td>https://www.tripadvisor.es/Restaurant_Review-g...</td>\n",
       "      <td>Bardero</td>\n",
       "    </tr>\n",
       "    <tr>\n",
       "      <th>1</th>\n",
       "      <td>https://www.tripadvisor.es/Restaurant_Review-g...</td>\n",
       "      <td>Pizzart_Villa_Fuencarral</td>\n",
       "    </tr>\n",
       "    <tr>\n",
       "      <th>2</th>\n",
       "      <td>https://www.tripadvisor.es/Restaurant_Review-g...</td>\n",
       "      <td>Ornella_Velazquez</td>\n",
       "    </tr>\n",
       "    <tr>\n",
       "      <th>3</th>\n",
       "      <td>https://www.tripadvisor.es/Restaurant_Review-g...</td>\n",
       "      <td>Lettera_Trattoria_Moderna</td>\n",
       "    </tr>\n",
       "    <tr>\n",
       "      <th>4</th>\n",
       "      <td>https://www.tripadvisor.es/Restaurant_Review-g...</td>\n",
       "      <td>Pizzart_Villa_Canalejas</td>\n",
       "    </tr>\n",
       "  </tbody>\n",
       "</table>\n",
       "</div>"
      ],
      "text/plain": [
       "                                                   0  \\\n",
       "0  https://www.tripadvisor.es/Restaurant_Review-g...   \n",
       "1  https://www.tripadvisor.es/Restaurant_Review-g...   \n",
       "2  https://www.tripadvisor.es/Restaurant_Review-g...   \n",
       "3  https://www.tripadvisor.es/Restaurant_Review-g...   \n",
       "4  https://www.tripadvisor.es/Restaurant_Review-g...   \n",
       "\n",
       "                 restaurante  \n",
       "0                    Bardero  \n",
       "1   Pizzart_Villa_Fuencarral  \n",
       "2          Ornella_Velazquez  \n",
       "3  Lettera_Trattoria_Moderna  \n",
       "4    Pizzart_Villa_Canalejas  "
      ]
     },
     "execution_count": 14,
     "metadata": {},
     "output_type": "execute_result"
    }
   ],
   "source": [
    "url.head()"
   ]
  },
  {
   "cell_type": "code",
   "execution_count": 15,
   "metadata": {},
   "outputs": [],
   "source": [
    "\n",
    "# Crear una función para encontrar la mejor coincidencia\n",
    "\n",
    "def find_best_match(restaurante, url_restaurantes):\n",
    "    return max(url_restaurantes, key=lambda x: fuzz.ratio(restaurante, x))\n",
    "\n",
    "# Aplicar la función para encontrar la mejor coincidencia para cada restaurante en data_rest\n",
    "data_rest['best_match'] = data_rest['restaurante'].apply(find_best_match, url_restaurantes=url['restaurante'])"
   ]
  },
  {
   "cell_type": "code",
   "execution_count": 16,
   "metadata": {},
   "outputs": [
    {
     "data": {
      "text/plain": [
       "0              Yakiniku_Rikyu\n",
       "1                    Marmiton\n",
       "2    Moratin_Vinoteca_Bistrot\n",
       "3               Pilar_Akaneya\n",
       "4                       Gioia\n",
       "Name: best_match, dtype: object"
      ]
     },
     "execution_count": 16,
     "metadata": {},
     "output_type": "execute_result"
    }
   ],
   "source": [
    "data_rest['best_match'].head()"
   ]
  },
  {
   "cell_type": "code",
   "execution_count": 17,
   "metadata": {},
   "outputs": [
    {
     "data": {
      "text/plain": [
       "300"
      ]
     },
     "execution_count": 17,
     "metadata": {},
     "output_type": "execute_result"
    }
   ],
   "source": [
    "len(data_rest['best_match'])"
   ]
  },
  {
   "cell_type": "code",
   "execution_count": 18,
   "metadata": {},
   "outputs": [],
   "source": [
    "# Unir los DataFrames por la mejor coincidencia\n",
    "\n",
    "merged_data = data_rest.merge(url, left_on='best_match', right_on='restaurante', how='left')"
   ]
  },
  {
   "cell_type": "code",
   "execution_count": 19,
   "metadata": {},
   "outputs": [
    {
     "data": {
      "text/html": [
       "<div>\n",
       "<style scoped>\n",
       "    .dataframe tbody tr th:only-of-type {\n",
       "        vertical-align: middle;\n",
       "    }\n",
       "\n",
       "    .dataframe tbody tr th {\n",
       "        vertical-align: top;\n",
       "    }\n",
       "\n",
       "    .dataframe thead th {\n",
       "        text-align: right;\n",
       "    }\n",
       "</style>\n",
       "<table border=\"1\" class=\"dataframe\">\n",
       "  <thead>\n",
       "    <tr style=\"text-align: right;\">\n",
       "      <th></th>\n",
       "      <th>restaurante_x</th>\n",
       "      <th>gastronomia</th>\n",
       "      <th>precio</th>\n",
       "      <th>opinion</th>\n",
       "      <th>reseña</th>\n",
       "      <th>best_match</th>\n",
       "      <th>0</th>\n",
       "      <th>restaurante_y</th>\n",
       "    </tr>\n",
       "  </thead>\n",
       "  <tbody>\n",
       "    <tr>\n",
       "      <th>0</th>\n",
       "      <td>Yakiniku Rikyu</td>\n",
       "      <td>Japonesa</td>\n",
       "      <td>Medio</td>\n",
       "      <td>267 opiniones</td>\n",
       "      <td>Patrocinado</td>\n",
       "      <td>Yakiniku_Rikyu</td>\n",
       "      <td>https://www.tripadvisor.es/Restaurant_Review-g...</td>\n",
       "      <td>Yakiniku_Rikyu</td>\n",
       "    </tr>\n",
       "    <tr>\n",
       "      <th>1</th>\n",
       "      <td>marmitón</td>\n",
       "      <td>Mediterránea</td>\n",
       "      <td>Medio</td>\n",
       "      <td>89 opiniones</td>\n",
       "      <td>MICHELIN</td>\n",
       "      <td>Marmiton</td>\n",
       "      <td>https://www.tripadvisor.es/Restaurant_Review-g...</td>\n",
       "      <td>Marmiton</td>\n",
       "    </tr>\n",
       "    <tr>\n",
       "      <th>2</th>\n",
       "      <td>Vinoteca Moratín</td>\n",
       "      <td>Internacional</td>\n",
       "      <td>Medio</td>\n",
       "      <td>1221 opiniones</td>\n",
       "      <td>MICHELIN</td>\n",
       "      <td>Moratin_Vinoteca_Bistrot</td>\n",
       "      <td>https://www.tripadvisor.es/Restaurant_Review-g...</td>\n",
       "      <td>Moratin_Vinoteca_Bistrot</td>\n",
       "    </tr>\n",
       "    <tr>\n",
       "      <th>3</th>\n",
       "      <td>Pilar Akaneya</td>\n",
       "      <td>Japonesa</td>\n",
       "      <td>Alto</td>\n",
       "      <td>276 opiniones</td>\n",
       "      <td>MICHELIN</td>\n",
       "      <td>Pilar_Akaneya</td>\n",
       "      <td>https://www.tripadvisor.es/Restaurant_Review-g...</td>\n",
       "      <td>Pilar_Akaneya</td>\n",
       "    </tr>\n",
       "    <tr>\n",
       "      <th>4</th>\n",
       "      <td>Gioia</td>\n",
       "      <td>Italiana</td>\n",
       "      <td>Medio</td>\n",
       "      <td>387 opiniones</td>\n",
       "      <td>MICHELIN</td>\n",
       "      <td>Gioia</td>\n",
       "      <td>https://www.tripadvisor.es/Restaurant_Review-g...</td>\n",
       "      <td>Gioia</td>\n",
       "    </tr>\n",
       "  </tbody>\n",
       "</table>\n",
       "</div>"
      ],
      "text/plain": [
       "      restaurante_x    gastronomia precio         opinion       reseña  \\\n",
       "0    Yakiniku Rikyu       Japonesa  Medio   267 opiniones  Patrocinado   \n",
       "1          marmitón   Mediterránea  Medio    89 opiniones     MICHELIN   \n",
       "2  Vinoteca Moratín  Internacional  Medio  1221 opiniones     MICHELIN   \n",
       "3     Pilar Akaneya       Japonesa   Alto   276 opiniones     MICHELIN   \n",
       "4             Gioia       Italiana  Medio   387 opiniones     MICHELIN   \n",
       "\n",
       "                 best_match  \\\n",
       "0            Yakiniku_Rikyu   \n",
       "1                  Marmiton   \n",
       "2  Moratin_Vinoteca_Bistrot   \n",
       "3             Pilar_Akaneya   \n",
       "4                     Gioia   \n",
       "\n",
       "                                                   0             restaurante_y  \n",
       "0  https://www.tripadvisor.es/Restaurant_Review-g...            Yakiniku_Rikyu  \n",
       "1  https://www.tripadvisor.es/Restaurant_Review-g...                  Marmiton  \n",
       "2  https://www.tripadvisor.es/Restaurant_Review-g...  Moratin_Vinoteca_Bistrot  \n",
       "3  https://www.tripadvisor.es/Restaurant_Review-g...             Pilar_Akaneya  \n",
       "4  https://www.tripadvisor.es/Restaurant_Review-g...                     Gioia  "
      ]
     },
     "execution_count": 19,
     "metadata": {},
     "output_type": "execute_result"
    }
   ],
   "source": [
    "merged_data.head()"
   ]
  },
  {
   "cell_type": "code",
   "execution_count": 20,
   "metadata": {},
   "outputs": [],
   "source": [
    "\n",
    "# Eliminar columnas innecesarias\n",
    "merged_data.drop(['best_match', 'restaurante_y'], axis=1, inplace=True)\n",
    "merged_data.rename(columns={'restaurante_x': 'restaurante'}, inplace=True)\n"
   ]
  },
  {
   "cell_type": "code",
   "execution_count": 21,
   "metadata": {},
   "outputs": [],
   "source": [
    "merged_data.rename(columns={'0': 'url'}, inplace=True)"
   ]
  },
  {
   "cell_type": "code",
   "execution_count": 22,
   "metadata": {},
   "outputs": [
    {
     "data": {
      "text/html": [
       "<div>\n",
       "<style scoped>\n",
       "    .dataframe tbody tr th:only-of-type {\n",
       "        vertical-align: middle;\n",
       "    }\n",
       "\n",
       "    .dataframe tbody tr th {\n",
       "        vertical-align: top;\n",
       "    }\n",
       "\n",
       "    .dataframe thead th {\n",
       "        text-align: right;\n",
       "    }\n",
       "</style>\n",
       "<table border=\"1\" class=\"dataframe\">\n",
       "  <thead>\n",
       "    <tr style=\"text-align: right;\">\n",
       "      <th></th>\n",
       "      <th>restaurante</th>\n",
       "      <th>gastronomia</th>\n",
       "      <th>precio</th>\n",
       "      <th>opinion</th>\n",
       "      <th>reseña</th>\n",
       "      <th>url</th>\n",
       "    </tr>\n",
       "  </thead>\n",
       "  <tbody>\n",
       "    <tr>\n",
       "      <th>0</th>\n",
       "      <td>Yakiniku Rikyu</td>\n",
       "      <td>Japonesa</td>\n",
       "      <td>Medio</td>\n",
       "      <td>267 opiniones</td>\n",
       "      <td>Patrocinado</td>\n",
       "      <td>https://www.tripadvisor.es/Restaurant_Review-g...</td>\n",
       "    </tr>\n",
       "    <tr>\n",
       "      <th>1</th>\n",
       "      <td>marmitón</td>\n",
       "      <td>Mediterránea</td>\n",
       "      <td>Medio</td>\n",
       "      <td>89 opiniones</td>\n",
       "      <td>MICHELIN</td>\n",
       "      <td>https://www.tripadvisor.es/Restaurant_Review-g...</td>\n",
       "    </tr>\n",
       "    <tr>\n",
       "      <th>2</th>\n",
       "      <td>Vinoteca Moratín</td>\n",
       "      <td>Internacional</td>\n",
       "      <td>Medio</td>\n",
       "      <td>1221 opiniones</td>\n",
       "      <td>MICHELIN</td>\n",
       "      <td>https://www.tripadvisor.es/Restaurant_Review-g...</td>\n",
       "    </tr>\n",
       "    <tr>\n",
       "      <th>3</th>\n",
       "      <td>Pilar Akaneya</td>\n",
       "      <td>Japonesa</td>\n",
       "      <td>Alto</td>\n",
       "      <td>276 opiniones</td>\n",
       "      <td>MICHELIN</td>\n",
       "      <td>https://www.tripadvisor.es/Restaurant_Review-g...</td>\n",
       "    </tr>\n",
       "    <tr>\n",
       "      <th>4</th>\n",
       "      <td>Gioia</td>\n",
       "      <td>Italiana</td>\n",
       "      <td>Medio</td>\n",
       "      <td>387 opiniones</td>\n",
       "      <td>MICHELIN</td>\n",
       "      <td>https://www.tripadvisor.es/Restaurant_Review-g...</td>\n",
       "    </tr>\n",
       "  </tbody>\n",
       "</table>\n",
       "</div>"
      ],
      "text/plain": [
       "        restaurante    gastronomia precio         opinion       reseña  \\\n",
       "0    Yakiniku Rikyu       Japonesa  Medio   267 opiniones  Patrocinado   \n",
       "1          marmitón   Mediterránea  Medio    89 opiniones     MICHELIN   \n",
       "2  Vinoteca Moratín  Internacional  Medio  1221 opiniones     MICHELIN   \n",
       "3     Pilar Akaneya       Japonesa   Alto   276 opiniones     MICHELIN   \n",
       "4             Gioia       Italiana  Medio   387 opiniones     MICHELIN   \n",
       "\n",
       "                                                 url  \n",
       "0  https://www.tripadvisor.es/Restaurant_Review-g...  \n",
       "1  https://www.tripadvisor.es/Restaurant_Review-g...  \n",
       "2  https://www.tripadvisor.es/Restaurant_Review-g...  \n",
       "3  https://www.tripadvisor.es/Restaurant_Review-g...  \n",
       "4  https://www.tripadvisor.es/Restaurant_Review-g...  "
      ]
     },
     "execution_count": 22,
     "metadata": {},
     "output_type": "execute_result"
    }
   ],
   "source": [
    "merged_data.head()"
   ]
  },
  {
   "cell_type": "code",
   "execution_count": 29,
   "metadata": {},
   "outputs": [
    {
     "data": {
      "text/plain": [
       "306"
      ]
     },
     "execution_count": 29,
     "metadata": {},
     "output_type": "execute_result"
    }
   ],
   "source": [
    "len(merged_data)"
   ]
  },
  {
   "cell_type": "code",
   "execution_count": 28,
   "metadata": {},
   "outputs": [
    {
     "data": {
      "text/html": [
       "<div>\n",
       "<style scoped>\n",
       "    .dataframe tbody tr th:only-of-type {\n",
       "        vertical-align: middle;\n",
       "    }\n",
       "\n",
       "    .dataframe tbody tr th {\n",
       "        vertical-align: top;\n",
       "    }\n",
       "\n",
       "    .dataframe thead th {\n",
       "        text-align: right;\n",
       "    }\n",
       "</style>\n",
       "<table border=\"1\" class=\"dataframe\">\n",
       "  <thead>\n",
       "    <tr style=\"text-align: right;\">\n",
       "      <th></th>\n",
       "      <th>restaurante</th>\n",
       "      <th>gastronomia</th>\n",
       "      <th>precio</th>\n",
       "      <th>opinion</th>\n",
       "      <th>reseña</th>\n",
       "      <th>url</th>\n",
       "    </tr>\n",
       "  </thead>\n",
       "  <tbody>\n",
       "    <tr>\n",
       "      <th>0</th>\n",
       "      <td>Yakiniku Rikyu</td>\n",
       "      <td>Japonesa</td>\n",
       "      <td>Medio</td>\n",
       "      <td>267 opiniones</td>\n",
       "      <td>Patrocinado</td>\n",
       "      <td>https://www.tripadvisor.es/Restaurant_Review-g...</td>\n",
       "    </tr>\n",
       "    <tr>\n",
       "      <th>1</th>\n",
       "      <td>marmitón</td>\n",
       "      <td>Mediterránea</td>\n",
       "      <td>Medio</td>\n",
       "      <td>89 opiniones</td>\n",
       "      <td>MICHELIN</td>\n",
       "      <td>https://www.tripadvisor.es/Restaurant_Review-g...</td>\n",
       "    </tr>\n",
       "    <tr>\n",
       "      <th>2</th>\n",
       "      <td>Vinoteca Moratín</td>\n",
       "      <td>Internacional</td>\n",
       "      <td>Medio</td>\n",
       "      <td>1221 opiniones</td>\n",
       "      <td>MICHELIN</td>\n",
       "      <td>https://www.tripadvisor.es/Restaurant_Review-g...</td>\n",
       "    </tr>\n",
       "    <tr>\n",
       "      <th>3</th>\n",
       "      <td>Pilar Akaneya</td>\n",
       "      <td>Japonesa</td>\n",
       "      <td>Alto</td>\n",
       "      <td>276 opiniones</td>\n",
       "      <td>MICHELIN</td>\n",
       "      <td>https://www.tripadvisor.es/Restaurant_Review-g...</td>\n",
       "    </tr>\n",
       "    <tr>\n",
       "      <th>4</th>\n",
       "      <td>Gioia</td>\n",
       "      <td>Italiana</td>\n",
       "      <td>Medio</td>\n",
       "      <td>387 opiniones</td>\n",
       "      <td>MICHELIN</td>\n",
       "      <td>https://www.tripadvisor.es/Restaurant_Review-g...</td>\n",
       "    </tr>\n",
       "  </tbody>\n",
       "</table>\n",
       "</div>"
      ],
      "text/plain": [
       "        restaurante    gastronomia precio         opinion       reseña  \\\n",
       "0    Yakiniku Rikyu       Japonesa  Medio   267 opiniones  Patrocinado   \n",
       "1          marmitón   Mediterránea  Medio    89 opiniones     MICHELIN   \n",
       "2  Vinoteca Moratín  Internacional  Medio  1221 opiniones     MICHELIN   \n",
       "3     Pilar Akaneya       Japonesa   Alto   276 opiniones     MICHELIN   \n",
       "4             Gioia       Italiana  Medio   387 opiniones     MICHELIN   \n",
       "\n",
       "                                                 url  \n",
       "0  https://www.tripadvisor.es/Restaurant_Review-g...  \n",
       "1  https://www.tripadvisor.es/Restaurant_Review-g...  \n",
       "2  https://www.tripadvisor.es/Restaurant_Review-g...  \n",
       "3  https://www.tripadvisor.es/Restaurant_Review-g...  \n",
       "4  https://www.tripadvisor.es/Restaurant_Review-g...  "
      ]
     },
     "execution_count": 28,
     "metadata": {},
     "output_type": "execute_result"
    }
   ],
   "source": [
    "merged_data.head()"
   ]
  },
  {
   "cell_type": "code",
   "execution_count": 30,
   "metadata": {},
   "outputs": [
    {
     "data": {
      "text/plain": [
       "18"
      ]
     },
     "execution_count": 30,
     "metadata": {},
     "output_type": "execute_result"
    }
   ],
   "source": [
    "num_duplicates = merged_data.url.duplicated().sum()\n",
    "num_duplicates"
   ]
  },
  {
   "cell_type": "code",
   "execution_count": 31,
   "metadata": {},
   "outputs": [],
   "source": [
    "merged_data_no_duplicates = merged_data.drop_duplicates(subset='url', keep='first')"
   ]
  },
  {
   "cell_type": "code",
   "execution_count": 32,
   "metadata": {},
   "outputs": [
    {
     "data": {
      "text/plain": [
       "288"
      ]
     },
     "execution_count": 32,
     "metadata": {},
     "output_type": "execute_result"
    }
   ],
   "source": [
    "len(merged_data_no_duplicates)"
   ]
  },
  {
   "cell_type": "code",
   "execution_count": 33,
   "metadata": {},
   "outputs": [
    {
     "data": {
      "text/html": [
       "<div>\n",
       "<style scoped>\n",
       "    .dataframe tbody tr th:only-of-type {\n",
       "        vertical-align: middle;\n",
       "    }\n",
       "\n",
       "    .dataframe tbody tr th {\n",
       "        vertical-align: top;\n",
       "    }\n",
       "\n",
       "    .dataframe thead th {\n",
       "        text-align: right;\n",
       "    }\n",
       "</style>\n",
       "<table border=\"1\" class=\"dataframe\">\n",
       "  <thead>\n",
       "    <tr style=\"text-align: right;\">\n",
       "      <th></th>\n",
       "      <th>restaurante</th>\n",
       "      <th>gastronomia</th>\n",
       "      <th>precio</th>\n",
       "      <th>opinion</th>\n",
       "      <th>reseña</th>\n",
       "      <th>url</th>\n",
       "    </tr>\n",
       "  </thead>\n",
       "  <tbody>\n",
       "    <tr>\n",
       "      <th>0</th>\n",
       "      <td>Yakiniku Rikyu</td>\n",
       "      <td>Japonesa</td>\n",
       "      <td>Medio</td>\n",
       "      <td>267 opiniones</td>\n",
       "      <td>Patrocinado</td>\n",
       "      <td>https://www.tripadvisor.es/Restaurant_Review-g...</td>\n",
       "    </tr>\n",
       "    <tr>\n",
       "      <th>1</th>\n",
       "      <td>marmitón</td>\n",
       "      <td>Mediterránea</td>\n",
       "      <td>Medio</td>\n",
       "      <td>89 opiniones</td>\n",
       "      <td>MICHELIN</td>\n",
       "      <td>https://www.tripadvisor.es/Restaurant_Review-g...</td>\n",
       "    </tr>\n",
       "    <tr>\n",
       "      <th>2</th>\n",
       "      <td>Vinoteca Moratín</td>\n",
       "      <td>Internacional</td>\n",
       "      <td>Medio</td>\n",
       "      <td>1221 opiniones</td>\n",
       "      <td>MICHELIN</td>\n",
       "      <td>https://www.tripadvisor.es/Restaurant_Review-g...</td>\n",
       "    </tr>\n",
       "    <tr>\n",
       "      <th>3</th>\n",
       "      <td>Pilar Akaneya</td>\n",
       "      <td>Japonesa</td>\n",
       "      <td>Alto</td>\n",
       "      <td>276 opiniones</td>\n",
       "      <td>MICHELIN</td>\n",
       "      <td>https://www.tripadvisor.es/Restaurant_Review-g...</td>\n",
       "    </tr>\n",
       "    <tr>\n",
       "      <th>4</th>\n",
       "      <td>Gioia</td>\n",
       "      <td>Italiana</td>\n",
       "      <td>Medio</td>\n",
       "      <td>387 opiniones</td>\n",
       "      <td>MICHELIN</td>\n",
       "      <td>https://www.tripadvisor.es/Restaurant_Review-g...</td>\n",
       "    </tr>\n",
       "  </tbody>\n",
       "</table>\n",
       "</div>"
      ],
      "text/plain": [
       "        restaurante    gastronomia precio         opinion       reseña  \\\n",
       "0    Yakiniku Rikyu       Japonesa  Medio   267 opiniones  Patrocinado   \n",
       "1          marmitón   Mediterránea  Medio    89 opiniones     MICHELIN   \n",
       "2  Vinoteca Moratín  Internacional  Medio  1221 opiniones     MICHELIN   \n",
       "3     Pilar Akaneya       Japonesa   Alto   276 opiniones     MICHELIN   \n",
       "4             Gioia       Italiana  Medio   387 opiniones     MICHELIN   \n",
       "\n",
       "                                                 url  \n",
       "0  https://www.tripadvisor.es/Restaurant_Review-g...  \n",
       "1  https://www.tripadvisor.es/Restaurant_Review-g...  \n",
       "2  https://www.tripadvisor.es/Restaurant_Review-g...  \n",
       "3  https://www.tripadvisor.es/Restaurant_Review-g...  \n",
       "4  https://www.tripadvisor.es/Restaurant_Review-g...  "
      ]
     },
     "execution_count": 33,
     "metadata": {},
     "output_type": "execute_result"
    }
   ],
   "source": [
    "merged_data_no_duplicates.head()"
   ]
  },
  {
   "cell_type": "code",
   "execution_count": 34,
   "metadata": {},
   "outputs": [],
   "source": [
    "reserva = merged_data_no_duplicates.copy()"
   ]
  },
  {
   "cell_type": "code",
   "execution_count": 35,
   "metadata": {},
   "outputs": [],
   "source": [
    "reserva.to_csv('../restaurantes/datos/reserva.csv', index=False, encoding='utf-8')"
   ]
  }
 ],
 "metadata": {
  "kernelspec": {
   "display_name": "clase",
   "language": "python",
   "name": "python3"
  },
  "language_info": {
   "codemirror_mode": {
    "name": "ipython",
    "version": 3
   },
   "file_extension": ".py",
   "mimetype": "text/x-python",
   "name": "python",
   "nbconvert_exporter": "python",
   "pygments_lexer": "ipython3",
   "version": "3.10.13"
  }
 },
 "nbformat": 4,
 "nbformat_minor": 2
}
