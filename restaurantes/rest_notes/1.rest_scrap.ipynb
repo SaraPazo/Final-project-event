{
 "cells": [
  {
   "cell_type": "markdown",
   "id": "8903be58",
   "metadata": {},
   "source": [
    "## Data Scraping - tripadvisor.com"
   ]
  },
  {
   "cell_type": "code",
   "execution_count": null,
   "id": "60f7058a",
   "metadata": {},
   "outputs": [],
   "source": [
    "#pip install tqdm"
   ]
  },
  {
   "cell_type": "code",
   "execution_count": 2,
   "id": "daed67ae",
   "metadata": {},
   "outputs": [],
   "source": [
    "import re\n",
    "import statistics as stats\n",
    "import requests as req\n",
    "import numpy as np\n",
    "import pandas as pd\n",
    "pd.set_option('display.max_columns', None)\n",
    "pd.set_option('display.max_rows', None)\n",
    "\n",
    "\n",
    "import feedparser\n",
    "\n",
    "from selenium import webdriver\n",
    "from selenium.webdriver.common.keys import Keys\n",
    "from webdriver_manager.chrome import ChromeDriverManager\n",
    "from selenium.webdriver.support.ui import WebDriverWait\n",
    "from selenium.webdriver.support import expected_conditions as EC\n",
    "from selenium.webdriver import ActionChains as AC   # acciones encadenadas\n",
    "from selenium.webdriver.common.by import By\n",
    "from selenium.webdriver.chrome.options import Options\n",
    "\n",
    "\n",
    "\n",
    "import tqdm\n",
    "from bs4 import BeautifulSoup\n",
    "import time\n",
    "import re\n",
    "import json\n",
    "\n",
    "import warnings\n",
    "warnings.filterwarnings('ignore')\n",
    "\n",
    "import sys\n",
    "sys.path.append('../src')\n",
    "\n",
    "from pymongo import MongoClient"
   ]
  },
  {
   "cell_type": "code",
   "execution_count": 3,
   "id": "45a618b8",
   "metadata": {},
   "outputs": [],
   "source": [
    "options=Options()\n",
    "options.add_experimental_option('excludeSwitches', ['enable-automation'])\n",
    "options.add_experimental_option('useAutomationExtension', False)\n",
    "options.add_argument(\"--remote-allow-origins=*\")\n",
    "options.add_argument(\"user-data-dir=cookies\")\n",
    "#options.add_argument('--headless')                 #Habilitar si no queremos ver la ventana\n",
    "options.add_experimental_option(\"detach\", True)    #Esta opción corrige el error de cierre repentino\n",
    "options.add_argument('--start-minimized')\n",
    "options.add_argument('--disable-gpu')\n",
    "options.add_argument('--disable-dev-shm-usage')\n",
    "options.add_argument('--no-sandbox')\n",
    "options.add_argument('--disable-extensions')\n",
    "options.add_argument('--disable-infobars')"
   ]
  },
  {
   "cell_type": "code",
   "execution_count": 3,
   "id": "eb1ed7bc",
   "metadata": {},
   "outputs": [],
   "source": [
    "driver = webdriver.Chrome(options=options)    # abre una ventana de chrome "
   ]
  },
  {
   "cell_type": "markdown",
   "id": "79ab65a7",
   "metadata": {},
   "source": [
    "driver.get('https://www.tripadvisor.es/FindRestaurants?geo=187514&cuisines=10655%2C10649%2C10654%2C10642%2C10640%2C10659%2C4617%2C10670%2C10679%2C10646%2C10648%2C9908%2C10671%2C5473%2C10641%2C10653%2C10639%2C5379%2C5110%2C10345%2C10669%2C10643%2C10651%2C21353%2C10715%2C10668%2C10686%2C10676%2C10682%2C20076%2C10683%2C10346%2C5086%2C21367%2C10763%2C10621%2C21355%2C20062%2C20069%2C10661%2C10347%2C10717&broadened=true')"
   ]
  },
  {
   "cell_type": "markdown",
   "id": "1bdf120f",
   "metadata": {},
   "source": [
    "Tras importar las librerías necesarias y ejecutar las opciones, doy paso a retirar las cookies del driver que voy a utilizar. \n",
    "- Al habilitar la opcion que mantiene las cookies eliminadas, solamente ejecutamos el siguiente webdriver igualando options a options y ya nos mantendrá el driver sin las cookies."
   ]
  },
  {
   "cell_type": "markdown",
   "id": "e687ce92",
   "metadata": {},
   "source": [
    "#### 3. Empezamos el scrapeo"
   ]
  },
  {
   "cell_type": "markdown",
   "id": "f8584a25",
   "metadata": {},
   "source": [
    "Creo una funcion que me vale para la "
   ]
  },
  {
   "cell_type": "code",
   "execution_count": 5,
   "id": "76f01563",
   "metadata": {},
   "outputs": [],
   "source": [
    "def extraer(url):\n",
    "\n",
    "    global table\n",
    "\n",
    "    while True:\n",
    "        driver.get(url)\n",
    "        time.sleep(4)\n",
    "\n",
    "        print('entro')\n",
    "\n",
    "        # paso 2: cookies\n",
    "        time.sleep(3)\n",
    "\n",
    "        try:\n",
    "            aceptar = driver.find_element(By.XPATH, '//*[@id=\"onetrust-accept-btn-handler\"]')\n",
    "            aceptar.click()\n",
    "\n",
    "        except Exception as e:\n",
    "            print(f'no salen las cookies')\n",
    "\n",
    "        # paso 3: obtener tabla\n",
    "\n",
    "        time.sleep(4)\n",
    "\n",
    "        print('0')\n",
    "\n",
    "        cartas = []\n",
    "\n",
    "        try:\n",
    "            for e in range(len(driver.find_elements(By.XPATH, './/div[@class=\"yJIls z y M0\"]'))):\n",
    "                box = driver.find_elements(By.XPATH, './/div[@class=\"yJIls z y M0\"]')[e].text.split('\\n')\n",
    "                cartas.append(box)\n",
    "\n",
    "            print('1')\n",
    "\n",
    "        except Exception as e:\n",
    "            print(f'Algo falló en el paso 3: {e}')\n",
    "\n",
    "        # paso 4: concatenamos las tablas\n",
    "        if cartas:\n",
    "            table += cartas\n",
    "            break  \n",
    "\n",
    "        else:\n",
    "            print('La lista \"cartas\" está vacía, se vuelve a abrir la URL.')"
   ]
  },
  {
   "cell_type": "markdown",
   "id": "1165a945",
   "metadata": {},
   "source": [
    "Hago una selección del tipo de establecimiento en tripadvisor, y de aquí saco algunas de las url que me interesan. \n",
    "- Intento crear una muestra.  "
   ]
  },
  {
   "cell_type": "code",
   "execution_count": null,
   "id": "66e8c3a8",
   "metadata": {},
   "outputs": [],
   "source": [
    "url1 ='https://www.tripadvisor.es/FindRestaurants?geo=187514&cuisines=10655%2C10649%2C10654%2C10642%2C10640%2C10659%2C4617%2C10670%2C10679%2C10646%2C10648%2C9908%2C10671%2C5473%2C10641%2C10653%2C10639%2C5379%2C5110%2C10345%2C10669%2C10643%2C10651%2C21353%2C10715%2C10668%2C10686%2C10676%2C10682%2C20076%2C10683%2C10346%2C5086%2C21367%2C10763%2C10621%2C21355%2C20062%2C20069%2C10661%2C10347%2C10717&broadened=true'\n",
    "\n",
    "url2 = 'https://www.tripadvisor.es/FindRestaurants?geo=187514&offset=30&cuisines=10655%2C10649%2C10654%2C10642%2C10640%2C10659%2C4617%2C10670%2C10679%2C10646%2C10648%2C9908%2C10671%2C5473%2C10641%2C10653%2C10639%2C5379%2C5110%2C10345%2C10669%2C10643%2C10651%2C21353%2C10715%2C10668%2C10686%2C10676%2C10682%2C20076%2C10683%2C10346%2C5086%2C21367%2C10763%2C10621%2C21355%2C20062%2C20069%2C10661%2C10347%2C10717&broadened=true'"
   ]
  },
  {
   "cell_type": "code",
   "execution_count": 17,
   "id": "a7c91ef4",
   "metadata": {},
   "outputs": [],
   "source": [
    "url3 = 'https://www.tripadvisor.es/FindRestaurants?geo=187514&offset=60&cuisines=10655%2C10649%2C10654%2C10642%2C10640%2C10659%2C4617%2C10670%2C10679%2C10646%2C10648%2C9908%2C10671%2C5473%2C10641%2C10653%2C10639%2C5379%2C5110%2C10345%2C10669%2C10643%2C10651%2C21353%2C10715%2C10668%2C10686%2C10676%2C10682%2C20076%2C10683%2C10346%2C5086%2C21367%2C10763%2C10621%2C21355%2C20062%2C20069%2C10661%2C10347%2C10717&broadened=true'\n",
    "\n",
    "url4 = 'https://www.tripadvisor.es/FindRestaurants?geo=187514&offset=60&cuisines=10655%2C10649%2C10654%2C10642%2C10640%2C10659%2C4617%2C10670%2C10679%2C10646%2C10648%2C9908%2C10671%2C5473%2C10641%2C10653%2C10639%2C5379%2C5110%2C10345%2C10669%2C10643%2C10651%2C21353%2C10715%2C10668%2C10686%2C10676%2C10682%2C20076%2C10683%2C10346%2C5086%2C21367%2C10763%2C10621%2C21355%2C20062%2C20069%2C10661%2C10347%2C10717&broadened=true'\n",
    "\n",
    "url5 = 'https://www.tripadvisor.es/FindRestaurants?geo=187514&offset=90&cuisines=10655%2C10649%2C10654%2C10642%2C10640%2C10659%2C4617%2C10670%2C10679%2C10646%2C10648%2C9908%2C10671%2C5473%2C10641%2C10653%2C10639%2C5379%2C5110%2C10345%2C10669%2C10643%2C10651%2C21353%2C10715%2C10668%2C10686%2C10676%2C10682%2C20076%2C10683%2C10346%2C5086%2C21367%2C10763%2C10621%2C21355%2C20062%2C20069%2C10661%2C10347%2C10717&broadened=true'"
   ]
  },
  {
   "cell_type": "code",
   "execution_count": 18,
   "id": "f2d20286",
   "metadata": {},
   "outputs": [],
   "source": [
    "\n",
    "url6 = 'https://www.tripadvisor.es/FindRestaurants?geo=187514&offset=120&cuisines=10655%2C10649%2C10654%2C10642%2C10640%2C10659%2C4617%2C10670%2C10679%2C10646%2C10648%2C9908%2C10671%2C5473%2C10641%2C10653%2C10639%2C5379%2C5110%2C10345%2C10669%2C10643%2C10651%2C21353%2C10715%2C10668%2C10686%2C10676%2C10682%2C20076%2C10683%2C10346%2C5086%2C21367%2C10763%2C10621%2C21355%2C20062%2C20069%2C10661%2C10347%2C10717&broadened=true'\n",
    "\n",
    "url7 = 'https://www.tripadvisor.es/FindRestaurants?geo=187514&offset=150&cuisines=10655%2C10649%2C10654%2C10642%2C10640%2C10659%2C4617%2C10670%2C10679%2C10646%2C10648%2C9908%2C10671%2C5473%2C10641%2C10653%2C10639%2C5379%2C5110%2C10345%2C10669%2C10643%2C10651%2C21353%2C10715%2C10668%2C10686%2C10676%2C10682%2C20076%2C10683%2C10346%2C5086%2C21367%2C10763%2C10621%2C21355%2C20062%2C20069%2C10661%2C10347%2C10717&broadened=true'\n",
    "\n",
    "url8 = 'https://www.tripadvisor.es/FindRestaurants?geo=187514&offset=180&cuisines=10655%2C10649%2C10654%2C10642%2C10640%2C10659%2C4617%2C10670%2C10679%2C10646%2C10648%2C9908%2C10671%2C5473%2C10641%2C10653%2C10639%2C5379%2C5110%2C10345%2C10669%2C10643%2C10651%2C21353%2C10715%2C10668%2C10686%2C10676%2C10682%2C20076%2C10683%2C10346%2C5086%2C21367%2C10763%2C10621%2C21355%2C20062%2C20069%2C10661%2C10347%2C10717&broadened=true'\n",
    "\n",
    "url9 = 'https://www.tripadvisor.es/FindRestaurants?geo=187514&offset=210&cuisines=10655%2C10649%2C10654%2C10642%2C10640%2C10659%2C4617%2C10670%2C10679%2C10646%2C10648%2C9908%2C10671%2C5473%2C10641%2C10653%2C10639%2C5379%2C5110%2C10345%2C10669%2C10643%2C10651%2C21353%2C10715%2C10668%2C10686%2C10676%2C10682%2C20076%2C10683%2C10346%2C5086%2C21367%2C10763%2C10621%2C21355%2C20062%2C20069%2C10661%2C10347%2C10717&broadened=true'\n",
    "\n",
    "url10 = 'https://www.tripadvisor.es/FindRestaurants?geo=187514&offset=240&cuisines=10655%2C10649%2C10654%2C10642%2C10640%2C10659%2C4617%2C10670%2C10679%2C10646%2C10648%2C9908%2C10671%2C5473%2C10641%2C10653%2C10639%2C5379%2C5110%2C10345%2C10669%2C10643%2C10651%2C21353%2C10715%2C10668%2C10686%2C10676%2C10682%2C20076%2C10683%2C10346%2C5086%2C21367%2C10763%2C10621%2C21355%2C20062%2C20069%2C10661%2C10347%2C10717&broadened=true'\n",
    "\n",
    "url11 = 'https://www.tripadvisor.es/FindRestaurants?geo=187514&offset=270&cuisines=10655%2C10649%2C10654%2C10642%2C10640%2C10659%2C4617%2C10670%2C10679%2C10646%2C10648%2C9908%2C10671%2C5473%2C10641%2C10653%2C10639%2C5379%2C5110%2C10345%2C10669%2C10643%2C10651%2C21353%2C10715%2C10668%2C10686%2C10676%2C10682%2C20076%2C10683%2C10346%2C5086%2C21367%2C10763%2C10621%2C21355%2C20062%2C20069%2C10661%2C10347%2C10717&broadened=true'"
   ]
  },
  {
   "cell_type": "code",
   "execution_count": 6,
   "id": "f0a3bc38",
   "metadata": {},
   "outputs": [
    {
     "name": "stdout",
     "output_type": "stream",
     "text": [
      "entro\n",
      "no salen las cookies\n",
      "0\n",
      "1\n",
      "entro\n",
      "no salen las cookies\n",
      "0\n",
      "1\n"
     ]
    }
   ],
   "source": [
    "table = []\n",
    "\n",
    "extraer(url1)\n",
    "extraer(url2)"
   ]
  },
  {
   "cell_type": "code",
   "execution_count": null,
   "id": "a17944e4",
   "metadata": {
    "scrolled": true
   },
   "outputs": [],
   "source": [
    "data = pd.DataFrame(table)"
   ]
  },
  {
   "cell_type": "code",
   "execution_count": 13,
   "id": "69d5f6d6",
   "metadata": {},
   "outputs": [],
   "source": [
    "data.to_csv('./datos/data1.csv', index=False, encoding='utf-8')"
   ]
  },
  {
   "cell_type": "code",
   "execution_count": 19,
   "id": "1f31426a",
   "metadata": {},
   "outputs": [
    {
     "name": "stdout",
     "output_type": "stream",
     "text": [
      "entro\n",
      "no salen las cookies\n",
      "0\n",
      "1\n",
      "entro\n",
      "no salen las cookies\n",
      "0\n",
      "1\n",
      "entro\n",
      "no salen las cookies\n",
      "0\n",
      "1\n",
      "entro\n",
      "no salen las cookies\n",
      "0\n",
      "1\n",
      "entro\n",
      "no salen las cookies\n",
      "0\n",
      "1\n",
      "entro\n",
      "no salen las cookies\n",
      "0\n",
      "1\n",
      "entro\n",
      "no salen las cookies\n",
      "0\n",
      "1\n",
      "entro\n",
      "no salen las cookies\n",
      "0\n",
      "1\n",
      "entro\n",
      "no salen las cookies\n",
      "0\n",
      "1\n"
     ]
    }
   ],
   "source": [
    "table =[]\n",
    "\n",
    "extraer(url3)\n",
    "extraer(url4)\n",
    "extraer(url5)\n",
    "extraer(url6)\n",
    "extraer(url7)\n",
    "extraer(url8)\n",
    "extraer(url9)\n",
    "extraer(url10)\n",
    "extraer(url11)"
   ]
  },
  {
   "cell_type": "code",
   "execution_count": 22,
   "id": "98a498a1",
   "metadata": {},
   "outputs": [],
   "source": [
    "data2 = pd.DataFrame(table)"
   ]
  },
  {
   "cell_type": "code",
   "execution_count": 23,
   "id": "dfa0e4e9",
   "metadata": {},
   "outputs": [
    {
     "data": {
      "text/html": [
       "<div>\n",
       "<style scoped>\n",
       "    .dataframe tbody tr th:only-of-type {\n",
       "        vertical-align: middle;\n",
       "    }\n",
       "\n",
       "    .dataframe tbody tr th {\n",
       "        vertical-align: top;\n",
       "    }\n",
       "\n",
       "    .dataframe thead th {\n",
       "        text-align: right;\n",
       "    }\n",
       "</style>\n",
       "<table border=\"1\" class=\"dataframe\">\n",
       "  <thead>\n",
       "    <tr style=\"text-align: right;\">\n",
       "      <th></th>\n",
       "      <th>0</th>\n",
       "      <th>1</th>\n",
       "      <th>2</th>\n",
       "      <th>3</th>\n",
       "      <th>4</th>\n",
       "      <th>5</th>\n",
       "      <th>6</th>\n",
       "      <th>7</th>\n",
       "      <th>8</th>\n",
       "      <th>9</th>\n",
       "      <th>10</th>\n",
       "    </tr>\n",
       "  </thead>\n",
       "  <tbody>\n",
       "    <tr>\n",
       "      <th>274</th>\n",
       "      <td>296. Mad by Robleño</td>\n",
       "      <td>35 opinionesAbierto ahora</td>\n",
       "      <td>Mediterránea, Española€€ - €€€</td>\n",
       "      <td>Para repetir.</td>\n",
       "      <td>¡Deliciosa cocina casera!</td>\n",
       "      <td>None</td>\n",
       "      <td>None</td>\n",
       "      <td>None</td>\n",
       "      <td>None</td>\n",
       "      <td>None</td>\n",
       "      <td>None</td>\n",
       "    </tr>\n",
       "    <tr>\n",
       "      <th>275</th>\n",
       "      <td>297. El Cunzato</td>\n",
       "      <td>31 opiniones</td>\n",
       "      <td>Italiana, Mediterránea€</td>\n",
       "      <td>¡Gran descubrimiento!</td>\n",
       "      <td>Comida y personal TOP!</td>\n",
       "      <td>Hacer pedido online</td>\n",
       "      <td>None</td>\n",
       "      <td>None</td>\n",
       "      <td>None</td>\n",
       "      <td>None</td>\n",
       "      <td>None</td>\n",
       "    </tr>\n",
       "    <tr>\n",
       "      <th>276</th>\n",
       "      <td>298. Crudo</td>\n",
       "      <td>13 opinionesAbierto ahora</td>\n",
       "      <td>Mediterránea, Saludable€€ - €€€Carta</td>\n",
       "      <td>Muy recomendable</td>\n",
       "      <td>Excelente</td>\n",
       "      <td>Hacer pedido online</td>\n",
       "      <td>None</td>\n",
       "      <td>None</td>\n",
       "      <td>None</td>\n",
       "      <td>None</td>\n",
       "      <td>None</td>\n",
       "    </tr>\n",
       "    <tr>\n",
       "      <th>277</th>\n",
       "      <td>299. La Lonja Restaurante</td>\n",
       "      <td>550 opinionesCierra en 4 minutos</td>\n",
       "      <td>Marisco, Internacional€€ - €€€Carta</td>\n",
       "      <td>Agradable sitio en un lugar privilegiado</td>\n",
       "      <td>Excelente Experiencia</td>\n",
       "      <td>Reservar</td>\n",
       "      <td>None</td>\n",
       "      <td>None</td>\n",
       "      <td>None</td>\n",
       "      <td>None</td>\n",
       "      <td>None</td>\n",
       "    </tr>\n",
       "    <tr>\n",
       "      <th>278</th>\n",
       "      <td>300. Federica By Chef Oswaldo Sanchez</td>\n",
       "      <td>72 opiniones</td>\n",
       "      <td>Italiana, Latina€€ - €€€</td>\n",
       "      <td>BUENÍSIMO</td>\n",
       "      <td>Federica\\Cachaoeichin</td>\n",
       "      <td>None</td>\n",
       "      <td>None</td>\n",
       "      <td>None</td>\n",
       "      <td>None</td>\n",
       "      <td>None</td>\n",
       "      <td>None</td>\n",
       "    </tr>\n",
       "  </tbody>\n",
       "</table>\n",
       "</div>"
      ],
      "text/plain": [
       "                                        0                                 1   \\\n",
       "274                    296. Mad by Robleño         35 opinionesAbierto ahora   \n",
       "275                        297. El Cunzato                      31 opiniones   \n",
       "276                             298. Crudo         13 opinionesAbierto ahora   \n",
       "277              299. La Lonja Restaurante  550 opinionesCierra en 4 minutos   \n",
       "278  300. Federica By Chef Oswaldo Sanchez                      72 opiniones   \n",
       "\n",
       "                                       2   \\\n",
       "274        Mediterránea, Española€€ - €€€   \n",
       "275               Italiana, Mediterránea€   \n",
       "276  Mediterránea, Saludable€€ - €€€Carta   \n",
       "277   Marisco, Internacional€€ - €€€Carta   \n",
       "278              Italiana, Latina€€ - €€€   \n",
       "\n",
       "                                           3                          4   \\\n",
       "274                             Para repetir.  ¡Deliciosa cocina casera!   \n",
       "275                     ¡Gran descubrimiento!     Comida y personal TOP!   \n",
       "276                          Muy recomendable                  Excelente   \n",
       "277  Agradable sitio en un lugar privilegiado      Excelente Experiencia   \n",
       "278                                 BUENÍSIMO      Federica\\Cachaoeichin   \n",
       "\n",
       "                      5     6     7     8     9     10  \n",
       "274                 None  None  None  None  None  None  \n",
       "275  Hacer pedido online  None  None  None  None  None  \n",
       "276  Hacer pedido online  None  None  None  None  None  \n",
       "277             Reservar  None  None  None  None  None  \n",
       "278                 None  None  None  None  None  None  "
      ]
     },
     "execution_count": 23,
     "metadata": {},
     "output_type": "execute_result"
    }
   ],
   "source": [
    "data2.tail()"
   ]
  },
  {
   "cell_type": "code",
   "execution_count": 21,
   "id": "ae45ed80",
   "metadata": {},
   "outputs": [],
   "source": [
    "data2.to_csv('./datos/data2.csv', index=False, encoding='utf-8')"
   ]
  },
  {
   "cell_type": "code",
   "execution_count": 24,
   "id": "533073de",
   "metadata": {},
   "outputs": [],
   "source": [
    "#driver.quit()"
   ]
  }
 ],
 "metadata": {
  "kernelspec": {
   "display_name": "clase",
   "language": "python",
   "name": "python3"
  },
  "language_info": {
   "codemirror_mode": {
    "name": "ipython",
    "version": 3
   },
   "file_extension": ".py",
   "mimetype": "text/x-python",
   "name": "python",
   "nbconvert_exporter": "python",
   "pygments_lexer": "ipython3",
   "version": "3.10.13"
  }
 },
 "nbformat": 4,
 "nbformat_minor": 5
}
