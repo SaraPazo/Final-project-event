{
 "cells": [
  {
   "cell_type": "markdown",
   "metadata": {},
   "source": [
    "## Ubicaciones y sus respectivos locales"
   ]
  },
  {
   "cell_type": "code",
   "execution_count": 3,
   "metadata": {},
   "outputs": [],
   "source": [
    "import statistics as stats\n",
    "import requests\n",
    "import numpy as np\n",
    "import pandas as pd\n",
    "pd.set_option('display.max_columns', None)\n",
    "pd.set_option('display.max_rows', None)\n",
    "\n",
    "\n",
    "import feedparser\n",
    "\n",
    "from selenium import webdriver\n",
    "from selenium.webdriver.common.keys import Keys\n",
    "from webdriver_manager.chrome import ChromeDriverManager\n",
    "from selenium.webdriver.support.ui import WebDriverWait\n",
    "from selenium.webdriver.support import expected_conditions as EC\n",
    "from selenium.webdriver import ActionChains as AC   # acciones encadenadas\n",
    "from selenium.webdriver.common.by import By\n",
    "from selenium.webdriver.chrome.options import Options\n",
    "\n",
    "\n",
    "\n",
    "import tqdm\n",
    "from bs4 import BeautifulSoup\n",
    "import time\n",
    "import re\n",
    "import json\n",
    "\n",
    "import warnings\n",
    "warnings.filterwarnings('ignore')\n",
    "\n",
    "import sys\n",
    "sys.path.append('../src')\n",
    "\n",
    "from pymongo import MongoClient"
   ]
  },
  {
   "cell_type": "code",
   "execution_count": 4,
   "metadata": {},
   "outputs": [],
   "source": [
    "options=Options()\n",
    "options.add_experimental_option('excludeSwitches', ['enable-automation'])\n",
    "options.add_experimental_option('useAutomationExtension', False)\n",
    "options.add_argument(\"--remote-allow-origins=*\")\n",
    "options.add_argument(\"user-data-dir=cookies\")\n",
    "#options.add_argument('--headless')                 #Habilitar si no queremos ver la ventana\n",
    "options.add_experimental_option(\"detach\", True)    #Esta opción corrige el error de cierre repentino\n",
    "options.add_argument('--start-minimized')\n",
    "options.add_argument('--disable-gpu')\n",
    "options.add_argument('--disable-dev-shm-usage')\n",
    "options.add_argument('--no-sandbox')\n",
    "options.add_argument('--disable-extensions')\n",
    "options.add_argument('--disable-infobars')"
   ]
  },
  {
   "cell_type": "markdown",
   "metadata": {},
   "source": [
    "Tras importar las librerías necesarias y ejecutar las opciones, doy paso a retirar las cookies del driver que voy a utilizar. \n",
    "- Al habilitar la opcion que mantiene las cookies eliminadas, solamente ejecutamos el siguiente webdriver igualando options a options y ya nos mantendrá el driver sin las cookies."
   ]
  },
  {
   "cell_type": "code",
   "execution_count": 5,
   "metadata": {},
   "outputs": [],
   "source": [
    "driver = webdriver.Chrome(options=options)    # abre una ventana de chrome "
   ]
  },
  {
   "cell_type": "code",
   "execution_count": 6,
   "metadata": {},
   "outputs": [],
   "source": [
    "df_event = pd.read_csv('../data/ENTRADAS.csv')"
   ]
  },
  {
   "cell_type": "code",
   "execution_count": 9,
   "metadata": {},
   "outputs": [],
   "source": [
    "df_event = df_event.rename(columns={'ubicacion': 'local'})"
   ]
  },
  {
   "cell_type": "code",
   "execution_count": 10,
   "metadata": {},
   "outputs": [
    {
     "data": {
      "text/html": [
       "<div>\n",
       "<style scoped>\n",
       "    .dataframe tbody tr th:only-of-type {\n",
       "        vertical-align: middle;\n",
       "    }\n",
       "\n",
       "    .dataframe tbody tr th {\n",
       "        vertical-align: top;\n",
       "    }\n",
       "\n",
       "    .dataframe thead th {\n",
       "        text-align: right;\n",
       "    }\n",
       "</style>\n",
       "<table border=\"1\" class=\"dataframe\">\n",
       "  <thead>\n",
       "    <tr style=\"text-align: right;\">\n",
       "      <th></th>\n",
       "      <th>nombre</th>\n",
       "      <th>local</th>\n",
       "      <th>precio</th>\n",
       "      <th>enlace</th>\n",
       "      <th>año</th>\n",
       "      <th>mes</th>\n",
       "      <th>dia</th>\n",
       "      <th>hora</th>\n",
       "    </tr>\n",
       "  </thead>\n",
       "  <tbody>\n",
       "    <tr>\n",
       "      <th>0</th>\n",
       "      <td>El Rey León</td>\n",
       "      <td>Teatro Lope de Vega</td>\n",
       "      <td>49.00 €</td>\n",
       "      <td>https://www.entradas.com/event/el-rey-leon-el-...</td>\n",
       "      <td>2023</td>\n",
       "      <td>11</td>\n",
       "      <td>30</td>\n",
       "      <td>19:00:00</td>\n",
       "    </tr>\n",
       "    <tr>\n",
       "      <th>1</th>\n",
       "      <td>El Rey León</td>\n",
       "      <td>Teatro Lope de Vega</td>\n",
       "      <td>45.00 €</td>\n",
       "      <td>https://www.entradas.com/event/el-rey-leon-el-...</td>\n",
       "      <td>2023</td>\n",
       "      <td>12</td>\n",
       "      <td>1</td>\n",
       "      <td>17:00:00</td>\n",
       "    </tr>\n",
       "    <tr>\n",
       "      <th>2</th>\n",
       "      <td>El Rey León</td>\n",
       "      <td>Teatro Lope de Vega</td>\n",
       "      <td>45.00 €</td>\n",
       "      <td>https://www.entradas.com/event/el-rey-leon-el-...</td>\n",
       "      <td>2023</td>\n",
       "      <td>12</td>\n",
       "      <td>1</td>\n",
       "      <td>21:00:00</td>\n",
       "    </tr>\n",
       "    <tr>\n",
       "      <th>3</th>\n",
       "      <td>El Rey León</td>\n",
       "      <td>Teatro Lope de Vega</td>\n",
       "      <td>67.00 €</td>\n",
       "      <td>https://www.entradas.com/event/el-rey-leon-el-...</td>\n",
       "      <td>2023</td>\n",
       "      <td>12</td>\n",
       "      <td>2</td>\n",
       "      <td>17:00:00</td>\n",
       "    </tr>\n",
       "    <tr>\n",
       "      <th>4</th>\n",
       "      <td>El Rey León</td>\n",
       "      <td>Teatro Lope de Vega</td>\n",
       "      <td>45.00 €</td>\n",
       "      <td>https://www.entradas.com/event/el-rey-leon-el-...</td>\n",
       "      <td>2023</td>\n",
       "      <td>12</td>\n",
       "      <td>2</td>\n",
       "      <td>21:00:00</td>\n",
       "    </tr>\n",
       "  </tbody>\n",
       "</table>\n",
       "</div>"
      ],
      "text/plain": [
       "        nombre                local   precio  \\\n",
       "0  El Rey León  Teatro Lope de Vega  49.00 €   \n",
       "1  El Rey León  Teatro Lope de Vega  45.00 €   \n",
       "2  El Rey León  Teatro Lope de Vega  45.00 €   \n",
       "3  El Rey León  Teatro Lope de Vega  67.00 €   \n",
       "4  El Rey León  Teatro Lope de Vega  45.00 €   \n",
       "\n",
       "                                              enlace   año  mes  dia      hora  \n",
       "0  https://www.entradas.com/event/el-rey-leon-el-...  2023   11   30  19:00:00  \n",
       "1  https://www.entradas.com/event/el-rey-leon-el-...  2023   12    1  17:00:00  \n",
       "2  https://www.entradas.com/event/el-rey-leon-el-...  2023   12    1  21:00:00  \n",
       "3  https://www.entradas.com/event/el-rey-leon-el-...  2023   12    2  17:00:00  \n",
       "4  https://www.entradas.com/event/el-rey-leon-el-...  2023   12    2  21:00:00  "
      ]
     },
     "execution_count": 10,
     "metadata": {},
     "output_type": "execute_result"
    }
   ],
   "source": [
    "df_event.head()"
   ]
  },
  {
   "cell_type": "code",
   "execution_count": 11,
   "metadata": {},
   "outputs": [
    {
     "data": {
      "text/plain": [
       "41"
      ]
     },
     "execution_count": 11,
     "metadata": {},
     "output_type": "execute_result"
    }
   ],
   "source": [
    "len(df_event[\"local\"].unique())"
   ]
  },
  {
   "cell_type": "code",
   "execution_count": 13,
   "metadata": {},
   "outputs": [
    {
     "data": {
      "text/plain": [
       "array(['Teatro Lope de Vega', 'Bajo la Gran Carpa', 'Nuevo Teatro Alcalá',\n",
       "       'Teatro Rialto', 'WiZink Center', 'Sala La Riviera',\n",
       "       'Sala La Paqui', 'Palacio Municipal de IFEMA MADRID',\n",
       "       'The World Of Hans Zimmer: A New Dimension', 'Teatro La Latina',\n",
       "       'Sala Siroco', 'Teatro Amaya', 'Teatro Arlequín Gran Vía',\n",
       "       'Parque Enrique Tierno Galván', 'Teatro Maravillas',\n",
       "       'Aeródromo de Cuatro Vientos', 'Teatro Lara - Sala Cándido Lara',\n",
       "       'Teatro Muñoz Seca', 'Teatro EDP Gran Vía',\n",
       "       'Recinto Ferial de IFEMA - Madrid', 'Pica Pica - Bailando',\n",
       "       'Teatro Diéguez', 'Teatro Coliseum', 'Sala El Sol', 'Sala Capitol',\n",
       "       'Teatro Reina Victoria', 'OBK', 'Gruta 77',\n",
       "       'Gran Teatro CaixaBank Príncipe Pío', 'Cívitas Metropolitano',\n",
       "       'Sala Villanos', 'Teatro Bellas Artes', 'Teatro Alcázar',\n",
       "       'Recinto Ferial de IFEMA Madrid', 'Umusic Hotel Teatro Albéniz',\n",
       "       'Teatro Infanta Isabel', 'PAX Madrid',\n",
       "       'The Music Station Príncipe Pío', 'Sala Shôko',\n",
       "       'Pabellón De Cristal Casa De Campo', 'Teatro Monumental'],\n",
       "      dtype=object)"
      ]
     },
     "execution_count": 13,
     "metadata": {},
     "output_type": "execute_result"
    }
   ],
   "source": [
    "df_event[\"local\"].unique()"
   ]
  },
  {
   "cell_type": "markdown",
   "metadata": {},
   "source": [
    "#### 1. Empezamos el scrapeo"
   ]
  },
  {
   "cell_type": "markdown",
   "metadata": {},
   "source": [
    "- Creo una función con la que se me genere una lista, con los nombres de los locales y la ubicación de estos. \n",
    "- Esta ubicación se busca a través del scrapeo en google de la ubicación de los locales que le digo."
   ]
  },
  {
   "cell_type": "code",
   "execution_count": 14,
   "metadata": {},
   "outputs": [],
   "source": [
    "def obtener_ubicacion_local(local):\n",
    "    ubicacion_dict = {}\n",
    "\n",
    "    try:\n",
    "        # Realizar búsqueda en Google y obtener el primer resultado\n",
    "        query = f\"ubicación {local}\"\n",
    "        url = f\"https://www.google.com/search?q={query}\"\n",
    "\n",
    "        # Abrir la página en el navegador\n",
    "        driver.get(url)\n",
    "\n",
    "        # Esperar un breve momento para que la página cargue (puedes ajustar esto según sea necesario)\n",
    "        time.sleep(3)\n",
    "\n",
    "        # Obtener el contenido de la página después de que ha cargado\n",
    "        page_content = driver.page_source\n",
    "\n",
    "        # Analizar el contenido con Beautiful Soup\n",
    "        soup = BeautifulSoup(page_content, 'html.parser')\n",
    "\n",
    "        # Extraer la ubicación si está presente\n",
    "        ubicacion_element = soup.find('div', class_='sXLaOe')\n",
    "        ubicacion = ubicacion_element.get_text(strip=True) if ubicacion_element else None\n",
    "\n",
    "        # Almacenar en el diccionario\n",
    "        ubicacion_dict[local] = ubicacion\n",
    "\n",
    "    except:\n",
    "        print(f\"La página para {local} no ha funcionado correctamente.\")\n",
    "        \n",
    "\n",
    "    return ubicacion_dict\n"
   ]
  },
  {
   "cell_type": "code",
   "execution_count": 15,
   "metadata": {},
   "outputs": [
    {
     "name": "stdout",
     "output_type": "stream",
     "text": [
      "Teatro Lope de Vega, C.Gran Vía, 57, 28013 Madrid\n",
      "Bajo la Gran Carpa, None\n",
      "Nuevo Teatro Alcalá, C. de Jorge Juan, 62, 28009 Madrid\n",
      "Teatro Rialto, C.Gran Vía, 54, 28013 Madrid\n",
      "WiZink Center, Av. de Felipe II, s/n, 28009 Madrid\n",
      "Sala La Riviera, P.º Bajo de la Virgen del Puerto, S/N, 28005 Madrid\n",
      "Sala La Paqui, C. de Barceló, 11, Local B, 28004 Madrid\n",
      "Palacio Municipal de IFEMA MADRID, Av. de la Capital de España, 5, 28042 Madrid\n",
      "The World Of Hans Zimmer: A New Dimension, None\n",
      "Teatro La Latina, Pl. de la Cebada, 2, 28005 Madrid\n",
      "Sala Siroco, C. de San Dimas, 3, 28015 Madrid\n",
      "Teatro Amaya, P.º del Gral. Martínez Campos, 9, 28010 Madrid\n",
      "Teatro Arlequín Gran Vía, C. de San Bernardo, 5, 28013 Madrid\n",
      "Parque Enrique Tierno Galván, C. Meneses, 4, 28045 Madrid\n",
      "Teatro Maravillas, C. de Manuela Malasaña, 6, 28004 Madrid\n",
      "Aeródromo de Cuatro Vientos, None\n",
      "Teatro Lara - Sala Cándido Lara, Corre. Baja de San Pablo, 15, 28004 Madrid\n",
      "Teatro Muñoz Seca, Pl. del Carmen, 1, 28013 Madrid\n",
      "Teatro EDP Gran Vía, C.Gran Vía, 66, 28013 Madrid\n",
      "Recinto Ferial de IFEMA - Madrid, Av. del Partenón, 5, 28042 Madrid\n",
      "Pica Pica - Bailando, None\n",
      "Teatro Diéguez, C. del Convento, 5, 28380 Colmenar de Oreja, Madrid\n",
      "Teatro Coliseum, C.Gran Vía, 78, 28013 Madrid\n",
      "Sala El Sol, C. de los Jardines, 3, 28013 Madrid\n",
      "Sala Capitol, C.Gran Vía, 41, 28013 Madrid\n",
      "Teatro Reina Victoria, Cra de S. Jerónimo, 24, 28014 Madrid\n",
      "OBK, None\n",
      "Gruta 77, C. Cuclillo, 6, 28019 Madrid\n",
      "Gran Teatro CaixaBank Príncipe Pío, Cta. de San Vicente, 44, 28008 Madrid\n",
      "Cívitas Metropolitano, Av. de Luis Aragonés, 4, 28022 Madrid\n",
      "Sala Villanos, C. de Bernardino Obregón, 18, 28012 Madrid\n",
      "Teatro Bellas Artes, C. del Marqués de Casa Riera, 2, 28014 Madrid\n",
      "Teatro Alcázar, C. de Alcalá, 20, 28014 Madrid\n",
      "Recinto Ferial de IFEMA Madrid, Av. del Partenón, 5, 28042 Madrid\n",
      "Umusic Hotel Teatro Albéniz, C. de la Paz, 11, 28012 Madrid\n",
      "Teatro Infanta Isabel, C. del Barquillo, 24, 28004 Madrid\n",
      "PAX Madrid, C.Gran Vía, 13, 28013 Madrid\n",
      "The Music Station Príncipe Pío, Cta. de San Vicente, 44, 28008 Madrid\n",
      "Sala Shôko, C. de Toledo, 86, 28005 Madrid\n",
      "Pabellón De Cristal Casa De Campo, Pabellón De Cristal, Avenida Principal, 16, 28011 Madrid\n",
      "Teatro Monumental, C. de Atocha, 65, 28012 Madrid\n"
     ]
    }
   ],
   "source": [
    "for local in df_event[\"local\"].unique():\n",
    "    resultado = obtener_ubicacion_local(local)\n",
    "    if local in resultado:\n",
    "        print(f\"{local}, {resultado[local]}\")\n",
    "    else:\n",
    "        print(f\"{local}, No se encontró ubicación\")"
   ]
  },
  {
   "cell_type": "code",
   "execution_count": 22,
   "metadata": {},
   "outputs": [],
   "source": [
    "# Crear un diccionario para almacenar las ubicaciones con sus respectivos locales.\n",
    "\n",
    "ubicaciones = {}  \n",
    "\n",
    "for local in df_event[\"local\"].unique():\n",
    "    resultado = obtener_ubicacion_local(local)\n",
    "    if local in resultado:\n",
    "        ubicaciones[local] = resultado[local]\n",
    "    else:\n",
    "        ubicaciones[local] = \"No se encontró ubicación\"\n"
   ]
  },
  {
   "cell_type": "code",
   "execution_count": 24,
   "metadata": {},
   "outputs": [
    {
     "data": {
      "text/plain": [
       "{'Teatro Lope de Vega': 'C.Gran Vía, 57, 28013 Madrid',\n",
       " 'Bajo la Gran Carpa': None,\n",
       " 'Nuevo Teatro Alcalá': 'C. de Jorge Juan, 62, 28009 Madrid',\n",
       " 'Teatro Rialto': 'C.Gran Vía, 54, 28013 Madrid',\n",
       " 'WiZink Center': 'Av. de Felipe II, s/n, 28009 Madrid',\n",
       " 'Sala La Riviera': 'P.º Bajo de la Virgen del Puerto, S/N, 28005 Madrid',\n",
       " 'Sala La Paqui': 'C. de Barceló, 11, Local B, 28004 Madrid',\n",
       " 'Palacio Municipal de IFEMA MADRID': 'Av. de la Capital de España, 5, 28042 Madrid',\n",
       " 'The World Of Hans Zimmer: A New Dimension': None,\n",
       " 'Teatro La Latina': 'Pl. de la Cebada, 2, 28005 Madrid',\n",
       " 'Sala Siroco': 'C. de San Dimas, 3, 28015 Madrid',\n",
       " 'Teatro Amaya': 'P.º del Gral. Martínez Campos, 9, 28010 Madrid',\n",
       " 'Teatro Arlequín Gran Vía': 'C. de San Bernardo, 5, 28013 Madrid',\n",
       " 'Parque Enrique Tierno Galván': 'C. Meneses, 4, 28045 Madrid',\n",
       " 'Teatro Maravillas': 'C. de Manuela Malasaña, 6, 28004 Madrid',\n",
       " 'Aeródromo de Cuatro Vientos': None,\n",
       " 'Teatro Lara - Sala Cándido Lara': 'Corre. Baja de San Pablo, 15, 28004 Madrid',\n",
       " 'Teatro Muñoz Seca': 'Pl. del Carmen, 1, 28013 Madrid',\n",
       " 'Teatro EDP Gran Vía': 'C.Gran Vía, 66, 28013 Madrid',\n",
       " 'Recinto Ferial de IFEMA - Madrid': 'Av. del Partenón, 5, 28042 Madrid',\n",
       " 'Pica Pica - Bailando': None,\n",
       " 'Teatro Diéguez': 'C. del Convento, 5, 28380 Colmenar de Oreja, Madrid',\n",
       " 'Teatro Coliseum': 'C.Gran Vía, 78, 28013 Madrid',\n",
       " 'Sala El Sol': 'C. de los Jardines, 3, 28013 Madrid',\n",
       " 'Sala Capitol': 'C.Gran Vía, 41, 28013 Madrid',\n",
       " 'Teatro Reina Victoria': 'Cra de S. Jerónimo, 24, 28014 Madrid',\n",
       " 'OBK': None,\n",
       " 'Gruta 77': 'C. Cuclillo, 6, 28019 Madrid',\n",
       " 'Gran Teatro CaixaBank Príncipe Pío': 'Cta. de San Vicente, 44, 28008 Madrid',\n",
       " 'Cívitas Metropolitano': 'Av. de Luis Aragonés, 4, 28022 Madrid',\n",
       " 'Sala Villanos': 'C. de Bernardino Obregón, 18, 28012 Madrid',\n",
       " 'Teatro Bellas Artes': 'C. del Marqués de Casa Riera, 2, 28014 Madrid',\n",
       " 'Teatro Alcázar': 'C. de Alcalá, 20, 28014 Madrid',\n",
       " 'Recinto Ferial de IFEMA Madrid': 'Av. del Partenón, 5, 28042 Madrid',\n",
       " 'Umusic Hotel Teatro Albéniz': 'C. de la Paz, 11, 28012 Madrid',\n",
       " 'Teatro Infanta Isabel': 'C. del Barquillo, 24, 28004 Madrid',\n",
       " 'PAX Madrid': 'C.Gran Vía, 13, 28013 Madrid',\n",
       " 'The Music Station Príncipe Pío': 'Cta. de San Vicente, 44, 28008 Madrid',\n",
       " 'Sala Shôko': 'C. de Toledo, 86, 28005 Madrid',\n",
       " 'Pabellón De Cristal Casa De Campo': 'Pabellón De Cristal, Avenida Principal, 16, 28011 Madrid',\n",
       " 'Teatro Monumental': 'C. de Atocha, 65, 28012 Madrid'}"
      ]
     },
     "execution_count": 24,
     "metadata": {},
     "output_type": "execute_result"
    }
   ],
   "source": [
    "ubicaciones"
   ]
  },
  {
   "cell_type": "code",
   "execution_count": 25,
   "metadata": {},
   "outputs": [],
   "source": [
    "df_locales = pd.DataFrame(list(ubicaciones.items()), columns=['local', 'ubicacion'])"
   ]
  },
  {
   "cell_type": "code",
   "execution_count": 26,
   "metadata": {},
   "outputs": [],
   "source": [
    "df_locales['local'] = df_locales['local'].str.rstrip(',')"
   ]
  },
  {
   "cell_type": "code",
   "execution_count": 27,
   "metadata": {},
   "outputs": [
    {
     "data": {
      "text/html": [
       "<div>\n",
       "<style scoped>\n",
       "    .dataframe tbody tr th:only-of-type {\n",
       "        vertical-align: middle;\n",
       "    }\n",
       "\n",
       "    .dataframe tbody tr th {\n",
       "        vertical-align: top;\n",
       "    }\n",
       "\n",
       "    .dataframe thead th {\n",
       "        text-align: right;\n",
       "    }\n",
       "</style>\n",
       "<table border=\"1\" class=\"dataframe\">\n",
       "  <thead>\n",
       "    <tr style=\"text-align: right;\">\n",
       "      <th></th>\n",
       "      <th>local</th>\n",
       "      <th>ubicacion</th>\n",
       "    </tr>\n",
       "  </thead>\n",
       "  <tbody>\n",
       "    <tr>\n",
       "      <th>0</th>\n",
       "      <td>Teatro Lope de Vega</td>\n",
       "      <td>C.Gran Vía, 57, 28013 Madrid</td>\n",
       "    </tr>\n",
       "    <tr>\n",
       "      <th>1</th>\n",
       "      <td>Bajo la Gran Carpa</td>\n",
       "      <td>None</td>\n",
       "    </tr>\n",
       "    <tr>\n",
       "      <th>2</th>\n",
       "      <td>Nuevo Teatro Alcalá</td>\n",
       "      <td>C. de Jorge Juan, 62, 28009 Madrid</td>\n",
       "    </tr>\n",
       "    <tr>\n",
       "      <th>3</th>\n",
       "      <td>Teatro Rialto</td>\n",
       "      <td>C.Gran Vía, 54, 28013 Madrid</td>\n",
       "    </tr>\n",
       "    <tr>\n",
       "      <th>4</th>\n",
       "      <td>WiZink Center</td>\n",
       "      <td>Av. de Felipe II, s/n, 28009 Madrid</td>\n",
       "    </tr>\n",
       "  </tbody>\n",
       "</table>\n",
       "</div>"
      ],
      "text/plain": [
       "                 local                            ubicacion\n",
       "0  Teatro Lope de Vega         C.Gran Vía, 57, 28013 Madrid\n",
       "1   Bajo la Gran Carpa                                 None\n",
       "2  Nuevo Teatro Alcalá   C. de Jorge Juan, 62, 28009 Madrid\n",
       "3        Teatro Rialto         C.Gran Vía, 54, 28013 Madrid\n",
       "4        WiZink Center  Av. de Felipe II, s/n, 28009 Madrid"
      ]
     },
     "execution_count": 27,
     "metadata": {},
     "output_type": "execute_result"
    }
   ],
   "source": [
    "df_locales.head()"
   ]
  },
  {
   "cell_type": "code",
   "execution_count": 28,
   "metadata": {},
   "outputs": [
    {
     "data": {
      "text/plain": [
       "41"
      ]
     },
     "execution_count": 28,
     "metadata": {},
     "output_type": "execute_result"
    }
   ],
   "source": [
    "len(df_locales)"
   ]
  },
  {
   "cell_type": "code",
   "execution_count": 34,
   "metadata": {},
   "outputs": [],
   "source": [
    "# Cargo en un .csv los locales con su respectiva ubicación. \n",
    "\n",
    "df_locales.to_csv('../data/df_locales.csv', index=False, encoding='utf-8')"
   ]
  }
 ],
 "metadata": {
  "kernelspec": {
   "display_name": "clase",
   "language": "python",
   "name": "python3"
  },
  "language_info": {
   "codemirror_mode": {
    "name": "ipython",
    "version": 3
   },
   "file_extension": ".py",
   "mimetype": "text/x-python",
   "name": "python",
   "nbconvert_exporter": "python",
   "pygments_lexer": "ipython3",
   "version": "3.10.13"
  }
 },
 "nbformat": 4,
 "nbformat_minor": 2
}
