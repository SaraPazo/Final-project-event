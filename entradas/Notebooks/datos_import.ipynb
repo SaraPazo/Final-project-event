{
 "cells": [
  {
   "cell_type": "markdown",
   "id": "9f4a87de",
   "metadata": {},
   "source": [
    "## IMPORTACION DE DATOS DE CADA EVENTO"
   ]
  },
  {
   "cell_type": "code",
   "execution_count": 2,
   "id": "f8514dfc",
   "metadata": {},
   "outputs": [],
   "source": [
    "import requests as req\n",
    "import pandas as pd\n",
    "import numpy as np\n",
    "import re\n",
    "import statistics as stats\n",
    "\n",
    "pd.set_option('display.max_columns', None)\n",
    "pd.set_option('display.max_rows', None)\n",
    "\n",
    "from selenium import webdriver\n",
    "from selenium.webdriver.common.keys import Keys\n",
    "from selenium.webdriver.support import expected_conditions as EC\n",
    "from selenium.webdriver.common.by import By\n",
    "from selenium.webdriver.chrome.options import Options\n",
    "from webdriver_manager.chrome import ChromeDriverManager\n",
    "from selenium.webdriver.support.ui import WebDriverWait\n",
    "PATH = 'driver/chromedriver'\n",
    "\n",
    "import tqdm\n",
    "from bs4 import BeautifulSoup\n",
    "import time\n",
    "import re\n",
    "import json\n",
    "\n",
    "import warnings\n",
    "warnings.filterwarnings('ignore')\n",
    "\n",
    "import sys\n",
    "sys.path.append('../src')"
   ]
  },
  {
   "cell_type": "code",
   "execution_count": 3,
   "id": "30192b9e",
   "metadata": {},
   "outputs": [],
   "source": [
    "options=Options()\n",
    "options.add_experimental_option('excludeSwitches', ['enable-automation'])\n",
    "options.add_experimental_option('useAutomationExtension', False)\n",
    "options.add_argument(\"--remote-allow-origins=*\");\n",
    "options.add_argument(\"user-data-dir=cookies\")\n",
    "#options.add_argument('--headless')                 #Habilitar si no queremos ver la ventana\n",
    "options.add_experimental_option(\"detach\", True)    #Esta opción corrige el error de cierre repentino\n",
    "options.add_argument('--start-minimized')\n",
    "options.add_argument('--disable-gpu')\n",
    "options.add_argument('--disable-dev-shm-usage')\n",
    "options.add_argument('--no-sandbox')\n",
    "options.add_argument('--disable-extensions')\n",
    "options.add_argument('--disable-infobars')"
   ]
  },
  {
   "cell_type": "markdown",
   "id": "ec864750",
   "metadata": {},
   "source": [
    "Tras importar las librerías necesarias y ejecutar las opciones, doy paso a retirar las cookies del driver que voy a utilizar. \n",
    "- Al habilitar la opcion que mantiene las cookies eliminadas, solamente ejecutamos el siguiente webdriver igualando options a options y ya nos mantendrá el driver sin las cookies."
   ]
  },
  {
   "cell_type": "markdown",
   "metadata": {},
   "source": [
    "#### 1. COMIENZO EL SCRAPING DE CADA UNO DE LOS EVENTOS"
   ]
  },
  {
   "cell_type": "markdown",
   "metadata": {},
   "source": [
    "Tengo los links que ya he recogido a través de webscraping. \n",
    "- Importo el csv 'links' con el que voy a hacer la llamada a cada uno de los eventos (link a la compra del evento)"
   ]
  },
  {
   "cell_type": "code",
   "execution_count": 4,
   "id": "be8757b2",
   "metadata": {},
   "outputs": [],
   "source": [
    "driver = webdriver.Chrome(options=options)"
   ]
  },
  {
   "cell_type": "code",
   "execution_count": 5,
   "id": "90832568",
   "metadata": {},
   "outputs": [],
   "source": [
    "driver.get('https://www.entradas.com/city/madrid-370/?page=1')"
   ]
  },
  {
   "cell_type": "code",
   "execution_count": 6,
   "id": "792ed2fe",
   "metadata": {},
   "outputs": [],
   "source": [
    "links = pd.read_csv('../data/links.csv', encoding='utf-8')"
   ]
  },
  {
   "cell_type": "code",
   "execution_count": 7,
   "id": "5271537a",
   "metadata": {},
   "outputs": [
    {
     "data": {
      "text/html": [
       "<div>\n",
       "<style scoped>\n",
       "    .dataframe tbody tr th:only-of-type {\n",
       "        vertical-align: middle;\n",
       "    }\n",
       "\n",
       "    .dataframe tbody tr th {\n",
       "        vertical-align: top;\n",
       "    }\n",
       "\n",
       "    .dataframe thead th {\n",
       "        text-align: right;\n",
       "    }\n",
       "</style>\n",
       "<table border=\"1\" class=\"dataframe\">\n",
       "  <thead>\n",
       "    <tr style=\"text-align: right;\">\n",
       "      <th></th>\n",
       "      <th>Links</th>\n",
       "    </tr>\n",
       "  </thead>\n",
       "  <tbody>\n",
       "    <tr>\n",
       "      <th>0</th>\n",
       "      <td>/artist/el-rey-leon/</td>\n",
       "    </tr>\n",
       "    <tr>\n",
       "      <th>1</th>\n",
       "      <td>/artist/circo-del-sol/alegria-cirque-du-soleil...</td>\n",
       "    </tr>\n",
       "    <tr>\n",
       "      <th>2</th>\n",
       "      <td>/artist/mago-pop/el-mago-pop-nada-es-imposible...</td>\n",
       "    </tr>\n",
       "    <tr>\n",
       "      <th>3</th>\n",
       "      <td>/artist/bruce-springsteen/</td>\n",
       "    </tr>\n",
       "    <tr>\n",
       "      <th>4</th>\n",
       "      <td>/artist/mamma-mia/</td>\n",
       "    </tr>\n",
       "  </tbody>\n",
       "</table>\n",
       "</div>"
      ],
      "text/plain": [
       "                                               Links\n",
       "0                               /artist/el-rey-leon/\n",
       "1  /artist/circo-del-sol/alegria-cirque-du-soleil...\n",
       "2  /artist/mago-pop/el-mago-pop-nada-es-imposible...\n",
       "3                         /artist/bruce-springsteen/\n",
       "4                                 /artist/mamma-mia/"
      ]
     },
     "execution_count": 7,
     "metadata": {},
     "output_type": "execute_result"
    }
   ],
   "source": [
    "links.head()"
   ]
  },
  {
   "cell_type": "markdown",
   "id": "d99d7bef",
   "metadata": {},
   "source": [
    "Genero una función que me servirá para ir iterando a través de todos los eventos, a través de su URL, con los links que me he generado en la variable 'links'.\n",
    "\n",
    "- Pasaré por cada uno de las URL, con mi código, y me cogerá aquellos datos que son para mí interesantes: \n",
    "           - el nombre del evento o artista"
   ]
  },
  {
   "cell_type": "markdown",
   "id": "19f6ce22",
   "metadata": {},
   "source": [
    "- Hay un problema, y es que, aunque hay muchas url que no tienen más de una página, iteran sobre las 4 páginas, ya que el link le sigue permitiendo \"pasar de página\", aunque la información no cambia. \n",
    "       Por tanto, me funciona mucho mas lento, y esto me complica el scrapeo. \n",
    "\n",
    "- Genero en el propio código una linea más 'no_link', en la que, si encuentra un mensaje al inicio, al entrar en la nueva página, entonces salte al siguiente link (ya que el mensaje muestra en casi todas las ocasiones: \"No hay más eventos para el artista\")"
   ]
  },
  {
   "cell_type": "code",
   "execution_count": 8,
   "id": "69a24261",
   "metadata": {},
   "outputs": [],
   "source": [
    "def extract(link, pag):\n",
    "    all_data = []  # Lista para almacenar los datos de todas las páginas\n",
    "    \n",
    "    try:\n",
    "        for i in range(1, pag):  # Asumiendo que quieres iterar desde la página 1 hasta la página \"pag\"\n",
    "            print(\"pag\", i)\n",
    "            driver.get(f\"https://www.entradas.com{link}/?pnum={i}\")\n",
    "\n",
    "            no_link = driver.find_elements(By.XPATH, './/div/h2[@class=\"event-listing-headline\"]')\n",
    "\n",
    "            if no_link:\n",
    "                print(f\"No hay más eventos en la página {i} de {link}\")\n",
    "                break\n",
    "\n",
    "            data = []\n",
    "            print(\"0\")\n",
    "\n",
    "            # Encontrar todos los elementos de eventos en la página\n",
    "            elements = driver.find_elements(By.XPATH, '//div[@class=\"u-position-relative js-component-loader js-load-event-list js-track-teaser-general js-track-general\"]')\n",
    "            print(\"1\")\n",
    "\n",
    "            for e in elements:\n",
    "                print(\"2\")\n",
    "                event_name = e.find_elements(By.XPATH, './/div[@class=\"js-cal-listing-info-inner col-xs-9 col-sm-8 col-md-7 event-listing-info-inner\"]/h2')\n",
    "                eventos = [event.text for event in event_name]\n",
    "                print(\"3\")\n",
    "\n",
    "                date_elements = e.find_elements(By.CSS_SELECTOR, 'time.event-listing-date')    \n",
    "                fechas = [date_elements.get_attribute('datetime') for date_elements in date_elements]\n",
    "\n",
    "                ubi_ele = e.find_elements(By.XPATH, './/div[@class=\"js-cal-listing-info-inner col-xs-9 col-sm-8 col-md-7 event-listing-info-inner\"]/ul/li[2]')\n",
    "                ubicacion = [ubi.text for ubi in ubi_ele]\n",
    "\n",
    "                price = e.find_elements(By.XPATH, './/div/span[@class=\"event-listing-price event-price-available\"]/span')\n",
    "                precios = [precio.text for precio in price]\n",
    "\n",
    "                enlace = e.find_elements(By.XPATH, './/div[@class=\"col-sm-4 col-md-3 event-listing-buy margin-right-xs hidden-xs js-event-listing-buy\"]/a')\n",
    "                enlaces = [enl.get_attribute('href') for enl in enlace]\n",
    "\n",
    "                data.append([eventos, fechas, ubicacion, precios, enlaces])\n",
    "                print(\"4\")\n",
    "\n",
    "            all_data.extend(data)  # Agregar los datos de la página actual a la lista\n",
    "\n",
    "    except Exception as ex:\n",
    "        print(f\"Ocurrió un problema con {link}. Error: {str(ex)}\")\n",
    "\n",
    "    return all_data  # Devolver todos los datos recopilados de todas las páginas"
   ]
  },
  {
   "cell_type": "markdown",
   "id": "f663df22",
   "metadata": {},
   "source": [
    "- Comienzo con los primeros 7 links (primeras URL)\n",
    "- A partir de ahí, voy a ir de pocos en pocos links. Algunos tienen muchos datos, ya que del mismo evento puede haber varias actuaciones (varias fechas u horas), mientras que otros solamente tendrán una fecha.\n",
    "- Creo una función en la que me genera una lista con los datos de los eventos recogidos. Cada lista que voy sacando la guardo en un dataframe. Y estos posteriormente los uniré para crear un unico csv de mis datos importados.\n"
   ]
  },
  {
   "cell_type": "markdown",
   "id": "57dd5d15",
   "metadata": {},
   "source": [
    "## PRIMER DF (df0)"
   ]
  },
  {
   "cell_type": "code",
   "execution_count": 11,
   "id": "59bb5173",
   "metadata": {},
   "outputs": [
    {
     "data": {
      "text/plain": [
       "0                                 /artist/el-rey-leon/\n",
       "1    /artist/circo-del-sol/alegria-cirque-du-soleil...\n",
       "2    /artist/mago-pop/el-mago-pop-nada-es-imposible...\n",
       "3                           /artist/bruce-springsteen/\n",
       "4                                   /artist/mamma-mia/\n",
       "5         /artist/ivan-ferreiro/ivan-ferreiro-3411430/\n",
       "6                       /artist/carino/carino-3503691/\n",
       "Name: Links, dtype: object"
      ]
     },
     "execution_count": 11,
     "metadata": {},
     "output_type": "execute_result"
    }
   ],
   "source": [
    "links.Links[0:7]"
   ]
  },
  {
   "cell_type": "code",
   "execution_count": 133,
   "id": "a60c15a9",
   "metadata": {
    "collapsed": true
   },
   "outputs": [
    {
     "name": "stdout",
     "output_type": "stream",
     "text": [
      "pag 1\n",
      "0\n",
      "1\n",
      "2\n",
      "3\n",
      "4\n",
      "pag 2\n",
      "0\n",
      "1\n",
      "2\n",
      "3\n",
      "4\n",
      "pag 3\n",
      "0\n",
      "1\n",
      "2\n",
      "3\n",
      "4\n",
      "pag 4\n",
      "No hay más eventos en la página 4 de /artist/el-rey-leon/\n",
      "pag 1\n",
      "0\n",
      "1\n",
      "2\n",
      "3\n",
      "4\n",
      "pag 2\n",
      "0\n",
      "1\n",
      "2\n",
      "3\n",
      "4\n",
      "pag 3\n",
      "0\n",
      "1\n",
      "2\n",
      "3\n",
      "4\n",
      "pag 4\n",
      "No hay más eventos en la página 4 de /artist/circo-del-sol/alegria-cirque-du-soleil-madrid-3329203/\n",
      "pag 1\n",
      "0\n",
      "1\n",
      "2\n",
      "3\n",
      "4\n",
      "pag 2\n",
      "No hay más eventos en la página 2 de /artist/mago-pop/el-mago-pop-nada-es-imposible-broadway-edition-madrid-3048612/\n",
      "pag 1\n",
      "No hay más eventos en la página 1 de /artist/bruce-springsteen/\n",
      "pag 1\n",
      "0\n",
      "1\n",
      "2\n",
      "3\n",
      "4\n",
      "pag 2\n",
      "0\n",
      "1\n",
      "2\n",
      "3\n",
      "4\n",
      "pag 3\n",
      "0\n",
      "1\n",
      "2\n",
      "3\n",
      "4\n",
      "pag 4\n",
      "0\n",
      "1\n",
      "2\n",
      "3\n",
      "4\n",
      "pag 1\n",
      "0\n",
      "1\n",
      "2\n",
      "3\n",
      "4\n",
      "pag 2\n",
      "No hay más eventos en la página 2 de /artist/ivan-ferreiro/ivan-ferreiro-3411430/\n",
      "pag 1\n",
      "0\n",
      "1\n",
      "2\n",
      "3\n",
      "4\n",
      "pag 2\n",
      "No hay más eventos en la página 2 de /artist/carino/carino-3503691/\n"
     ]
    }
   ],
   "source": [
    "lst0=[]\n",
    "for link in links.Links[0:7]:\n",
    "    lst0.append(extract(link, 5))"
   ]
  },
  {
   "cell_type": "code",
   "execution_count": 135,
   "id": "01efb66e",
   "metadata": {},
   "outputs": [],
   "source": [
    "from suport import df_event\n",
    "df0 = df_event(lst0)"
   ]
  },
  {
   "cell_type": "code",
   "execution_count": 137,
   "id": "2ee3fe53",
   "metadata": {},
   "outputs": [],
   "source": [
    "df0 = pd.DataFrame(df0)"
   ]
  },
  {
   "cell_type": "code",
   "execution_count": 142,
   "id": "16c0351e",
   "metadata": {},
   "outputs": [],
   "source": [
    "df0.to_csv('df0.csv', index=False, encoding='utf-8')"
   ]
  },
  {
   "cell_type": "markdown",
   "id": "d811c08a",
   "metadata": {},
   "source": [
    "Voy cambiando de rangos, en los links, para ir llevando un control de aquellos que voy ejecutando. "
   ]
  },
  {
   "cell_type": "markdown",
   "id": "a2243107",
   "metadata": {},
   "source": [
    "## SIGUIENTE (df1)"
   ]
  },
  {
   "cell_type": "code",
   "execution_count": 144,
   "id": "2195e0af",
   "metadata": {},
   "outputs": [
    {
     "data": {
      "text/plain": [
       "7                                      /artist/trashi/\n",
       "8    /artist/circo-del-sol/alegria-cirque-du-soleil...\n",
       "9    /artist/cantajuego/cantajuego-gira-2023-2024-3...\n",
       "Name: Links, dtype: object"
      ]
     },
     "execution_count": 144,
     "metadata": {},
     "output_type": "execute_result"
    }
   ],
   "source": [
    "links.Links[7:10]"
   ]
  },
  {
   "cell_type": "code",
   "execution_count": 145,
   "id": "ecb9d31a",
   "metadata": {
    "collapsed": true
   },
   "outputs": [
    {
     "name": "stdout",
     "output_type": "stream",
     "text": [
      "pag 1\n",
      "0\n",
      "1\n",
      "2\n",
      "3\n",
      "4\n",
      "pag 2\n",
      "No hay más eventos en la página 2 de /artist/trashi/\n",
      "pag 1\n",
      "0\n",
      "1\n",
      "pag 2\n",
      "0\n",
      "1\n",
      "pag 3\n",
      "0\n",
      "1\n",
      "pag 4\n",
      "0\n",
      "1\n",
      "pag 1\n",
      "0\n",
      "1\n",
      "2\n",
      "3\n",
      "4\n",
      "pag 2\n",
      "No hay más eventos en la página 2 de /artist/cantajuego/cantajuego-gira-2023-2024-3475836/\n"
     ]
    }
   ],
   "source": [
    "lst=[]\n",
    "for link in links.Links[7:10]:\n",
    "    lst.append(extract(link, 5))"
   ]
  },
  {
   "cell_type": "code",
   "execution_count": 147,
   "id": "ce897f66",
   "metadata": {},
   "outputs": [],
   "source": [
    "from suport import df_event\n",
    "df1 = df_event(lst)"
   ]
  },
  {
   "cell_type": "code",
   "execution_count": 148,
   "id": "c9168ab1",
   "metadata": {},
   "outputs": [],
   "source": [
    "df1 = pd.DataFrame(df1)"
   ]
  },
  {
   "cell_type": "code",
   "execution_count": 149,
   "id": "597b6c50",
   "metadata": {},
   "outputs": [],
   "source": [
    "df1.to_csv('df1.csv', index=False, encoding='utf-8')"
   ]
  },
  {
   "cell_type": "markdown",
   "id": "99143252",
   "metadata": {},
   "source": [
    "## SIGUIENTE (df2)"
   ]
  },
  {
   "cell_type": "code",
   "execution_count": null,
   "id": "6565639a",
   "metadata": {},
   "outputs": [],
   "source": [
    "links.Links[10:15]"
   ]
  },
  {
   "cell_type": "code",
   "execution_count": null,
   "id": "926bc9b9",
   "metadata": {},
   "outputs": [],
   "source": [
    "lst1=[]\n",
    "for link in links.Links[10:15]:\n",
    "    lst1.append(extract(link, 5))"
   ]
  },
  {
   "cell_type": "code",
   "execution_count": null,
   "id": "ba70e30c",
   "metadata": {},
   "outputs": [],
   "source": [
    "lst1"
   ]
  },
  {
   "cell_type": "code",
   "execution_count": null,
   "id": "e7b9ef14",
   "metadata": {
    "scrolled": true
   },
   "outputs": [],
   "source": [
    "# Lista para almacenar los datos\n",
    "data = []\n",
    "\n",
    "# Iterar sobre la lista principal\n",
    "for eventos in lst1:\n",
    "    # Iterar sobre cada sublista de eventos\n",
    "    for evento in eventos:\n",
    "        # Desglosar la información del evento\n",
    "        for i in range(len(evento[0])):\n",
    "            nombre = evento[0][i]\n",
    "            fecha = evento[1][i]\n",
    "            ubicacion = evento[2][i]\n",
    "            precio = evento[3][i]\n",
    "            enlace = evento[4][i]\n",
    "\n",
    "            # Crear un diccionario con la información del evento\n",
    "            evento_dict = {\n",
    "                'Nombre': nombre,\n",
    "                'Fecha': fecha,\n",
    "                'Ubicacion': ubicacion,\n",
    "                'Precio': precio,\n",
    "                'Enlace': enlace\n",
    "            }\n",
    "\n",
    "            # Agregar el diccionario a la lista de datos\n",
    "            data.append(evento_dict)\n",
    "\n",
    "# Crear un DataFrame a partir de la lista de datos\n",
    "df2 = pd.DataFrame(data)\n",
    "\n",
    "# Mostrar el DataFrame"
   ]
  },
  {
   "cell_type": "code",
   "execution_count": null,
   "id": "d86262a5",
   "metadata": {},
   "outputs": [],
   "source": [
    "df2.to_csv('df2.csv', index=False, encoding='utf-8')"
   ]
  },
  {
   "cell_type": "markdown",
   "id": "d1beb28a",
   "metadata": {},
   "source": [
    "## SIGUIENTE (df3)"
   ]
  },
  {
   "cell_type": "code",
   "execution_count": null,
   "id": "7a915794",
   "metadata": {
    "scrolled": true
   },
   "outputs": [],
   "source": [
    "links.Links[15:20]"
   ]
  },
  {
   "cell_type": "code",
   "execution_count": null,
   "id": "10364482",
   "metadata": {
    "scrolled": true
   },
   "outputs": [],
   "source": [
    "lst2=[]\n",
    "for link in links.Links[15:20]:\n",
    "    lst2.append(extract(link, 5))"
   ]
  },
  {
   "cell_type": "code",
   "execution_count": null,
   "id": "2fa97013",
   "metadata": {},
   "outputs": [],
   "source": [
    "lst2"
   ]
  },
  {
   "cell_type": "code",
   "execution_count": null,
   "id": "72e093bf",
   "metadata": {},
   "outputs": [],
   "source": [
    "# Lista para almacenar los datos\n",
    "data = []\n",
    "\n",
    "# Iterar sobre la lista principal\n",
    "for eventos in lst2:\n",
    "    # Iterar sobre cada sublista de eventos\n",
    "    for evento in eventos:\n",
    "        # Desglosar la información del evento\n",
    "        for i in range(len(evento[0])):\n",
    "            nombre = evento[0][i]\n",
    "            fecha = evento[1][i]\n",
    "            ubicacion = evento[2][i]\n",
    "            precio = evento[3][i]\n",
    "            enlace = evento[4][i]\n",
    "\n",
    "            # Crear un diccionario con la información del evento\n",
    "            evento_dict = {\n",
    "                'Nombre': nombre,\n",
    "                'Fecha': fecha,\n",
    "                'Ubicacion': ubicacion,\n",
    "                'Precio': precio,\n",
    "                'Enlace': enlace\n",
    "            }\n",
    "\n",
    "            # Agregar el diccionario a la lista de datos\n",
    "            data.append(evento_dict)\n",
    "\n",
    "# Crear un DataFrame a partir de la lista de datos\n",
    "df3 = pd.DataFrame(data)\n",
    "\n",
    "# Mostrar el DataFrame"
   ]
  },
  {
   "cell_type": "code",
   "execution_count": null,
   "id": "127ba1f2",
   "metadata": {},
   "outputs": [],
   "source": [
    "df3.to_csv('df3.csv', index=False, encoding='utf-8')"
   ]
  },
  {
   "cell_type": "code",
   "execution_count": null,
   "id": "9d2d527f",
   "metadata": {},
   "outputs": [],
   "source": [
    "#driver.quit()"
   ]
  },
  {
   "cell_type": "markdown",
   "id": "36eeb5b9",
   "metadata": {},
   "source": [
    "## SIGUIENTE (df4)"
   ]
  },
  {
   "cell_type": "code",
   "execution_count": 10,
   "id": "811305b3",
   "metadata": {},
   "outputs": [
    {
     "data": {
      "text/plain": [
       "20                  /artist/jamming-show/\n",
       "21                        /artist/belako/\n",
       "22           /artist/exhibicion-en-vuelo/\n",
       "23         /artist/la-madre-que-me-pario/\n",
       "24    /artist/en-ocasiones-veo-a-umberto/\n",
       "Name: Links, dtype: object"
      ]
     },
     "execution_count": 10,
     "metadata": {},
     "output_type": "execute_result"
    }
   ],
   "source": [
    "links.Links[20:25]"
   ]
  },
  {
   "cell_type": "code",
   "execution_count": 11,
   "id": "bd91dd57",
   "metadata": {
    "collapsed": true
   },
   "outputs": [
    {
     "name": "stdout",
     "output_type": "stream",
     "text": [
      "pag 1\n",
      "0\n",
      "1\n",
      "2\n",
      "3\n",
      "4\n",
      "pag 2\n",
      "No hay más eventos en la página 2 de /artist/jamming-show/\n",
      "pag 1\n",
      "0\n",
      "1\n",
      "2\n",
      "3\n",
      "4\n",
      "pag 2\n",
      "No hay más eventos en la página 2 de /artist/belako/\n",
      "pag 1\n",
      "0\n",
      "1\n",
      "2\n",
      "3\n",
      "4\n",
      "pag 2\n",
      "No hay más eventos en la página 2 de /artist/exhibicion-en-vuelo/\n",
      "pag 1\n",
      "0\n",
      "1\n",
      "2\n",
      "3\n",
      "4\n",
      "pag 2\n",
      "0\n",
      "1\n",
      "2\n",
      "3\n",
      "4\n",
      "pag 3\n",
      "0\n",
      "1\n",
      "2\n",
      "3\n",
      "4\n",
      "pag 4\n",
      "No hay más eventos en la página 4 de /artist/la-madre-que-me-pario/\n",
      "pag 1\n",
      "0\n",
      "1\n",
      "2\n",
      "3\n",
      "4\n",
      "pag 2\n",
      "0\n",
      "1\n",
      "2\n",
      "3\n",
      "4\n",
      "pag 3\n",
      "No hay más eventos en la página 3 de /artist/en-ocasiones-veo-a-umberto/\n"
     ]
    }
   ],
   "source": [
    "lst3=[]\n",
    "for link in links.Links[20:25]:\n",
    "    lst3.append(extract(link, 5))"
   ]
  },
  {
   "cell_type": "code",
   "execution_count": 13,
   "id": "814dd7c1",
   "metadata": {},
   "outputs": [],
   "source": [
    "# Lista para almacenar los datos\n",
    "data = []\n",
    "\n",
    "# Iterar sobre la lista principal\n",
    "for eventos in lst3:\n",
    "    # Iterar sobre cada sublista de eventos\n",
    "    for evento in eventos:\n",
    "        # Desglosar la información del evento\n",
    "        for i in range(len(evento[0])):\n",
    "            nombre = evento[0][i]\n",
    "            fecha = evento[1][i]\n",
    "            ubicacion = evento[2][i]\n",
    "            precio = evento[3][i]\n",
    "            enlace = evento[4][i]\n",
    "\n",
    "            # Crear un diccionario con la información del evento\n",
    "            evento_dict = {\n",
    "                'Nombre': nombre,\n",
    "                'Fecha': fecha,\n",
    "                'Ubicacion': ubicacion,\n",
    "                'Precio': precio,\n",
    "                'Enlace': enlace\n",
    "            }\n",
    "\n",
    "            # Agregar el diccionario a la lista de datos\n",
    "            data.append(evento_dict)\n",
    "\n",
    "# Crear un DataFrame a partir de la lista de datos\n",
    "df4 = pd.DataFrame(data)"
   ]
  },
  {
   "cell_type": "code",
   "execution_count": 15,
   "id": "1429bc23",
   "metadata": {},
   "outputs": [],
   "source": [
    "df4.to_csv('df4.csv', index=False, encoding='utf-8')"
   ]
  },
  {
   "cell_type": "markdown",
   "id": "065df265",
   "metadata": {},
   "source": [
    "## SIGUIENTE (df5)"
   ]
  },
  {
   "cell_type": "code",
   "execution_count": null,
   "id": "5a3e945f",
   "metadata": {},
   "outputs": [],
   "source": [
    "links.Links[25:30]"
   ]
  },
  {
   "cell_type": "code",
   "execution_count": 16,
   "id": "9aa19de9",
   "metadata": {
    "collapsed": true
   },
   "outputs": [
    {
     "name": "stdout",
     "output_type": "stream",
     "text": [
      "pag 1\n",
      "0\n",
      "1\n",
      "2\n",
      "3\n",
      "4\n",
      "pag 2\n",
      "No hay más eventos en la página 2 de /artist/real-madrid-c-f/\n",
      "pag 1\n",
      "0\n",
      "1\n",
      "2\n",
      "3\n",
      "4\n",
      "pag 2\n",
      "No hay más eventos en la página 2 de /artist/biznaga/\n",
      "pag 1\n",
      "0\n",
      "1\n",
      "2\n",
      "3\n",
      "4\n",
      "pag 2\n",
      "No hay más eventos en la página 2 de /artist/mayumana-/mayumana-impulso-madrid-3486653/\n",
      "pag 1\n",
      "0\n",
      "1\n",
      "2\n",
      "3\n",
      "4\n",
      "pag 2\n",
      "No hay más eventos en la página 2 de /artist/circlassica/\n",
      "pag 1\n",
      "0\n",
      "1\n",
      "2\n",
      "3\n",
      "4\n",
      "pag 2\n",
      "No hay más eventos en la página 2 de /artist/pica-pica/\n"
     ]
    }
   ],
   "source": [
    "lst4=[]\n",
    "for link in links.Links[25:30]:\n",
    "    lst4.append(extract(link, 5))"
   ]
  },
  {
   "cell_type": "code",
   "execution_count": 18,
   "id": "baae5720",
   "metadata": {},
   "outputs": [],
   "source": [
    "# Lista para almacenar los datos\n",
    "data = []\n",
    "\n",
    "# Iterar sobre la lista principal\n",
    "for eventos in lst4:\n",
    "    # Iterar sobre cada sublista de eventos\n",
    "    for evento in eventos:\n",
    "        # Desglosar la información del evento\n",
    "        for i in range(len(evento[0])):\n",
    "            nombre = evento[0][i]\n",
    "            fecha = evento[1][i]\n",
    "            ubicacion = evento[2][i]\n",
    "            precio = evento[3][i]\n",
    "            enlace = evento[4][i]\n",
    "\n",
    "            # Crear un diccionario con la información del evento\n",
    "            evento_dict = {\n",
    "                'Nombre': nombre,\n",
    "                'Fecha': fecha,\n",
    "                'Ubicacion': ubicacion,\n",
    "                'Precio': precio,\n",
    "                'Enlace': enlace\n",
    "            }\n",
    "\n",
    "            # Agregar el diccionario a la lista de datos\n",
    "            data.append(evento_dict)\n",
    "\n",
    "# Crear un DataFrame a partir de la lista de datos\n",
    "df5 = pd.DataFrame(data)"
   ]
  },
  {
   "cell_type": "code",
   "execution_count": 20,
   "id": "89e0142f",
   "metadata": {},
   "outputs": [],
   "source": [
    "df5.to_csv('df5.csv', index=False, encoding='utf-8')"
   ]
  },
  {
   "cell_type": "markdown",
   "id": "44bdeae1",
   "metadata": {},
   "source": [
    "## SIGUIENTE (df6)"
   ]
  },
  {
   "cell_type": "code",
   "execution_count": 21,
   "id": "a696cd4d",
   "metadata": {},
   "outputs": [
    {
     "data": {
      "text/plain": [
       "30                     /artist/el-club-de-la-comedia/\n",
       "31    /artist/de-caperucita-a-loba-en-solo-seis-tios/\n",
       "32                      /artist/eugenio-solo-hay-uno/\n",
       "33                                    /artist/morreo/\n",
       "34                           /artist/faemino-cansado/\n",
       "Name: Links, dtype: object"
      ]
     },
     "execution_count": 21,
     "metadata": {},
     "output_type": "execute_result"
    }
   ],
   "source": [
    "links.Links[30:35]"
   ]
  },
  {
   "cell_type": "code",
   "execution_count": 22,
   "id": "d4d73812",
   "metadata": {
    "collapsed": true
   },
   "outputs": [
    {
     "name": "stdout",
     "output_type": "stream",
     "text": [
      "pag 1\n",
      "0\n",
      "1\n",
      "2\n",
      "3\n",
      "4\n",
      "pag 2\n",
      "No hay más eventos en la página 2 de /artist/el-club-de-la-comedia/\n",
      "pag 1\n",
      "No hay más eventos en la página 1 de /artist/de-caperucita-a-loba-en-solo-seis-tios/\n",
      "pag 1\n",
      "0\n",
      "1\n",
      "2\n",
      "3\n",
      "4\n",
      "pag 2\n",
      "No hay más eventos en la página 2 de /artist/eugenio-solo-hay-uno/\n",
      "pag 1\n",
      "0\n",
      "1\n",
      "2\n",
      "3\n",
      "4\n",
      "pag 2\n",
      "No hay más eventos en la página 2 de /artist/morreo/\n",
      "pag 1\n",
      "0\n",
      "1\n",
      "2\n",
      "3\n",
      "4\n",
      "pag 2\n",
      "No hay más eventos en la página 2 de /artist/faemino-cansado/\n"
     ]
    }
   ],
   "source": [
    "lst5=[]\n",
    "for link in links.Links[30:35]:\n",
    "    lst5.append(extract(link, 5))"
   ]
  },
  {
   "cell_type": "code",
   "execution_count": 25,
   "id": "e2d4ec01",
   "metadata": {},
   "outputs": [],
   "source": [
    "from suport import df_event\n",
    "df6 = df_event(lst5)\n",
    "df6 = pd.DataFrame(df6)"
   ]
  },
  {
   "cell_type": "code",
   "execution_count": 26,
   "id": "b405265e",
   "metadata": {},
   "outputs": [
    {
     "data": {
      "text/html": [
       "<div>\n",
       "<style scoped>\n",
       "    .dataframe tbody tr th:only-of-type {\n",
       "        vertical-align: middle;\n",
       "    }\n",
       "\n",
       "    .dataframe tbody tr th {\n",
       "        vertical-align: top;\n",
       "    }\n",
       "\n",
       "    .dataframe thead th {\n",
       "        text-align: right;\n",
       "    }\n",
       "</style>\n",
       "<table border=\"1\" class=\"dataframe\">\n",
       "  <thead>\n",
       "    <tr style=\"text-align: right;\">\n",
       "      <th></th>\n",
       "      <th>Nombre</th>\n",
       "      <th>Fecha</th>\n",
       "      <th>Ubicacion</th>\n",
       "      <th>Precio</th>\n",
       "      <th>Enlace</th>\n",
       "    </tr>\n",
       "  </thead>\n",
       "  <tbody>\n",
       "    <tr>\n",
       "      <th>0</th>\n",
       "      <td>Feliz Año Neox presenta El Club de la Comedia</td>\n",
       "      <td>2023-12-13T21:00:00.000+01:00</td>\n",
       "      <td>Teatro Diéguez</td>\n",
       "      <td>desde 5,00 €</td>\n",
       "      <td>https://www.entradas.com/event/feliz-ano-neox-...</td>\n",
       "    </tr>\n",
       "    <tr>\n",
       "      <th>1</th>\n",
       "      <td>Eugenio solo hay uno</td>\n",
       "      <td>2023-12-11T20:30:00.000+01:00</td>\n",
       "      <td>Teatro Coliseum</td>\n",
       "      <td>desde 20,00 €</td>\n",
       "      <td>https://www.entradas.com/event/pablo-chiapella...</td>\n",
       "    </tr>\n",
       "    <tr>\n",
       "      <th>2</th>\n",
       "      <td>Morreo - Alegría Club!</td>\n",
       "      <td>2024-01-18T21:30:00.000+01:00</td>\n",
       "      <td>Sala El Sol</td>\n",
       "      <td>desde 14,50 €</td>\n",
       "      <td>https://www.entradas.com/event/morreo-alegria-...</td>\n",
       "    </tr>\n",
       "    <tr>\n",
       "      <th>3</th>\n",
       "      <td>Faemino y Cansado - 17 veces - Madrid</td>\n",
       "      <td>2023-12-04T20:00:00.000+01:00</td>\n",
       "      <td>Sala Capitol</td>\n",
       "      <td>desde 22,00 €</td>\n",
       "      <td>https://www.entradas.com/event/faemino-y-cansa...</td>\n",
       "    </tr>\n",
       "    <tr>\n",
       "      <th>4</th>\n",
       "      <td>Faemino y Cansado - 17 veces - Madrid</td>\n",
       "      <td>2024-01-15T20:00:00.000+01:00</td>\n",
       "      <td>Sala Capitol</td>\n",
       "      <td>desde 24,00 €</td>\n",
       "      <td>https://www.entradas.com/event/faemino-y-cansa...</td>\n",
       "    </tr>\n",
       "  </tbody>\n",
       "</table>\n",
       "</div>"
      ],
      "text/plain": [
       "                                          Nombre  \\\n",
       "0  Feliz Año Neox presenta El Club de la Comedia   \n",
       "1                           Eugenio solo hay uno   \n",
       "2                         Morreo - Alegría Club!   \n",
       "3          Faemino y Cansado - 17 veces - Madrid   \n",
       "4          Faemino y Cansado - 17 veces - Madrid   \n",
       "\n",
       "                           Fecha        Ubicacion         Precio  \\\n",
       "0  2023-12-13T21:00:00.000+01:00   Teatro Diéguez   desde 5,00 €   \n",
       "1  2023-12-11T20:30:00.000+01:00  Teatro Coliseum  desde 20,00 €   \n",
       "2  2024-01-18T21:30:00.000+01:00      Sala El Sol  desde 14,50 €   \n",
       "3  2023-12-04T20:00:00.000+01:00     Sala Capitol  desde 22,00 €   \n",
       "4  2024-01-15T20:00:00.000+01:00     Sala Capitol  desde 24,00 €   \n",
       "\n",
       "                                              Enlace  \n",
       "0  https://www.entradas.com/event/feliz-ano-neox-...  \n",
       "1  https://www.entradas.com/event/pablo-chiapella...  \n",
       "2  https://www.entradas.com/event/morreo-alegria-...  \n",
       "3  https://www.entradas.com/event/faemino-y-cansa...  \n",
       "4  https://www.entradas.com/event/faemino-y-cansa...  "
      ]
     },
     "execution_count": 26,
     "metadata": {},
     "output_type": "execute_result"
    }
   ],
   "source": [
    "df6"
   ]
  },
  {
   "cell_type": "code",
   "execution_count": 59,
   "id": "e7a0eabd",
   "metadata": {},
   "outputs": [],
   "source": [
    "df6.to_csv('df6.csv', index=False, encoding='utf-8')"
   ]
  },
  {
   "cell_type": "markdown",
   "id": "3b17a090",
   "metadata": {},
   "source": [
    "## SIGUIENTE (df7)"
   ]
  },
  {
   "cell_type": "code",
   "execution_count": 30,
   "id": "b4a0fbdf",
   "metadata": {},
   "outputs": [
    {
     "data": {
      "text/plain": [
       "35        /artist/jorge-blass/\n",
       "36      /artist/miguel-poveda/\n",
       "37    /artist/luis-piedrahita/\n",
       "38    /artist/diego-el-cigala/\n",
       "39        /artist/sexy-zebras/\n",
       "Name: Links, dtype: object"
      ]
     },
     "execution_count": 30,
     "metadata": {},
     "output_type": "execute_result"
    }
   ],
   "source": [
    "links.Links[35:40]"
   ]
  },
  {
   "cell_type": "code",
   "execution_count": null,
   "id": "300d7931",
   "metadata": {
    "collapsed": true
   },
   "outputs": [],
   "source": [
    "lst6=[]\n",
    "for link in links.Links[35:40]:\n",
    "    lst6.append(extract(link, 5))"
   ]
  },
  {
   "cell_type": "code",
   "execution_count": 33,
   "id": "e6f9505c",
   "metadata": {},
   "outputs": [],
   "source": [
    "from suport import df_event\n",
    "df7 = df_event(lst6)"
   ]
  },
  {
   "cell_type": "code",
   "execution_count": 60,
   "id": "f9ef4b57",
   "metadata": {},
   "outputs": [],
   "source": [
    "df7 = pd.DataFrame(df7)\n",
    "df7.to_csv('df7.csv', index=False, encoding='utf-8')"
   ]
  },
  {
   "cell_type": "code",
   "execution_count": 37,
   "id": "ab6ecf16",
   "metadata": {},
   "outputs": [],
   "source": [
    "#driver.quit()"
   ]
  },
  {
   "cell_type": "markdown",
   "id": "47fd0ecf",
   "metadata": {},
   "source": [
    "## SIGUIENTE (df8)"
   ]
  },
  {
   "cell_type": "code",
   "execution_count": 43,
   "id": "5f94cd1c",
   "metadata": {},
   "outputs": [
    {
     "data": {
      "text/plain": [
       "40    /artist/symphonic-rhapsody-of-queen/symphonic-...\n",
       "41                         /artist/ilustres-ignorantes/\n",
       "42                                /artist/rafa-sanchez/\n",
       "43                      /artist/real-madrid-baloncesto/\n",
       "44                                         /artist/obk/\n",
       "Name: Links, dtype: object"
      ]
     },
     "execution_count": 43,
     "metadata": {},
     "output_type": "execute_result"
    }
   ],
   "source": [
    "links.Links[40:45]"
   ]
  },
  {
   "cell_type": "code",
   "execution_count": 44,
   "id": "207b8775",
   "metadata": {
    "collapsed": true
   },
   "outputs": [
    {
     "name": "stdout",
     "output_type": "stream",
     "text": [
      "pag 1\n",
      "0\n",
      "1\n",
      "2\n",
      "3\n",
      "4\n",
      "pag 2\n",
      "No hay más eventos en la página 2 de /artist/symphonic-rhapsody-of-queen/symphonic-rhapsody-of-queen-3295553/\n",
      "pag 1\n",
      "No hay más eventos en la página 1 de /artist/ilustres-ignorantes/\n",
      "pag 1\n",
      "0\n",
      "1\n",
      "2\n",
      "3\n",
      "4\n",
      "pag 2\n",
      "No hay más eventos en la página 2 de /artist/rafa-sanchez/\n",
      "pag 1\n",
      "0\n",
      "1\n",
      "2\n",
      "3\n",
      "4\n",
      "pag 2\n",
      "No hay más eventos en la página 2 de /artist/real-madrid-baloncesto/\n",
      "pag 1\n",
      "0\n",
      "1\n",
      "2\n",
      "3\n",
      "4\n",
      "pag 2\n",
      "No hay más eventos en la página 2 de /artist/obk/\n"
     ]
    }
   ],
   "source": [
    "lst7=[]\n",
    "for link in links.Links[40:45]:\n",
    "    lst7.append(extract(link, 5))"
   ]
  },
  {
   "cell_type": "code",
   "execution_count": null,
   "metadata": {},
   "outputs": [],
   "source": [
    "from suport import df_event\n",
    "df8 = df_event(lst7)"
   ]
  },
  {
   "cell_type": "code",
   "execution_count": 61,
   "id": "a8c0f66a",
   "metadata": {},
   "outputs": [],
   "source": [
    "df8 = pd.DataFrame(df8)\n",
    "df8.to_csv('df8.csv', index=False, encoding='utf-8')"
   ]
  },
  {
   "cell_type": "markdown",
   "id": "fb8900f3",
   "metadata": {},
   "source": [
    "## SIGUIENTE (df9)"
   ]
  },
  {
   "cell_type": "code",
   "execution_count": 50,
   "id": "cb74525e",
   "metadata": {},
   "outputs": [
    {
     "data": {
      "text/plain": [
       "45    /artist/rock-en-familia/rock-en-familia-hijos-...\n",
       "46    /artist/rock-en-familia/rock-en-familia-i-love...\n",
       "47    /artist/rock-en-familia/rock-en-familia-i-love...\n",
       "48    /artist/rock-en-familia/rock-en-familia-queenm...\n",
       "49                           /artist/peter-pan-musical/\n",
       "Name: Links, dtype: object"
      ]
     },
     "execution_count": 50,
     "metadata": {},
     "output_type": "execute_result"
    }
   ],
   "source": [
    "links.Links[45:50]"
   ]
  },
  {
   "cell_type": "code",
   "execution_count": 51,
   "id": "c9e7eefb",
   "metadata": {
    "collapsed": true
   },
   "outputs": [
    {
     "name": "stdout",
     "output_type": "stream",
     "text": [
      "pag 1\n",
      "0\n",
      "1\n",
      "2\n",
      "3\n",
      "4\n",
      "pag 2\n",
      "No hay más eventos en la página 2 de /artist/rock-en-familia/rock-en-familia-hijos-del-rock-and-roll-3272770/\n",
      "pag 1\n",
      "0\n",
      "1\n",
      "2\n",
      "3\n",
      "4\n",
      "pag 2\n",
      "No hay más eventos en la página 2 de /artist/rock-en-familia/rock-en-familia-i-love-rock-and-roll-3221042/\n",
      "pag 1\n",
      "0\n",
      "1\n",
      "2\n",
      "3\n",
      "4\n",
      "pag 2\n",
      "No hay más eventos en la página 2 de /artist/rock-en-familia/rock-en-familia-i-love-heavy-metal-3449495/\n",
      "pag 1\n",
      "0\n",
      "1\n",
      "2\n",
      "3\n",
      "4\n",
      "pag 2\n",
      "No hay más eventos en la página 2 de /artist/rock-en-familia/rock-en-familia-queenmania-3294746/\n",
      "pag 1\n",
      "No hay más eventos en la página 1 de /artist/peter-pan-musical/\n"
     ]
    }
   ],
   "source": [
    "lst8=[]\n",
    "for link in links.Links[45:50]:\n",
    "    lst8.append(extract(link, 5))"
   ]
  },
  {
   "cell_type": "code",
   "execution_count": 153,
   "id": "85dcf0d5",
   "metadata": {},
   "outputs": [],
   "source": [
    "from suport import df_event\n",
    "df9 = df_event(lst8)"
   ]
  },
  {
   "cell_type": "code",
   "execution_count": 157,
   "id": "645e73a1",
   "metadata": {},
   "outputs": [],
   "source": [
    "df9 = pd.DataFrame(df9)\n",
    "df9.to_csv('df9.csv', index=False, encoding='utf-8')"
   ]
  },
  {
   "cell_type": "markdown",
   "id": "9474dd97",
   "metadata": {},
   "source": [
    "## SIGUIENTE (df10)"
   ]
  },
  {
   "cell_type": "code",
   "execution_count": 54,
   "id": "978a7f51",
   "metadata": {
    "scrolled": true
   },
   "outputs": [
    {
     "data": {
      "text/plain": [
       "50                /artist/morgan/morgan-madrid-3005721/\n",
       "51                                  /artist/sex-museum/\n",
       "52                                /artist/alex-clavero/\n",
       "53                                 /artist/david-guapo/\n",
       "54    /artist/atletico-de-madrid/territorio-atleti-m...\n",
       "Name: Links, dtype: object"
      ]
     },
     "execution_count": 54,
     "metadata": {},
     "output_type": "execute_result"
    }
   ],
   "source": [
    "links.Links[50:55]"
   ]
  },
  {
   "cell_type": "code",
   "execution_count": 62,
   "id": "68b8e40d",
   "metadata": {
    "collapsed": true
   },
   "outputs": [
    {
     "name": "stdout",
     "output_type": "stream",
     "text": [
      "pag 1\n",
      "0\n",
      "1\n",
      "2\n",
      "3\n",
      "4\n",
      "pag 2\n",
      "No hay más eventos en la página 2 de /artist/morgan/morgan-madrid-3005721/\n",
      "pag 1\n",
      "0\n",
      "1\n",
      "2\n",
      "3\n",
      "4\n",
      "pag 2\n",
      "No hay más eventos en la página 2 de /artist/sex-museum/\n",
      "pag 1\n",
      "No hay más eventos en la página 1 de /artist/alex-clavero/\n",
      "pag 1\n",
      "0\n",
      "1\n",
      "2\n",
      "3\n",
      "4\n",
      "pag 2\n",
      "No hay más eventos en la página 2 de /artist/david-guapo/\n",
      "pag 1\n",
      "0\n",
      "1\n",
      "2\n",
      "3\n",
      "4\n",
      "pag 2\n",
      "0\n",
      "1\n",
      "2\n",
      "3\n",
      "4\n",
      "pag 3\n",
      "0\n",
      "1\n",
      "2\n",
      "3\n",
      "4\n",
      "pag 4\n",
      "0\n",
      "1\n",
      "2\n",
      "3\n",
      "4\n"
     ]
    }
   ],
   "source": [
    "lst9=[]\n",
    "for link in links.Links[50:55]:\n",
    "    lst9.append(extract(link, 5))"
   ]
  },
  {
   "cell_type": "code",
   "execution_count": 158,
   "id": "1ed2cda6",
   "metadata": {},
   "outputs": [],
   "source": [
    "from suport import df_event\n",
    "df10 = df_event(lst9)"
   ]
  },
  {
   "cell_type": "code",
   "execution_count": 160,
   "id": "847a525a",
   "metadata": {},
   "outputs": [],
   "source": [
    "df10 = pd.DataFrame(df10)\n",
    "df10.to_csv('df10.csv', index=False, encoding='utf-8')"
   ]
  },
  {
   "cell_type": "markdown",
   "id": "d6fc315a",
   "metadata": {},
   "source": [
    "## SIGUIENTE (df11)"
   ]
  },
  {
   "cell_type": "code",
   "execution_count": 76,
   "id": "6754b93f",
   "metadata": {},
   "outputs": [
    {
     "data": {
      "text/plain": [
       "55                                /artist/los-zigarros/\n",
       "56                          /artist/aladdin-el-musical/\n",
       "57                        /artist/el-sentido-del-humor/\n",
       "58                               /artist/queralt-lahoz/\n",
       "59    /artist/el-brujo/el-brujo-los-dioses-y-dios-ma...\n",
       "60    /artist/el-brujo/el-brujo-el-lazarillo-de-torm...\n",
       "61    /artist/el-brujo/el-brujo-el-viaje-del-monstru...\n",
       "62    /artist/el-brujo/el-brujo-autobiografia-de-un-...\n",
       "63                             /artist/alex-o-dogherty/\n",
       "64       /artist/india-martinez/india-martinez-3473270/\n",
       "Name: Links, dtype: object"
      ]
     },
     "execution_count": 76,
     "metadata": {},
     "output_type": "execute_result"
    }
   ],
   "source": [
    "links.Links[55:65]"
   ]
  },
  {
   "cell_type": "code",
   "execution_count": 70,
   "id": "7ef2bc6e",
   "metadata": {
    "collapsed": true
   },
   "outputs": [
    {
     "name": "stdout",
     "output_type": "stream",
     "text": [
      "pag 1\n",
      "No hay más eventos en la página 1 de /artist/los-zigarros/\n",
      "pag 1\n",
      "0\n",
      "1\n",
      "2\n",
      "3\n",
      "4\n",
      "pag 2\n",
      "0\n",
      "1\n",
      "2\n",
      "3\n",
      "4\n",
      "pag 3\n",
      "0\n",
      "1\n",
      "2\n",
      "3\n",
      "4\n",
      "pag 4\n",
      "0\n",
      "1\n",
      "2\n",
      "3\n",
      "4\n",
      "pag 1\n",
      "0\n",
      "1\n",
      "2\n",
      "3\n",
      "4\n",
      "pag 2\n",
      "No hay más eventos en la página 2 de /artist/el-sentido-del-humor/\n",
      "pag 1\n",
      "0\n",
      "1\n",
      "2\n",
      "3\n",
      "4\n",
      "pag 2\n",
      "No hay más eventos en la página 2 de /artist/queralt-lahoz/\n",
      "pag 1\n",
      "0\n",
      "1\n",
      "2\n",
      "3\n",
      "4\n",
      "pag 2\n",
      "0\n",
      "1\n",
      "2\n",
      "3\n",
      "4\n",
      "pag 3\n",
      "No hay más eventos en la página 3 de /artist/el-brujo/el-brujo-los-dioses-y-dios-madrid-3038073/\n",
      "pag 1\n",
      "0\n",
      "1\n",
      "2\n",
      "3\n",
      "4\n",
      "pag 2\n",
      "No hay más eventos en la página 2 de /artist/el-brujo/el-brujo-el-lazarillo-de-tormes-madrid-3527317/\n",
      "pag 1\n",
      "0\n",
      "1\n",
      "2\n",
      "3\n",
      "4\n",
      "pag 2\n",
      "0\n",
      "1\n",
      "2\n",
      "3\n",
      "4\n",
      "pag 3\n",
      "No hay más eventos en la página 3 de /artist/el-brujo/el-brujo-el-viaje-del-monstruo-fiero-madrid-3534266/\n",
      "pag 1\n",
      "0\n",
      "1\n",
      "2\n",
      "3\n",
      "4\n",
      "pag 2\n",
      "No hay más eventos en la página 2 de /artist/el-brujo/el-brujo-autobiografia-de-un-yogui-madrid-3527318/\n",
      "pag 1\n",
      "No hay más eventos en la página 1 de /artist/alex-o-dogherty/\n",
      "pag 1\n",
      "0\n",
      "1\n",
      "2\n",
      "3\n",
      "4\n",
      "pag 2\n",
      "No hay más eventos en la página 2 de /artist/india-martinez/india-martinez-3473270/\n"
     ]
    }
   ],
   "source": [
    "lst10=[]\n",
    "for link in links.Links[55:65]:\n",
    "    lst10.append(extract(link, 5))"
   ]
  },
  {
   "cell_type": "code",
   "execution_count": 162,
   "id": "1260d0ee",
   "metadata": {},
   "outputs": [],
   "source": [
    "from suport import df_event\n",
    "df11 = df_event(lst10)"
   ]
  },
  {
   "cell_type": "code",
   "execution_count": 163,
   "id": "da612063",
   "metadata": {},
   "outputs": [],
   "source": [
    "df11 = pd.DataFrame(df11)\n",
    "df11.to_csv('df11.csv', index=False, encoding='utf-8')"
   ]
  },
  {
   "cell_type": "markdown",
   "id": "aa10c8c1",
   "metadata": {},
   "source": [
    "## SIGUIENTE (df12)"
   ]
  },
  {
   "cell_type": "code",
   "execution_count": 77,
   "id": "f2c57f1d",
   "metadata": {},
   "outputs": [
    {
     "data": {
      "text/plain": [
       "65                                    /artist/malinche/\n",
       "66                     /artist/el-fantasma-de-la-opera/\n",
       "67    /artist/corta-el-cable-rojo/corta-el-cable-roj...\n",
       "68    /artist/harlem-globetrotters/harlem-globetrott...\n",
       "69                               /artist/el-monaguillo/\n",
       "70                                     /artist/ternura/\n",
       "71             /artist/la-bella-y-la-bestia-el-musical/\n",
       "72                                         /artist/noa/\n",
       "73    /artist/alicia-en-el-pais-de-las-maravillas-la...\n",
       "74                      /artist/queen-we-will-rock-you/\n",
       "Name: Links, dtype: object"
      ]
     },
     "execution_count": 77,
     "metadata": {},
     "output_type": "execute_result"
    }
   ],
   "source": [
    "links.Links[65:75]"
   ]
  },
  {
   "cell_type": "code",
   "execution_count": 79,
   "id": "82b382e7",
   "metadata": {
    "collapsed": true
   },
   "outputs": [
    {
     "name": "stdout",
     "output_type": "stream",
     "text": [
      "pag 1\n",
      "0\n",
      "1\n",
      "2\n",
      "3\n",
      "4\n",
      "pag 2\n",
      "0\n",
      "1\n",
      "2\n",
      "3\n",
      "4\n",
      "pag 3\n",
      "0\n",
      "1\n",
      "2\n",
      "3\n",
      "4\n",
      "pag 4\n",
      "0\n",
      "1\n",
      "2\n",
      "3\n",
      "4\n",
      "pag 1\n",
      "0\n",
      "1\n",
      "2\n",
      "3\n",
      "4\n",
      "pag 2\n",
      "0\n",
      "1\n",
      "2\n",
      "3\n",
      "4\n",
      "pag 3\n",
      "0\n",
      "1\n",
      "2\n",
      "3\n",
      "4\n",
      "pag 4\n",
      "No hay más eventos en la página 4 de /artist/el-fantasma-de-la-opera/\n",
      "pag 1\n",
      "0\n",
      "1\n",
      "2\n",
      "3\n",
      "4\n",
      "pag 2\n",
      "0\n",
      "1\n",
      "2\n",
      "3\n",
      "4\n",
      "pag 3\n",
      "0\n",
      "1\n",
      "2\n",
      "3\n",
      "4\n",
      "pag 4\n",
      "No hay más eventos en la página 4 de /artist/corta-el-cable-rojo/corta-el-cable-rojo-madrid-1467602/\n",
      "pag 1\n",
      "0\n",
      "1\n",
      "2\n",
      "3\n",
      "4\n",
      "pag 2\n",
      "No hay más eventos en la página 2 de /artist/harlem-globetrotters/harlem-globetrotters-madrid-3341839/\n",
      "pag 1\n",
      "No hay más eventos en la página 1 de /artist/el-monaguillo/\n",
      "pag 1\n",
      "0\n",
      "1\n",
      "2\n",
      "3\n",
      "4\n",
      "pag 2\n",
      "No hay más eventos en la página 2 de /artist/ternura/\n",
      "pag 1\n",
      "0\n",
      "1\n",
      "2\n",
      "3\n",
      "4\n",
      "pag 2\n",
      "No hay más eventos en la página 2 de /artist/la-bella-y-la-bestia-el-musical/\n",
      "pag 1\n",
      "0\n",
      "1\n",
      "2\n",
      "3\n",
      "4\n",
      "pag 2\n",
      "No hay más eventos en la página 2 de /artist/noa/\n",
      "pag 1\n",
      "0\n",
      "1\n",
      "2\n",
      "3\n",
      "4\n",
      "pag 2\n",
      "No hay más eventos en la página 2 de /artist/alicia-en-el-pais-de-las-maravillas-la-maquineta/\n",
      "pag 1\n",
      "0\n",
      "1\n",
      "2\n",
      "3\n",
      "4\n",
      "pag 2\n",
      "0\n",
      "1\n",
      "2\n",
      "3\n",
      "4\n",
      "pag 3\n",
      "0\n",
      "1\n",
      "2\n",
      "3\n",
      "4\n",
      "pag 4\n",
      "0\n",
      "1\n",
      "2\n",
      "3\n",
      "4\n"
     ]
    }
   ],
   "source": [
    "lst11=[]\n",
    "for link in links.Links[65:75]:\n",
    "    lst11.append(extract(link, 5))"
   ]
  },
  {
   "cell_type": "code",
   "execution_count": 164,
   "id": "65faf74a",
   "metadata": {},
   "outputs": [],
   "source": [
    "from suport import df_event\n",
    "df12 = df_event(lst11)"
   ]
  },
  {
   "cell_type": "code",
   "execution_count": 165,
   "id": "05ce62c0",
   "metadata": {},
   "outputs": [],
   "source": [
    "df12 = pd.DataFrame(df12)\n",
    "df12.to_csv('df12.csv', index=False, encoding='utf-8')"
   ]
  },
  {
   "cell_type": "code",
   "execution_count": 84,
   "id": "2fa7048d",
   "metadata": {},
   "outputs": [],
   "source": [
    "#driver.quit()"
   ]
  },
  {
   "cell_type": "markdown",
   "id": "5de9a8ed",
   "metadata": {},
   "source": [
    "## SIGUIENTE (df13)"
   ]
  },
  {
   "cell_type": "code",
   "execution_count": 91,
   "id": "65e33273",
   "metadata": {},
   "outputs": [
    {
     "data": {
      "text/plain": [
       "75               /artist/whitney-houston-hologram-tour/\n",
       "76       /artist/javi-rufo/123-magia-javi-rufo-2791317/\n",
       "77    /artist/javi-rufo/magia-en-juego-javi-rufo-345...\n",
       "78        /artist/javi-rufo/vinculos-javi-rufo-3539517/\n",
       "79            /artist/la-granja-de-zenon-el-gran-gallo/\n",
       "Name: Links, dtype: object"
      ]
     },
     "execution_count": 91,
     "metadata": {},
     "output_type": "execute_result"
    }
   ],
   "source": [
    "links.Links[75:80]"
   ]
  },
  {
   "cell_type": "code",
   "execution_count": 93,
   "id": "573528bd",
   "metadata": {
    "collapsed": true
   },
   "outputs": [
    {
     "name": "stdout",
     "output_type": "stream",
     "text": [
      "pag 1\n",
      "0\n",
      "1\n",
      "2\n",
      "3\n",
      "4\n",
      "pag 2\n",
      "No hay más eventos en la página 2 de /artist/whitney-houston-hologram-tour/\n",
      "pag 1\n",
      "0\n",
      "1\n",
      "2\n",
      "3\n",
      "4\n",
      "pag 2\n",
      "0\n",
      "1\n",
      "2\n",
      "3\n",
      "4\n",
      "pag 3\n",
      "0\n",
      "1\n",
      "2\n",
      "3\n",
      "4\n",
      "pag 4\n",
      "No hay más eventos en la página 4 de /artist/javi-rufo/123-magia-javi-rufo-2791317/\n",
      "pag 1\n",
      "0\n",
      "1\n",
      "2\n",
      "3\n",
      "4\n",
      "pag 2\n",
      "No hay más eventos en la página 2 de /artist/javi-rufo/magia-en-juego-javi-rufo-3459459/\n",
      "pag 1\n",
      "0\n",
      "1\n",
      "2\n",
      "3\n",
      "4\n",
      "pag 2\n",
      "No hay más eventos en la página 2 de /artist/javi-rufo/vinculos-javi-rufo-3539517/\n",
      "pag 1\n",
      "0\n",
      "1\n",
      "2\n",
      "3\n",
      "4\n",
      "pag 2\n",
      "No hay más eventos en la página 2 de /artist/la-granja-de-zenon-el-gran-gallo/\n"
     ]
    }
   ],
   "source": [
    "lst12=[]\n",
    "for link in links.Links[75:80]:\n",
    "    lst12.append(extract(link, 5))"
   ]
  },
  {
   "cell_type": "code",
   "execution_count": 167,
   "id": "0bb7d5cc",
   "metadata": {},
   "outputs": [],
   "source": [
    "from suport import df_event\n",
    "df13 = df_event(lst12)"
   ]
  },
  {
   "cell_type": "code",
   "execution_count": 169,
   "id": "2b329d7d",
   "metadata": {},
   "outputs": [],
   "source": [
    "df13 = pd.DataFrame(df13)\n",
    "df13.to_csv('df13.csv', index=False, encoding='utf-8')"
   ]
  },
  {
   "cell_type": "markdown",
   "id": "e10a6a19",
   "metadata": {},
   "source": [
    "## SIGUIENTE (df14)"
   ]
  },
  {
   "cell_type": "code",
   "execution_count": 101,
   "id": "66562b1b",
   "metadata": {},
   "outputs": [
    {
     "data": {
      "text/plain": [
       "80    /artist/disney-on-ice/disney-on-ice-100-anos-d...\n",
       "81           /artist/la-flauta-magica-mi-primera-opera/\n",
       "82    /artist/el-mago-yunke/el-mago-yunke-madrid-321...\n",
       "83    /artist/mocedades/mocedades-avanzando-hacia-el...\n",
       "84                                 /artist/tito-nieves/\n",
       "Name: Links, dtype: object"
      ]
     },
     "execution_count": 101,
     "metadata": {},
     "output_type": "execute_result"
    }
   ],
   "source": [
    "links.Links[80:85]"
   ]
  },
  {
   "cell_type": "code",
   "execution_count": 102,
   "id": "3ba1f12e",
   "metadata": {
    "collapsed": true
   },
   "outputs": [
    {
     "name": "stdout",
     "output_type": "stream",
     "text": [
      "pag 1\n",
      "0\n",
      "1\n",
      "2\n",
      "3\n",
      "4\n",
      "pag 2\n",
      "No hay más eventos en la página 2 de /artist/disney-on-ice/disney-on-ice-100-anos-de-emocion-en-madrid-3231572/\n",
      "pag 1\n",
      "0\n",
      "1\n",
      "2\n",
      "3\n",
      "4\n",
      "pag 2\n",
      "No hay más eventos en la página 2 de /artist/la-flauta-magica-mi-primera-opera/\n",
      "pag 1\n",
      "No hay más eventos en la página 1 de /artist/el-mago-yunke/el-mago-yunke-madrid-3213684/\n",
      "pag 1\n",
      "0\n",
      "1\n",
      "2\n",
      "3\n",
      "4\n",
      "pag 2\n",
      "No hay más eventos en la página 2 de /artist/mocedades/mocedades-avanzando-hacia-el-futuro-3411037/\n",
      "pag 1\n",
      "0\n",
      "1\n",
      "2\n",
      "3\n",
      "4\n",
      "pag 2\n",
      "No hay más eventos en la página 2 de /artist/tito-nieves/\n"
     ]
    }
   ],
   "source": [
    "lst13=[]\n",
    "for link in links.Links[80:85]:\n",
    "    lst13.append(extract(link, 5))"
   ]
  },
  {
   "cell_type": "code",
   "execution_count": 109,
   "id": "542b5ad1",
   "metadata": {},
   "outputs": [],
   "source": [
    "from suport import df_event\n",
    "df14 = df_event(lst13)"
   ]
  },
  {
   "cell_type": "code",
   "execution_count": 112,
   "id": "644d360e",
   "metadata": {},
   "outputs": [
    {
     "data": {
      "text/html": [
       "<div>\n",
       "<style scoped>\n",
       "    .dataframe tbody tr th:only-of-type {\n",
       "        vertical-align: middle;\n",
       "    }\n",
       "\n",
       "    .dataframe tbody tr th {\n",
       "        vertical-align: top;\n",
       "    }\n",
       "\n",
       "    .dataframe thead th {\n",
       "        text-align: right;\n",
       "    }\n",
       "</style>\n",
       "<table border=\"1\" class=\"dataframe\">\n",
       "  <thead>\n",
       "    <tr style=\"text-align: right;\">\n",
       "      <th></th>\n",
       "      <th>Nombre</th>\n",
       "      <th>Fecha</th>\n",
       "      <th>Ubicacion</th>\n",
       "      <th>Precio</th>\n",
       "      <th>Enlace</th>\n",
       "    </tr>\n",
       "  </thead>\n",
       "  <tbody>\n",
       "    <tr>\n",
       "      <th>0</th>\n",
       "      <td>Disney On Ice Madrid 2024</td>\n",
       "      <td>2024-02-08T19:00:00.000+01:00</td>\n",
       "      <td>WiZink Center</td>\n",
       "      <td>desde 16,00 €</td>\n",
       "      <td>https://www.entradas.com/event/disney-on-ice-1...</td>\n",
       "    </tr>\n",
       "    <tr>\n",
       "      <th>1</th>\n",
       "      <td>Disney On Ice Madrid 2024</td>\n",
       "      <td>2024-02-09T19:45:00.000+01:00</td>\n",
       "      <td>WiZink Center</td>\n",
       "      <td></td>\n",
       "      <td>https://www.entradas.com/event/disney-on-ice-1...</td>\n",
       "    </tr>\n",
       "    <tr>\n",
       "      <th>2</th>\n",
       "      <td>Disney On Ice Madrid 2024</td>\n",
       "      <td>2024-02-10T12:00:00.000+01:00</td>\n",
       "      <td>WiZink Center</td>\n",
       "      <td>desde 16,00 €</td>\n",
       "      <td>https://www.entradas.com/event/disney-on-ice-1...</td>\n",
       "    </tr>\n",
       "    <tr>\n",
       "      <th>3</th>\n",
       "      <td>Disney On Ice Madrid 2024</td>\n",
       "      <td>2024-02-10T16:00:00.000+01:00</td>\n",
       "      <td>WiZink Center</td>\n",
       "      <td></td>\n",
       "      <td>https://www.entradas.com/event/disney-on-ice-1...</td>\n",
       "    </tr>\n",
       "    <tr>\n",
       "      <th>4</th>\n",
       "      <td>Disney On Ice Madrid 2024</td>\n",
       "      <td>2024-02-10T19:45:00.000+01:00</td>\n",
       "      <td>WiZink Center</td>\n",
       "      <td>desde 15,00 €</td>\n",
       "      <td>https://www.entradas.com/event/disney-on-ice-1...</td>\n",
       "    </tr>\n",
       "    <tr>\n",
       "      <th>5</th>\n",
       "      <td>Disney On Ice Madrid 2024</td>\n",
       "      <td>2024-02-11T12:00:00.000+01:00</td>\n",
       "      <td>WiZink Center</td>\n",
       "      <td></td>\n",
       "      <td>https://www.entradas.com/event/disney-on-ice-1...</td>\n",
       "    </tr>\n",
       "    <tr>\n",
       "      <th>6</th>\n",
       "      <td>Disney On Ice Madrid 2024</td>\n",
       "      <td>2024-02-11T16:00:00.000+01:00</td>\n",
       "      <td>WiZink Center</td>\n",
       "      <td>desde 16,00 €</td>\n",
       "      <td>https://www.entradas.com/event/disney-on-ice-1...</td>\n",
       "    </tr>\n",
       "    <tr>\n",
       "      <th>7</th>\n",
       "      <td>La Flauta Mágica. Tu primera ópera</td>\n",
       "      <td>2023-12-17T12:00:00.000+01:00</td>\n",
       "      <td>Teatro Bellas Artes</td>\n",
       "      <td>desde 8,00 €</td>\n",
       "      <td>https://www.entradas.com/event/la-flauta-magic...</td>\n",
       "    </tr>\n",
       "    <tr>\n",
       "      <th>8</th>\n",
       "      <td>La Flauta Mágica. Tu Primera Ópera</td>\n",
       "      <td>2024-01-14T12:00:00.000+01:00</td>\n",
       "      <td>Teatro Bellas Artes</td>\n",
       "      <td>desde 8,00 €</td>\n",
       "      <td>https://www.entradas.com/event/la-flauta-magic...</td>\n",
       "    </tr>\n",
       "    <tr>\n",
       "      <th>9</th>\n",
       "      <td>La Flauta Mágica. Tu Primera Ópera</td>\n",
       "      <td>2024-01-21T12:00:00.000+01:00</td>\n",
       "      <td>Teatro Bellas Artes</td>\n",
       "      <td>desde 8,00 €</td>\n",
       "      <td>https://www.entradas.com/event/la-flauta-magic...</td>\n",
       "    </tr>\n",
       "    <tr>\n",
       "      <th>10</th>\n",
       "      <td>La Flauta Mágica. Tu Primera Ópera</td>\n",
       "      <td>2024-02-04T12:00:00.000+01:00</td>\n",
       "      <td>Teatro Bellas Artes</td>\n",
       "      <td>desde 8,00 €</td>\n",
       "      <td>https://www.entradas.com/event/la-flauta-magic...</td>\n",
       "    </tr>\n",
       "    <tr>\n",
       "      <th>11</th>\n",
       "      <td>La Flauta Mágica. Tu Primera Ópera</td>\n",
       "      <td>2024-02-11T12:00:00.000+01:00</td>\n",
       "      <td>Teatro Bellas Artes</td>\n",
       "      <td>desde 8,00 €</td>\n",
       "      <td>https://www.entradas.com/event/la-flauta-magic...</td>\n",
       "    </tr>\n",
       "    <tr>\n",
       "      <th>12</th>\n",
       "      <td>Mocedades - Avanzando hacia el futuro</td>\n",
       "      <td>2024-01-08T20:30:00.000+01:00</td>\n",
       "      <td>Nuevo Teatro Alcalá</td>\n",
       "      <td>desde 30,00 €</td>\n",
       "      <td>https://www.entradas.com/event/mocedades-avanz...</td>\n",
       "    </tr>\n",
       "    <tr>\n",
       "      <th>13</th>\n",
       "      <td>Tito Nieves</td>\n",
       "      <td>2024-01-28T20:30:00.000+01:00</td>\n",
       "      <td>Sala La Riviera</td>\n",
       "      <td>desde 30,00 €</td>\n",
       "      <td>https://www.entradas.com/event/tito-nieves-sal...</td>\n",
       "    </tr>\n",
       "  </tbody>\n",
       "</table>\n",
       "</div>"
      ],
      "text/plain": [
       "                                   Nombre                          Fecha  \\\n",
       "0               Disney On Ice Madrid 2024  2024-02-08T19:00:00.000+01:00   \n",
       "1               Disney On Ice Madrid 2024  2024-02-09T19:45:00.000+01:00   \n",
       "2               Disney On Ice Madrid 2024  2024-02-10T12:00:00.000+01:00   \n",
       "3               Disney On Ice Madrid 2024  2024-02-10T16:00:00.000+01:00   \n",
       "4               Disney On Ice Madrid 2024  2024-02-10T19:45:00.000+01:00   \n",
       "5               Disney On Ice Madrid 2024  2024-02-11T12:00:00.000+01:00   \n",
       "6               Disney On Ice Madrid 2024  2024-02-11T16:00:00.000+01:00   \n",
       "7      La Flauta Mágica. Tu primera ópera  2023-12-17T12:00:00.000+01:00   \n",
       "8      La Flauta Mágica. Tu Primera Ópera  2024-01-14T12:00:00.000+01:00   \n",
       "9      La Flauta Mágica. Tu Primera Ópera  2024-01-21T12:00:00.000+01:00   \n",
       "10     La Flauta Mágica. Tu Primera Ópera  2024-02-04T12:00:00.000+01:00   \n",
       "11     La Flauta Mágica. Tu Primera Ópera  2024-02-11T12:00:00.000+01:00   \n",
       "12  Mocedades - Avanzando hacia el futuro  2024-01-08T20:30:00.000+01:00   \n",
       "13                            Tito Nieves  2024-01-28T20:30:00.000+01:00   \n",
       "\n",
       "              Ubicacion         Precio  \\\n",
       "0         WiZink Center  desde 16,00 €   \n",
       "1         WiZink Center                  \n",
       "2         WiZink Center  desde 16,00 €   \n",
       "3         WiZink Center                  \n",
       "4         WiZink Center  desde 15,00 €   \n",
       "5         WiZink Center                  \n",
       "6         WiZink Center  desde 16,00 €   \n",
       "7   Teatro Bellas Artes   desde 8,00 €   \n",
       "8   Teatro Bellas Artes   desde 8,00 €   \n",
       "9   Teatro Bellas Artes   desde 8,00 €   \n",
       "10  Teatro Bellas Artes   desde 8,00 €   \n",
       "11  Teatro Bellas Artes   desde 8,00 €   \n",
       "12  Nuevo Teatro Alcalá  desde 30,00 €   \n",
       "13      Sala La Riviera  desde 30,00 €   \n",
       "\n",
       "                                               Enlace  \n",
       "0   https://www.entradas.com/event/disney-on-ice-1...  \n",
       "1   https://www.entradas.com/event/disney-on-ice-1...  \n",
       "2   https://www.entradas.com/event/disney-on-ice-1...  \n",
       "3   https://www.entradas.com/event/disney-on-ice-1...  \n",
       "4   https://www.entradas.com/event/disney-on-ice-1...  \n",
       "5   https://www.entradas.com/event/disney-on-ice-1...  \n",
       "6   https://www.entradas.com/event/disney-on-ice-1...  \n",
       "7   https://www.entradas.com/event/la-flauta-magic...  \n",
       "8   https://www.entradas.com/event/la-flauta-magic...  \n",
       "9   https://www.entradas.com/event/la-flauta-magic...  \n",
       "10  https://www.entradas.com/event/la-flauta-magic...  \n",
       "11  https://www.entradas.com/event/la-flauta-magic...  \n",
       "12  https://www.entradas.com/event/mocedades-avanz...  \n",
       "13  https://www.entradas.com/event/tito-nieves-sal...  "
      ]
     },
     "execution_count": 112,
     "metadata": {},
     "output_type": "execute_result"
    }
   ],
   "source": [
    "df14 = pd.DataFrame(df14)\n",
    "df14"
   ]
  },
  {
   "cell_type": "code",
   "execution_count": 170,
   "id": "8e075889",
   "metadata": {},
   "outputs": [],
   "source": [
    "df14.to_csv('df14.csv', index=False, encoding='utf-8')"
   ]
  },
  {
   "cell_type": "markdown",
   "id": "dab0e634",
   "metadata": {},
   "source": [
    "## SIGUIENTE (df15)"
   ]
  },
  {
   "cell_type": "code",
   "execution_count": 115,
   "id": "c020c0cc",
   "metadata": {},
   "outputs": [
    {
     "data": {
      "text/plain": [
       "85                 /artist/inverfest/rambalaya-3538755/\n",
       "86    /artist/inverfest/pablo-und-destruktion-y-la-t...\n",
       "87              /artist/inverfest/los-blenders-1618827/\n",
       "88              /artist/inverfest/lucas-colman-3524523/\n",
       "89                   /artist/inverfest/mr-zoom-3538756/\n",
       "Name: Links, dtype: object"
      ]
     },
     "execution_count": 115,
     "metadata": {},
     "output_type": "execute_result"
    }
   ],
   "source": [
    "links.Links[85:90]"
   ]
  },
  {
   "cell_type": "code",
   "execution_count": 116,
   "id": "9475ef69",
   "metadata": {
    "collapsed": true
   },
   "outputs": [
    {
     "name": "stdout",
     "output_type": "stream",
     "text": [
      "pag 1\n",
      "0\n",
      "1\n",
      "2\n",
      "3\n",
      "4\n",
      "pag 2\n",
      "No hay más eventos en la página 2 de /artist/inverfest/rambalaya-3538755/\n",
      "pag 1\n",
      "0\n",
      "1\n",
      "2\n",
      "3\n",
      "4\n",
      "pag 2\n",
      "No hay más eventos en la página 2 de /artist/inverfest/pablo-und-destruktion-y-la-tribu-del-trueno-3524538/\n",
      "pag 1\n",
      "0\n",
      "1\n",
      "2\n",
      "3\n",
      "4\n",
      "pag 2\n",
      "No hay más eventos en la página 2 de /artist/inverfest/los-blenders-1618827/\n",
      "pag 1\n",
      "0\n",
      "1\n",
      "2\n",
      "3\n",
      "4\n",
      "pag 2\n",
      "No hay más eventos en la página 2 de /artist/inverfest/lucas-colman-3524523/\n",
      "pag 1\n",
      "0\n",
      "1\n",
      "2\n",
      "3\n",
      "4\n",
      "pag 2\n",
      "No hay más eventos en la página 2 de /artist/inverfest/mr-zoom-3538756/\n"
     ]
    }
   ],
   "source": [
    "lst14=[]\n",
    "for link in links.Links[85:90]:\n",
    "    lst14.append(extract(link, 5))"
   ]
  },
  {
   "cell_type": "code",
   "execution_count": 117,
   "id": "8024553b",
   "metadata": {},
   "outputs": [],
   "source": [
    "from suport import df_event\n",
    "df15 = df_event(lst14)"
   ]
  },
  {
   "cell_type": "code",
   "execution_count": 119,
   "id": "c7cf356a",
   "metadata": {},
   "outputs": [],
   "source": [
    "df15 = pd.DataFrame(df15)"
   ]
  },
  {
   "cell_type": "code",
   "execution_count": 121,
   "id": "e5b0ae2a",
   "metadata": {},
   "outputs": [],
   "source": [
    "df15.to_csv('df15.csv', index=False, encoding='utf-8')"
   ]
  },
  {
   "cell_type": "markdown",
   "id": "c778cd76",
   "metadata": {},
   "source": [
    "## SIGUIENTE (df16)"
   ]
  },
  {
   "cell_type": "code",
   "execution_count": 123,
   "id": "8be8a664",
   "metadata": {},
   "outputs": [
    {
     "data": {
      "text/plain": [
       "90    /artist/inverfest/txarly-usher-y-los-ejemplare...\n",
       "91             /artist/inverfest/rosin-de-palo-3538754/\n",
       "92        /artist/inverfest/kruder-dorfmeister-1730320/\n",
       "93    /artist/inverfest/albert-pla-and-the-surprise-...\n",
       "94               /artist/inverfest/bestia-bebe-3077633/\n",
       "95    /artist/inverfest/destripando-la-historia-3526...\n",
       "96              /artist/inverfest/grande-amore-3503693/\n",
       "97    /artist/inverfest/theo-lawrence-the-possums-35...\n",
       "98    /artist/inverfest/maximiliano-calvo-el-gallo-3...\n",
       "99              /artist/inverfest/ricardo-moya-3503694/\n",
       "Name: Links, dtype: object"
      ]
     },
     "execution_count": 123,
     "metadata": {},
     "output_type": "execute_result"
    }
   ],
   "source": [
    "links.Links[90:100]"
   ]
  },
  {
   "cell_type": "code",
   "execution_count": 124,
   "id": "e3f46327",
   "metadata": {
    "collapsed": true
   },
   "outputs": [
    {
     "name": "stdout",
     "output_type": "stream",
     "text": [
      "pag 1\n",
      "0\n",
      "1\n",
      "2\n",
      "3\n",
      "4\n",
      "pag 2\n",
      "No hay más eventos en la página 2 de /artist/inverfest/txarly-usher-y-los-ejemplares-kinki-boys-3538729/\n",
      "pag 1\n",
      "0\n",
      "1\n",
      "2\n",
      "3\n",
      "4\n",
      "pag 2\n",
      "No hay más eventos en la página 2 de /artist/inverfest/rosin-de-palo-3538754/\n",
      "pag 1\n",
      "0\n",
      "1\n",
      "2\n",
      "3\n",
      "4\n",
      "pag 2\n",
      "No hay más eventos en la página 2 de /artist/inverfest/kruder-dorfmeister-1730320/\n",
      "pag 1\n",
      "0\n",
      "1\n",
      "2\n",
      "3\n",
      "4\n",
      "pag 2\n",
      "No hay más eventos en la página 2 de /artist/inverfest/albert-pla-and-the-surprise-band-2909144/\n",
      "pag 1\n",
      "0\n",
      "1\n",
      "2\n",
      "3\n",
      "4\n",
      "pag 2\n",
      "No hay más eventos en la página 2 de /artist/inverfest/bestia-bebe-3077633/\n",
      "pag 1\n",
      "0\n",
      "1\n",
      "2\n",
      "3\n",
      "4\n",
      "pag 2\n",
      "No hay más eventos en la página 2 de /artist/inverfest/destripando-la-historia-3526220/\n",
      "pag 1\n",
      "0\n",
      "1\n",
      "2\n",
      "3\n",
      "4\n",
      "pag 2\n",
      "No hay más eventos en la página 2 de /artist/inverfest/grande-amore-3503693/\n",
      "pag 1\n",
      "0\n",
      "1\n",
      "2\n",
      "3\n",
      "4\n",
      "pag 2\n",
      "No hay más eventos en la página 2 de /artist/inverfest/theo-lawrence-the-possums-3526227/\n",
      "pag 1\n",
      "No hay más eventos en la página 1 de /artist/inverfest/maximiliano-calvo-el-gallo-3503683/\n",
      "pag 1\n",
      "0\n",
      "1\n",
      "2\n",
      "3\n",
      "4\n",
      "pag 2\n",
      "No hay más eventos en la página 2 de /artist/inverfest/ricardo-moya-3503694/\n"
     ]
    }
   ],
   "source": [
    "lst15=[]\n",
    "for link in links.Links[90:100]:\n",
    "    lst15.append(extract(link, 5))"
   ]
  },
  {
   "cell_type": "code",
   "execution_count": 126,
   "id": "6f5fef85",
   "metadata": {},
   "outputs": [],
   "source": [
    "from suport import df_event\n",
    "df16 = df_event(lst15)"
   ]
  },
  {
   "cell_type": "code",
   "execution_count": 127,
   "id": "eeb1e5ac",
   "metadata": {},
   "outputs": [],
   "source": [
    "df16 = pd.DataFrame(df16)"
   ]
  },
  {
   "cell_type": "code",
   "execution_count": 129,
   "id": "09011527",
   "metadata": {},
   "outputs": [],
   "source": [
    "df16.to_csv('df16.csv', index=False, encoding='utf-8')"
   ]
  },
  {
   "cell_type": "code",
   "execution_count": 171,
   "id": "7ea14327",
   "metadata": {},
   "outputs": [],
   "source": [
    "#driver.quit()"
   ]
  },
  {
   "cell_type": "markdown",
   "id": "b36fcf90",
   "metadata": {},
   "source": [
    "## SIGUIENTE (df17)"
   ]
  },
  {
   "cell_type": "code",
   "execution_count": 175,
   "id": "45b2d53b",
   "metadata": {},
   "outputs": [
    {
     "data": {
      "text/plain": [
       "100    /artist/inverfest/featherweight-oslo-ovnies-27...\n",
       "101                   /artist/inverfest/mcenroe-3503685/\n",
       "102                /artist/inverfest/paul-alone-3504465/\n",
       "103    /artist/inverfest/the-magnetics-begona-bang-ma...\n",
       "104    /artist/inverfest/muchachito-bombo-infierno-32...\n",
       "Name: Links, dtype: object"
      ]
     },
     "execution_count": 175,
     "metadata": {},
     "output_type": "execute_result"
    }
   ],
   "source": [
    "links.Links[100:105]"
   ]
  },
  {
   "cell_type": "code",
   "execution_count": 174,
   "id": "6aa362cf",
   "metadata": {},
   "outputs": [
    {
     "name": "stdout",
     "output_type": "stream",
     "text": [
      "pag 1\n",
      "0\n",
      "1\n",
      "2\n",
      "3\n",
      "4\n",
      "pag 2\n",
      "No hay más eventos en la página 2 de /artist/inverfest/featherweight-oslo-ovnies-2776391/\n",
      "pag 1\n",
      "0\n",
      "1\n",
      "2\n",
      "3\n",
      "4\n",
      "pag 2\n",
      "No hay más eventos en la página 2 de /artist/inverfest/mcenroe-3503685/\n",
      "pag 1\n",
      "0\n",
      "1\n",
      "2\n",
      "3\n",
      "4\n",
      "pag 2\n",
      "No hay más eventos en la página 2 de /artist/inverfest/paul-alone-3504465/\n",
      "pag 1\n",
      "0\n",
      "1\n",
      "2\n",
      "3\n",
      "4\n",
      "pag 2\n",
      "No hay más eventos en la página 2 de /artist/inverfest/the-magnetics-begona-bang-matu-3538750/\n",
      "pag 1\n",
      "0\n",
      "1\n",
      "2\n",
      "3\n",
      "4\n",
      "pag 2\n",
      "No hay más eventos en la página 2 de /artist/inverfest/muchachito-bombo-infierno-3225873/\n"
     ]
    }
   ],
   "source": [
    "lst16=[]\n",
    "for link in links.Links[100:105]:\n",
    "    lst16.append(extract(link, 5))"
   ]
  },
  {
   "cell_type": "code",
   "execution_count": 176,
   "id": "3b1b6d99",
   "metadata": {},
   "outputs": [],
   "source": [
    "from suport import df_event\n",
    "df17 = df_event(lst16)"
   ]
  },
  {
   "cell_type": "code",
   "execution_count": 178,
   "id": "f69cbb9b",
   "metadata": {},
   "outputs": [],
   "source": [
    "df17 = pd.DataFrame(df17)"
   ]
  },
  {
   "cell_type": "code",
   "execution_count": 180,
   "id": "0fb7695a",
   "metadata": {},
   "outputs": [],
   "source": [
    "df17.to_csv('./data/dfs_entradas/df17.csv', index=False, encoding='utf-8')"
   ]
  },
  {
   "cell_type": "markdown",
   "id": "0572a38e",
   "metadata": {},
   "source": [
    "## SIGUIENTE (df18)"
   ]
  },
  {
   "cell_type": "code",
   "execution_count": 181,
   "id": "74337f07",
   "metadata": {},
   "outputs": [
    {
     "data": {
      "text/plain": [
       "105                      /artist/inverfest/84-3538751/\n",
       "106                /artist/inverfest/the-oxys-3538728/\n",
       "107                  /artist/inverfest/tarque-3501745/\n",
       "108    /artist/inverfest/christina-rosenvinge-2831739/\n",
       "109           /artist/inverfest/fernandocosta-3526219/\n",
       "Name: Links, dtype: object"
      ]
     },
     "execution_count": 181,
     "metadata": {},
     "output_type": "execute_result"
    }
   ],
   "source": [
    "links.Links[105:110]"
   ]
  },
  {
   "cell_type": "code",
   "execution_count": 182,
   "id": "51834850",
   "metadata": {
    "collapsed": true
   },
   "outputs": [
    {
     "name": "stdout",
     "output_type": "stream",
     "text": [
      "pag 1\n",
      "0\n",
      "1\n",
      "2\n",
      "3\n",
      "4\n",
      "pag 2\n",
      "No hay más eventos en la página 2 de /artist/inverfest/84-3538751/\n",
      "pag 1\n",
      "0\n",
      "1\n",
      "2\n",
      "3\n",
      "4\n",
      "pag 2\n",
      "No hay más eventos en la página 2 de /artist/inverfest/the-oxys-3538728/\n",
      "pag 1\n",
      "0\n",
      "1\n",
      "2\n",
      "3\n",
      "4\n",
      "pag 2\n",
      "No hay más eventos en la página 2 de /artist/inverfest/tarque-3501745/\n",
      "pag 1\n",
      "0\n",
      "1\n",
      "2\n",
      "3\n",
      "4\n",
      "pag 2\n",
      "No hay más eventos en la página 2 de /artist/inverfest/christina-rosenvinge-2831739/\n",
      "pag 1\n",
      "0\n",
      "1\n",
      "2\n",
      "3\n",
      "4\n",
      "pag 2\n",
      "No hay más eventos en la página 2 de /artist/inverfest/fernandocosta-3526219/\n"
     ]
    }
   ],
   "source": [
    "lst17=[]\n",
    "for link in links.Links[105:110]:\n",
    "    lst17.append(extract(link, 5))"
   ]
  },
  {
   "cell_type": "code",
   "execution_count": 183,
   "id": "9ab033b7",
   "metadata": {},
   "outputs": [],
   "source": [
    "from suport import df_event\n",
    "df18 = df_event(lst17)"
   ]
  },
  {
   "cell_type": "code",
   "execution_count": 184,
   "id": "0857aab3",
   "metadata": {},
   "outputs": [],
   "source": [
    "df18 = pd.DataFrame(df18)"
   ]
  },
  {
   "cell_type": "code",
   "execution_count": 185,
   "id": "d6a647ec",
   "metadata": {},
   "outputs": [],
   "source": [
    "df18.to_csv('./data/dfs_entradas/df18.csv', index=False, encoding='utf-8')"
   ]
  },
  {
   "cell_type": "code",
   "execution_count": 186,
   "id": "05218f3c",
   "metadata": {},
   "outputs": [],
   "source": [
    "driver.quit()"
   ]
  },
  {
   "cell_type": "markdown",
   "id": "9b96ebc6",
   "metadata": {},
   "source": [
    "## SIGUIENTE (df19)"
   ]
  },
  {
   "cell_type": "code",
   "execution_count": 13,
   "metadata": {},
   "outputs": [
    {
     "data": {
      "text/plain": [
       "110       /artist/inverfest/ruben-pozo-3506022/\n",
       "111        /artist/inverfest/leo-rizzi-1687904/\n",
       "112    /artist/inverfest/viva-belgrado-2907639/\n",
       "113           /artist/inverfest/delgao-3504461/\n",
       "114            /artist/inverfest/claim-3524543/\n",
       "Name: Links, dtype: object"
      ]
     },
     "execution_count": 13,
     "metadata": {},
     "output_type": "execute_result"
    }
   ],
   "source": [
    "links.Links[110:115]"
   ]
  },
  {
   "cell_type": "code",
   "execution_count": 14,
   "metadata": {},
   "outputs": [
    {
     "name": "stdout",
     "output_type": "stream",
     "text": [
      "pag 1\n",
      "0\n",
      "1\n",
      "2\n",
      "3\n",
      "4\n",
      "pag 2\n",
      "No hay más eventos en la página 2 de /artist/inverfest/featherweight-oslo-ovnies-2776391/\n",
      "pag 1\n",
      "0\n",
      "1\n",
      "2\n",
      "3\n",
      "4\n",
      "pag 2\n",
      "No hay más eventos en la página 2 de /artist/inverfest/mcenroe-3503685/\n",
      "pag 1\n",
      "0\n",
      "1\n",
      "2\n",
      "3\n",
      "4\n",
      "pag 2\n",
      "No hay más eventos en la página 2 de /artist/inverfest/paul-alone-3504465/\n",
      "pag 1\n",
      "0\n",
      "1\n",
      "2\n",
      "3\n",
      "4\n",
      "pag 2\n",
      "No hay más eventos en la página 2 de /artist/inverfest/the-magnetics-begona-bang-matu-3538750/\n",
      "pag 1\n",
      "0\n",
      "1\n",
      "2\n",
      "3\n",
      "4\n",
      "pag 2\n",
      "No hay más eventos en la página 2 de /artist/inverfest/muchachito-bombo-infierno-3225873/\n"
     ]
    }
   ],
   "source": [
    "lst18=[]\n",
    "for link in links.Links[100:105]:\n",
    "    lst18.append(extract(link, 5))"
   ]
  },
  {
   "cell_type": "code",
   "execution_count": null,
   "metadata": {},
   "outputs": [],
   "source": [
    "from suport import df_event\n",
    "df19 = df_event(lst18)"
   ]
  },
  {
   "cell_type": "code",
   "execution_count": 39,
   "metadata": {},
   "outputs": [],
   "source": [
    "df19.to_csv('../data/dfs_entradas/df19.csv', index=False, encoding='utf-8')"
   ]
  },
  {
   "cell_type": "markdown",
   "metadata": {},
   "source": [
    "## SIGUIENTE (df20)"
   ]
  },
  {
   "cell_type": "code",
   "execution_count": 44,
   "metadata": {},
   "outputs": [
    {
     "data": {
      "text/plain": [
       "115    /artist/inverfest/oddliquor-blindao-3220381/\n",
       "116           /artist/inverfest/carmen-113-2908653/\n",
       "117               /artist/inverfest/minino-3538749/\n",
       "118        /artist/inverfest/pedro-ladroga-3524547/\n",
       "119               /artist/inverfest/calizo-3538727/\n",
       "Name: Links, dtype: object"
      ]
     },
     "execution_count": 44,
     "metadata": {},
     "output_type": "execute_result"
    }
   ],
   "source": [
    "links.Links[115:120]"
   ]
  },
  {
   "cell_type": "code",
   "execution_count": 45,
   "metadata": {},
   "outputs": [
    {
     "name": "stdout",
     "output_type": "stream",
     "text": [
      "pag 1\n",
      "0\n",
      "1\n",
      "2\n",
      "3\n",
      "4\n",
      "pag 2\n",
      "No hay más eventos en la página 2 de /artist/inverfest/oddliquor-blindao-3220381/\n",
      "pag 1\n",
      "0\n",
      "1\n",
      "2\n",
      "3\n",
      "4\n",
      "pag 2\n",
      "No hay más eventos en la página 2 de /artist/inverfest/carmen-113-2908653/\n",
      "pag 1\n",
      "0\n",
      "1\n",
      "2\n",
      "3\n",
      "4\n",
      "pag 2\n",
      "No hay más eventos en la página 2 de /artist/inverfest/minino-3538749/\n",
      "pag 1\n",
      "0\n",
      "1\n",
      "2\n",
      "3\n",
      "4\n",
      "pag 2\n",
      "No hay más eventos en la página 2 de /artist/inverfest/pedro-ladroga-3524547/\n",
      "pag 1\n",
      "0\n",
      "1\n",
      "2\n",
      "3\n",
      "4\n",
      "pag 2\n",
      "No hay más eventos en la página 2 de /artist/inverfest/calizo-3538727/\n"
     ]
    }
   ],
   "source": [
    "lst19=[]\n",
    "for link in links.Links[115:120]:\n",
    "    lst19.append(extract(link, 5))"
   ]
  },
  {
   "cell_type": "code",
   "execution_count": null,
   "metadata": {},
   "outputs": [],
   "source": [
    "from suport import df_event\n",
    "df20 = df_event(lst19)"
   ]
  },
  {
   "cell_type": "code",
   "execution_count": 47,
   "metadata": {},
   "outputs": [],
   "source": [
    "# Lista para almacenar los datos\n",
    "data = []\n",
    "\n",
    "# Iterar sobre la lista principal\n",
    "for eventos in lst19:\n",
    "    # Iterar sobre cada sublista de eventos\n",
    "    for evento in eventos:\n",
    "        # Desglosar la información del evento\n",
    "        for i in range(len(evento[0])):\n",
    "            nombre = evento[0][i]\n",
    "            fecha = evento[1][i]\n",
    "            ubicacion = evento[2][i]\n",
    "            precio = evento[3][i]\n",
    "            enlace = evento[4][i]\n",
    "\n",
    "            # Crear un diccionario con la información del evento\n",
    "            evento_dict = {\n",
    "                'Nombre': nombre,\n",
    "                'Fecha': fecha,\n",
    "                'Ubicacion': ubicacion,\n",
    "                'Precio': precio,\n",
    "                'Enlace': enlace\n",
    "            }\n",
    "\n",
    "            # Agregar el diccionario a la lista de datos\n",
    "            data.append(evento_dict)\n",
    "\n",
    "# Crear un DataFrame a partir de la lista de datos\n",
    "df20 = pd.DataFrame(data)"
   ]
  },
  {
   "cell_type": "code",
   "execution_count": 48,
   "metadata": {},
   "outputs": [],
   "source": [
    "df20.to_csv('../data/dfs_entradas/df20.csv', index=False, encoding='utf-8')"
   ]
  },
  {
   "cell_type": "markdown",
   "metadata": {},
   "source": [
    "## SIGUIENTE (df21)"
   ]
  },
  {
   "cell_type": "code",
   "execution_count": 49,
   "metadata": {},
   "outputs": [
    {
     "data": {
      "text/plain": [
       "120               /artist/inverfest/los-alvarez-3538747/\n",
       "121                 /artist/inverfest/egon-soda-3524542/\n",
       "122                 /artist/inverfest/austin-tv-3491782/\n",
       "123    /artist/inverfest/ariel-rot-25-anos-hablando-s...\n",
       "124           /artist/inverfest/israel-b-eed1hs-3361884/\n",
       "Name: Links, dtype: object"
      ]
     },
     "execution_count": 49,
     "metadata": {},
     "output_type": "execute_result"
    }
   ],
   "source": [
    "links.Links[120:125]"
   ]
  },
  {
   "cell_type": "code",
   "execution_count": 50,
   "metadata": {},
   "outputs": [
    {
     "name": "stdout",
     "output_type": "stream",
     "text": [
      "pag 1\n",
      "0\n",
      "1\n",
      "2\n",
      "3\n",
      "4\n",
      "pag 2\n",
      "No hay más eventos en la página 2 de /artist/inverfest/los-alvarez-3538747/\n",
      "pag 1\n",
      "0\n",
      "1\n",
      "2\n",
      "3\n",
      "4\n",
      "pag 2\n",
      "No hay más eventos en la página 2 de /artist/inverfest/egon-soda-3524542/\n",
      "pag 1\n",
      "0\n",
      "1\n",
      "2\n",
      "3\n",
      "4\n",
      "pag 2\n",
      "No hay más eventos en la página 2 de /artist/inverfest/austin-tv-3491782/\n",
      "pag 1\n",
      "0\n",
      "1\n",
      "2\n",
      "3\n",
      "4\n",
      "pag 2\n",
      "No hay más eventos en la página 2 de /artist/inverfest/ariel-rot-25-anos-hablando-solo-3504415/\n",
      "pag 1\n",
      "0\n",
      "1\n",
      "2\n",
      "3\n",
      "4\n",
      "pag 2\n",
      "No hay más eventos en la página 2 de /artist/inverfest/israel-b-eed1hs-3361884/\n"
     ]
    }
   ],
   "source": [
    "lst20=[]\n",
    "for link in links.Links[120:125]:\n",
    "    lst20.append(extract(link, 5))"
   ]
  },
  {
   "cell_type": "code",
   "execution_count": null,
   "metadata": {},
   "outputs": [],
   "source": [
    "from suport import df_event\n",
    "df21 = df_event(lst20)"
   ]
  },
  {
   "cell_type": "code",
   "execution_count": 52,
   "metadata": {},
   "outputs": [],
   "source": [
    "df21.to_csv('../data/dfs_entradas/df21.csv', index=False, encoding='utf-8')"
   ]
  },
  {
   "cell_type": "markdown",
   "metadata": {},
   "source": [
    "## SIGUIENTE (df22)"
   ]
  },
  {
   "cell_type": "code",
   "execution_count": 53,
   "metadata": {},
   "outputs": [
    {
     "data": {
      "text/plain": [
       "125          /artist/inverfest/yoly-saa-1553966/\n",
       "126    /artist/inverfest/ninos-luchando-1612915/\n",
       "127         /artist/inverfest/tu-suerte-3153569/\n",
       "128      /artist/inverfest/chata-flores-2897145/\n",
       "129            /artist/inverfest/mavica-1842950/\n",
       "Name: Links, dtype: object"
      ]
     },
     "execution_count": 53,
     "metadata": {},
     "output_type": "execute_result"
    }
   ],
   "source": [
    "links.Links[125:130]"
   ]
  },
  {
   "cell_type": "code",
   "execution_count": 54,
   "metadata": {},
   "outputs": [
    {
     "name": "stdout",
     "output_type": "stream",
     "text": [
      "pag 1\n",
      "0\n",
      "1\n",
      "2\n",
      "3\n",
      "4\n",
      "pag 2\n",
      "No hay más eventos en la página 2 de /artist/inverfest/yoly-saa-1553966/\n",
      "pag 1\n",
      "0\n",
      "1\n",
      "2\n",
      "3\n",
      "4\n",
      "pag 2\n",
      "No hay más eventos en la página 2 de /artist/inverfest/ninos-luchando-1612915/\n",
      "pag 1\n",
      "0\n",
      "1\n",
      "2\n",
      "3\n",
      "4\n",
      "pag 2\n",
      "No hay más eventos en la página 2 de /artist/inverfest/tu-suerte-3153569/\n",
      "pag 1\n",
      "0\n",
      "1\n",
      "2\n",
      "3\n",
      "4\n",
      "pag 2\n",
      "No hay más eventos en la página 2 de /artist/inverfest/chata-flores-2897145/\n",
      "pag 1\n",
      "0\n",
      "1\n",
      "2\n",
      "3\n",
      "4\n",
      "pag 2\n",
      "No hay más eventos en la página 2 de /artist/inverfest/mavica-1842950/\n"
     ]
    }
   ],
   "source": [
    "lst21=[]\n",
    "for link in links.Links[125:130]:\n",
    "    lst21.append(extract(link, 5))"
   ]
  },
  {
   "cell_type": "code",
   "execution_count": null,
   "metadata": {},
   "outputs": [],
   "source": [
    "from suport import df_event\n",
    "df22 = df_event(lst21)"
   ]
  },
  {
   "cell_type": "code",
   "execution_count": 55,
   "metadata": {},
   "outputs": [],
   "source": [
    "# Lista para almacenar los datos\n",
    "data = []\n",
    "\n",
    "# Iterar sobre la lista principal\n",
    "for eventos in lst21:\n",
    "    # Iterar sobre cada sublista de eventos\n",
    "    for evento in eventos:\n",
    "        # Desglosar la información del evento\n",
    "        for i in range(len(evento[0])):\n",
    "            nombre = evento[0][i]\n",
    "            fecha = evento[1][i]\n",
    "            ubicacion = evento[2][i]\n",
    "            precio = evento[3][i]\n",
    "            enlace = evento[4][i]\n",
    "\n",
    "            # Crear un diccionario con la información del evento\n",
    "            evento_dict = {\n",
    "                'Nombre': nombre,\n",
    "                'Fecha': fecha,\n",
    "                'Ubicacion': ubicacion,\n",
    "                'Precio': precio,\n",
    "                'Enlace': enlace\n",
    "            }\n",
    "\n",
    "            # Agregar el diccionario a la lista de datos\n",
    "            data.append(evento_dict)\n",
    "\n",
    "# Crear un DataFrame a partir de la lista de datos\n",
    "df22 = pd.DataFrame(data)"
   ]
  },
  {
   "cell_type": "code",
   "execution_count": 56,
   "metadata": {},
   "outputs": [],
   "source": [
    "df22.to_csv('../data/dfs_entradas/df22.csv', index=False, encoding='utf-8')"
   ]
  },
  {
   "cell_type": "code",
   "execution_count": 57,
   "metadata": {},
   "outputs": [],
   "source": [
    "#driver.quit()"
   ]
  },
  {
   "cell_type": "markdown",
   "metadata": {},
   "source": [
    "## SIGUIENTE (df23)"
   ]
  },
  {
   "cell_type": "code",
   "execution_count": 9,
   "metadata": {},
   "outputs": [
    {
     "data": {
      "text/plain": [
       "130      /artist/inverfest/flecha-valona-2638503/\n",
       "131         /artist/inverfest/julia-amor-3083231/\n",
       "132    /artist/inverfest/pinpilinpussies-3056767/\n",
       "133             /artist/inverfest/bernal-3060541/\n",
       "134                         /artist/maria-callas/\n",
       "Name: Links, dtype: object"
      ]
     },
     "execution_count": 9,
     "metadata": {},
     "output_type": "execute_result"
    }
   ],
   "source": [
    "links.Links[130:135]"
   ]
  },
  {
   "cell_type": "code",
   "execution_count": 10,
   "metadata": {},
   "outputs": [
    {
     "name": "stdout",
     "output_type": "stream",
     "text": [
      "pag 1\n",
      "0\n",
      "1\n",
      "2\n",
      "3\n",
      "4\n",
      "pag 2\n",
      "No hay más eventos en la página 2 de /artist/inverfest/flecha-valona-2638503/\n",
      "pag 1\n",
      "0\n",
      "1\n",
      "2\n",
      "3\n",
      "4\n",
      "pag 2\n",
      "No hay más eventos en la página 2 de /artist/inverfest/julia-amor-3083231/\n",
      "pag 1\n",
      "0\n",
      "1\n",
      "2\n",
      "3\n",
      "4\n",
      "pag 2\n",
      "No hay más eventos en la página 2 de /artist/inverfest/pinpilinpussies-3056767/\n",
      "pag 1\n",
      "0\n",
      "1\n",
      "2\n",
      "3\n",
      "4\n",
      "pag 2\n",
      "No hay más eventos en la página 2 de /artist/inverfest/bernal-3060541/\n",
      "pag 1\n",
      "0\n",
      "1\n",
      "2\n",
      "3\n",
      "4\n",
      "pag 2\n",
      "No hay más eventos en la página 2 de /artist/maria-callas/\n"
     ]
    }
   ],
   "source": [
    "lst22=[]\n",
    "for link in links.Links[130:135]:\n",
    "    lst22.append(extract(link, 5))"
   ]
  },
  {
   "cell_type": "code",
   "execution_count": null,
   "metadata": {},
   "outputs": [],
   "source": [
    "from suport import df_event\n",
    "df23 = df_event(lst22)"
   ]
  },
  {
   "cell_type": "code",
   "execution_count": 16,
   "metadata": {},
   "outputs": [],
   "source": [
    "df23.to_csv('../data/dfs_entradas/df23.csv', index=False, encoding='utf-8')"
   ]
  },
  {
   "cell_type": "markdown",
   "metadata": {},
   "source": [
    "## SIGUIENTE (df24)"
   ]
  },
  {
   "cell_type": "code",
   "execution_count": 18,
   "metadata": {},
   "outputs": [
    {
     "data": {
      "text/plain": [
       "135    /artist/villanos-del-jazz/antonio-lizana-2840178/\n",
       "136     /artist/villanos-del-jazz/scary-pockets-3490507/\n",
       "137                            /artist/love-yarn-madrid/\n",
       "138    /artist/orquesta-sinfonica-y-coro-de-rtve/conc...\n",
       "139    /artist/orquesta-sinfonica-y-coro-de-rtve/conc...\n",
       "Name: Links, dtype: object"
      ]
     },
     "execution_count": 18,
     "metadata": {},
     "output_type": "execute_result"
    }
   ],
   "source": [
    "links.Links[135:140]"
   ]
  },
  {
   "cell_type": "code",
   "execution_count": 19,
   "metadata": {},
   "outputs": [
    {
     "name": "stdout",
     "output_type": "stream",
     "text": [
      "pag 1\n",
      "0\n",
      "1\n",
      "pag 2\n",
      "0\n",
      "1\n",
      "pag 3\n",
      "0\n",
      "1\n",
      "pag 4\n",
      "0\n",
      "1\n",
      "pag 1\n",
      "0\n",
      "1\n",
      "2\n",
      "3\n",
      "4\n",
      "pag 2\n",
      "No hay más eventos en la página 2 de /artist/villanos-del-jazz/scary-pockets-3490507/\n",
      "pag 1\n",
      "0\n",
      "1\n",
      "2\n",
      "3\n",
      "4\n",
      "pag 2\n",
      "No hay más eventos en la página 2 de /artist/love-yarn-madrid/\n",
      "pag 1\n",
      "0\n",
      "1\n",
      "2\n",
      "3\n",
      "4\n",
      "pag 2\n",
      "No hay más eventos en la página 2 de /artist/orquesta-sinfonica-y-coro-de-rtve/concierto-sinfonico-de-abono-b16-jueves-3479308/\n",
      "pag 1\n",
      "0\n",
      "1\n",
      "2\n",
      "3\n",
      "4\n",
      "pag 2\n",
      "No hay más eventos en la página 2 de /artist/orquesta-sinfonica-y-coro-de-rtve/concierto-sinfonico-de-abono-b16-viernes-3479309/\n"
     ]
    }
   ],
   "source": [
    "lst23=[]\n",
    "for link in links.Links[135:140]:\n",
    "    lst23.append(extract(link, 5))"
   ]
  },
  {
   "cell_type": "code",
   "execution_count": null,
   "metadata": {},
   "outputs": [],
   "source": [
    "from suport import df_event\n",
    "df24 = df_event(lst23)"
   ]
  },
  {
   "cell_type": "code",
   "execution_count": 21,
   "metadata": {},
   "outputs": [],
   "source": [
    "df24.to_csv('../data/dfs_entradas/df24.csv', index=False, encoding='utf-8')"
   ]
  },
  {
   "cell_type": "markdown",
   "metadata": {},
   "source": [
    "## SIGUIENTE (df25)"
   ]
  },
  {
   "cell_type": "code",
   "execution_count": 22,
   "metadata": {},
   "outputs": [
    {
     "data": {
      "text/plain": [
       "140    /artist/orquesta-sinfonica-y-coro-de-rtve/conc...\n",
       "141    /artist/orquesta-sinfonica-y-coro-de-rtve/conc...\n",
       "142    /artist/orquesta-sinfonica-y-coro-de-rtve/conc...\n",
       "143    /artist/orquesta-sinfonica-y-coro-de-rtve/conc...\n",
       "144    /artist/orquesta-sinfonica-y-coro-de-rtve/conc...\n",
       "Name: Links, dtype: object"
      ]
     },
     "execution_count": 22,
     "metadata": {},
     "output_type": "execute_result"
    }
   ],
   "source": [
    "links.Links[140:145]"
   ]
  },
  {
   "cell_type": "code",
   "execution_count": 23,
   "metadata": {},
   "outputs": [
    {
     "name": "stdout",
     "output_type": "stream",
     "text": [
      "pag 1\n",
      "0\n",
      "1\n",
      "2\n",
      "3\n",
      "4\n",
      "pag 2\n",
      "No hay más eventos en la página 2 de /artist/orquesta-sinfonica-y-coro-de-rtve/concierto-sinfonico-de-abono-b18-jueves-3479312/\n",
      "pag 1\n",
      "0\n",
      "1\n",
      "2\n",
      "3\n",
      "4\n",
      "pag 2\n",
      "No hay más eventos en la página 2 de /artist/orquesta-sinfonica-y-coro-de-rtve/concierto-sinfonico-de-abono-a15-viernes-3479307/\n",
      "pag 1\n",
      "0\n",
      "1\n",
      "2\n",
      "3\n",
      "4\n",
      "pag 2\n",
      "No hay más eventos en la página 2 de /artist/orquesta-sinfonica-y-coro-de-rtve/concierto-sinfonico-de-abono-a19-viernes-3479315/\n",
      "pag 1\n",
      "0\n",
      "1\n",
      "2\n",
      "3\n",
      "4\n",
      "pag 2\n",
      "No hay más eventos en la página 2 de /artist/orquesta-sinfonica-y-coro-de-rtve/concierto-sinfonico-de-abono-a15-jueves-3479306/\n",
      "pag 1\n",
      "0\n",
      "1\n",
      "2\n",
      "3\n",
      "4\n",
      "pag 2\n",
      "No hay más eventos en la página 2 de /artist/orquesta-sinfonica-y-coro-de-rtve/concierto-sinfonico-de-abono-b18-viernes-3479313/\n"
     ]
    }
   ],
   "source": [
    "lst24=[]\n",
    "for link in links.Links[140:145]:\n",
    "    lst24.append(extract(link, 5))"
   ]
  },
  {
   "cell_type": "code",
   "execution_count": null,
   "metadata": {},
   "outputs": [],
   "source": [
    "from suport import df_event\n",
    "df25 = df_event(lst24)"
   ]
  },
  {
   "cell_type": "code",
   "execution_count": 25,
   "metadata": {},
   "outputs": [],
   "source": [
    "df25.to_csv('../data/dfs_entradas/df25.csv', index=False, encoding='utf-8')"
   ]
  },
  {
   "cell_type": "markdown",
   "metadata": {},
   "source": [
    "## SIGUIENTE (df26)"
   ]
  },
  {
   "cell_type": "code",
   "execution_count": 26,
   "metadata": {},
   "outputs": [
    {
     "data": {
      "text/plain": [
       "145    /artist/orquesta-sinfonica-y-coro-de-rtve/conc...\n",
       "146    /artist/orquesta-sinfonica-y-coro-de-rtve/conc...\n",
       "147    /artist/orquesta-sinfonica-y-coro-de-rtve/conc...\n",
       "148    /artist/orquesta-sinfonica-y-coro-de-rtve/conc...\n",
       "149    /artist/orquesta-sinfonica-y-coro-de-rtve/conc...\n",
       "Name: Links, dtype: object"
      ]
     },
     "execution_count": 26,
     "metadata": {},
     "output_type": "execute_result"
    }
   ],
   "source": [
    "links.Links[145:150]"
   ]
  },
  {
   "cell_type": "code",
   "execution_count": 27,
   "metadata": {},
   "outputs": [
    {
     "name": "stdout",
     "output_type": "stream",
     "text": [
      "pag 1\n",
      "0\n",
      "1\n",
      "2\n",
      "3\n",
      "4\n",
      "pag 2\n",
      "No hay más eventos en la página 2 de /artist/orquesta-sinfonica-y-coro-de-rtve/concierto-sinfonico-de-abono-b12-viernes-3479301/\n",
      "pag 1\n",
      "0\n",
      "1\n",
      "2\n",
      "3\n",
      "4\n",
      "pag 2\n",
      "No hay más eventos en la página 2 de /artist/orquesta-sinfonica-y-coro-de-rtve/concierto-sinfonico-de-abono-a13-jueves-3479302/\n",
      "pag 1\n",
      "0\n",
      "1\n",
      "2\n",
      "3\n",
      "4\n",
      "pag 2\n",
      "No hay más eventos en la página 2 de /artist/orquesta-sinfonica-y-coro-de-rtve/concierto-sinfonico-de-abono-a17-viernes-3479311/\n",
      "pag 1\n",
      "0\n",
      "1\n",
      "2\n",
      "3\n",
      "4\n",
      "pag 2\n",
      "No hay más eventos en la página 2 de /artist/orquesta-sinfonica-y-coro-de-rtve/concierto-sinfonico-de-abono-b14-jueves-3479304/\n",
      "pag 1\n",
      "0\n",
      "1\n",
      "2\n",
      "3\n",
      "4\n",
      "pag 2\n",
      "No hay más eventos en la página 2 de /artist/orquesta-sinfonica-y-coro-de-rtve/concierto-sinfonico-de-abono-b8-jueves-3479292/\n"
     ]
    }
   ],
   "source": [
    "lst25=[]\n",
    "for link in links.Links[145:150]:\n",
    "    lst25.append(extract(link, 5))"
   ]
  },
  {
   "cell_type": "code",
   "execution_count": null,
   "metadata": {},
   "outputs": [],
   "source": [
    "from suport import df_event\n",
    "df26 = df_event(lst25)"
   ]
  },
  {
   "cell_type": "code",
   "execution_count": 31,
   "metadata": {},
   "outputs": [],
   "source": [
    "df26.to_csv('../data/dfs_entradas/df26.csv', index=False, encoding='utf-8')"
   ]
  },
  {
   "cell_type": "code",
   "execution_count": null,
   "metadata": {},
   "outputs": [],
   "source": [
    "#driver.quit()"
   ]
  }
 ],
 "metadata": {
  "kernelspec": {
   "display_name": "clase",
   "language": "python",
   "name": "python3"
  },
  "language_info": {
   "codemirror_mode": {
    "name": "ipython",
    "version": 3
   },
   "file_extension": ".py",
   "mimetype": "text/x-python",
   "name": "python",
   "nbconvert_exporter": "python",
   "pygments_lexer": "ipython3",
   "version": "3.10.13"
  }
 },
 "nbformat": 4,
 "nbformat_minor": 5
}
