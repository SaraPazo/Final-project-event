{
 "cells": [
  {
   "cell_type": "markdown",
   "metadata": {},
   "source": [
    "## MAPAS json MADRID"
   ]
  },
  {
   "cell_type": "code",
   "execution_count": 1,
   "metadata": {},
   "outputs": [],
   "source": [
    "import pandas as pd\n",
    "import numpy as np\n",
    "import geopandas as gpd\n",
    "import folium\n",
    "pd.set_option('display.max_columns', None)\n",
    "pd.set_option('display.max_rows', None)"
   ]
  },
  {
   "cell_type": "code",
   "execution_count": 2,
   "metadata": {},
   "outputs": [],
   "source": [
    "eventos = pd.read_csv('../csv/eventos_def.csv')\n",
    "restaurantes = pd.read_csv('../csv/rest_clean.csv')\n",
    "geo = gpd.read_file('./barrios-madrid.geojson')"
   ]
  },
  {
   "cell_type": "markdown",
   "metadata": {},
   "source": [
    "- LOCALIZO EL PUNTO XY DONDE SE ENCUENTRA LA LOCALIZACION EN EL MAPA. \n",
    "- POSTERIORMENTE, BUSCO EL BARRIO SEGÚN LAS COORDENADAS. "
   ]
  },
  {
   "cell_type": "markdown",
   "metadata": {},
   "source": [
    "### Geolocalizacion de Restaurantes"
   ]
  },
  {
   "cell_type": "code",
   "execution_count": 3,
   "metadata": {},
   "outputs": [
    {
     "data": {
      "text/html": [
       "<div>\n",
       "<style scoped>\n",
       "    .dataframe tbody tr th:only-of-type {\n",
       "        vertical-align: middle;\n",
       "    }\n",
       "\n",
       "    .dataframe tbody tr th {\n",
       "        vertical-align: top;\n",
       "    }\n",
       "\n",
       "    .dataframe thead th {\n",
       "        text-align: right;\n",
       "    }\n",
       "</style>\n",
       "<table border=\"1\" class=\"dataframe\">\n",
       "  <thead>\n",
       "    <tr style=\"text-align: right;\">\n",
       "      <th></th>\n",
       "      <th>restaurante</th>\n",
       "      <th>gastronomia</th>\n",
       "      <th>precio</th>\n",
       "      <th>opinion</th>\n",
       "      <th>reseña</th>\n",
       "      <th>ubicacion</th>\n",
       "      <th>lat</th>\n",
       "      <th>long</th>\n",
       "    </tr>\n",
       "  </thead>\n",
       "  <tbody>\n",
       "    <tr>\n",
       "      <th>0</th>\n",
       "      <td>Yakiniku Rikyu</td>\n",
       "      <td>Japonesa</td>\n",
       "      <td>Medio</td>\n",
       "      <td>267 opiniones</td>\n",
       "      <td>Patrocinado</td>\n",
       "      <td>P.º de la Castellana, 15, 28046 Madrid</td>\n",
       "      <td>40.4280979</td>\n",
       "      <td>-3.690173</td>\n",
       "    </tr>\n",
       "    <tr>\n",
       "      <th>1</th>\n",
       "      <td>marmitón</td>\n",
       "      <td>Mediterránea</td>\n",
       "      <td>Medio</td>\n",
       "      <td>89 opiniones</td>\n",
       "      <td>MICHELIN</td>\n",
       "      <td>C. de las Aguas, 6, 28005 Madrid</td>\n",
       "      <td>40.4108219</td>\n",
       "      <td>-3.712107746868964</td>\n",
       "    </tr>\n",
       "    <tr>\n",
       "      <th>2</th>\n",
       "      <td>Vinoteca Moratín</td>\n",
       "      <td>Internacional</td>\n",
       "      <td>Medio</td>\n",
       "      <td>1221 opiniones</td>\n",
       "      <td>MICHELIN</td>\n",
       "      <td>C. de Moratín, 36, 28014 Madrid</td>\n",
       "      <td>40.412472050000005</td>\n",
       "      <td>-3.6954412113077497</td>\n",
       "    </tr>\n",
       "    <tr>\n",
       "      <th>3</th>\n",
       "      <td>Pilar Akaneya</td>\n",
       "      <td>Japonesa</td>\n",
       "      <td>Alto</td>\n",
       "      <td>276 opiniones</td>\n",
       "      <td>MICHELIN</td>\n",
       "      <td>C. de Espronceda, 33, 28003 Madrid</td>\n",
       "      <td>40.4405573</td>\n",
       "      <td>-3.696109</td>\n",
       "    </tr>\n",
       "    <tr>\n",
       "      <th>4</th>\n",
       "      <td>Gioia</td>\n",
       "      <td>Italiana</td>\n",
       "      <td>Medio</td>\n",
       "      <td>387 opiniones</td>\n",
       "      <td>MICHELIN</td>\n",
       "      <td>C. de San Bartolomé, 23, 28004 Madrid</td>\n",
       "      <td>40.4221651</td>\n",
       "      <td>-3.6983792</td>\n",
       "    </tr>\n",
       "  </tbody>\n",
       "</table>\n",
       "</div>"
      ],
      "text/plain": [
       "        restaurante    gastronomia precio         opinion       reseña  \\\n",
       "0    Yakiniku Rikyu       Japonesa  Medio   267 opiniones  Patrocinado   \n",
       "1          marmitón   Mediterránea  Medio    89 opiniones     MICHELIN   \n",
       "2  Vinoteca Moratín  Internacional  Medio  1221 opiniones     MICHELIN   \n",
       "3     Pilar Akaneya       Japonesa   Alto   276 opiniones     MICHELIN   \n",
       "4             Gioia       Italiana  Medio   387 opiniones     MICHELIN   \n",
       "\n",
       "                                ubicacion                 lat  \\\n",
       "0  P.º de la Castellana, 15, 28046 Madrid          40.4280979   \n",
       "1        C. de las Aguas, 6, 28005 Madrid          40.4108219   \n",
       "2         C. de Moratín, 36, 28014 Madrid  40.412472050000005   \n",
       "3      C. de Espronceda, 33, 28003 Madrid          40.4405573   \n",
       "4   C. de San Bartolomé, 23, 28004 Madrid          40.4221651   \n",
       "\n",
       "                  long  \n",
       "0            -3.690173  \n",
       "1   -3.712107746868964  \n",
       "2  -3.6954412113077497  \n",
       "3            -3.696109  \n",
       "4           -3.6983792  "
      ]
     },
     "execution_count": 3,
     "metadata": {},
     "output_type": "execute_result"
    }
   ],
   "source": [
    "restaurantes.head()"
   ]
  },
  {
   "cell_type": "code",
   "execution_count": 4,
   "metadata": {},
   "outputs": [],
   "source": [
    "restaurantes.insert(6, 'punto', 0)"
   ]
  },
  {
   "cell_type": "code",
   "execution_count": 5,
   "metadata": {},
   "outputs": [
    {
     "data": {
      "text/plain": [
       "300"
      ]
     },
     "execution_count": 5,
     "metadata": {},
     "output_type": "execute_result"
    }
   ],
   "source": [
    "len(restaurantes)"
   ]
  },
  {
   "cell_type": "code",
   "execution_count": 6,
   "metadata": {},
   "outputs": [],
   "source": [
    "# Identificar y manejar los valores no válidos\n",
    "mask = (restaurantes['long'] == 'No disponible') | (restaurantes['lat'] == 'No disponible')"
   ]
  },
  {
   "cell_type": "code",
   "execution_count": 7,
   "metadata": {},
   "outputs": [],
   "source": [
    "# Opción 1: Eliminar filas con valores no válidos en cuanto a que no tienen long / lat disponible.\n",
    "rest = restaurantes[~mask]"
   ]
  },
  {
   "cell_type": "code",
   "execution_count": 8,
   "metadata": {},
   "outputs": [
    {
     "data": {
      "text/plain": [
       "193"
      ]
     },
     "execution_count": 8,
     "metadata": {},
     "output_type": "execute_result"
    }
   ],
   "source": [
    "# veo como el número de restaurantes ha disminuido, ya que tenemos muchos datos en los que no hemos encontrado su ubicación o no nos ha funcionado el geopy. \n",
    "# Mejorar la limpieza de las localizaciones con la herramienta Geopy será un NEXT STEP en mi trabajo. \n",
    "\n",
    "len(rest)"
   ]
  },
  {
   "cell_type": "code",
   "execution_count": 9,
   "metadata": {},
   "outputs": [
    {
     "data": {
      "text/plain": [
       "300"
      ]
     },
     "execution_count": 9,
     "metadata": {},
     "output_type": "execute_result"
    }
   ],
   "source": [
    "len(restaurantes)"
   ]
  },
  {
   "cell_type": "code",
   "execution_count": 10,
   "metadata": {},
   "outputs": [
    {
     "data": {
      "text/html": [
       "<div>\n",
       "<style scoped>\n",
       "    .dataframe tbody tr th:only-of-type {\n",
       "        vertical-align: middle;\n",
       "    }\n",
       "\n",
       "    .dataframe tbody tr th {\n",
       "        vertical-align: top;\n",
       "    }\n",
       "\n",
       "    .dataframe thead th {\n",
       "        text-align: right;\n",
       "    }\n",
       "</style>\n",
       "<table border=\"1\" class=\"dataframe\">\n",
       "  <thead>\n",
       "    <tr style=\"text-align: right;\">\n",
       "      <th></th>\n",
       "      <th>restaurante</th>\n",
       "      <th>gastronomia</th>\n",
       "      <th>precio</th>\n",
       "      <th>opinion</th>\n",
       "      <th>reseña</th>\n",
       "      <th>ubicacion</th>\n",
       "      <th>punto</th>\n",
       "      <th>lat</th>\n",
       "      <th>long</th>\n",
       "    </tr>\n",
       "  </thead>\n",
       "  <tbody>\n",
       "    <tr>\n",
       "      <th>0</th>\n",
       "      <td>Yakiniku Rikyu</td>\n",
       "      <td>Japonesa</td>\n",
       "      <td>Medio</td>\n",
       "      <td>267 opiniones</td>\n",
       "      <td>Patrocinado</td>\n",
       "      <td>P.º de la Castellana, 15, 28046 Madrid</td>\n",
       "      <td>0</td>\n",
       "      <td>40.4280979</td>\n",
       "      <td>-3.690173</td>\n",
       "    </tr>\n",
       "    <tr>\n",
       "      <th>1</th>\n",
       "      <td>marmitón</td>\n",
       "      <td>Mediterránea</td>\n",
       "      <td>Medio</td>\n",
       "      <td>89 opiniones</td>\n",
       "      <td>MICHELIN</td>\n",
       "      <td>C. de las Aguas, 6, 28005 Madrid</td>\n",
       "      <td>0</td>\n",
       "      <td>40.4108219</td>\n",
       "      <td>-3.712107746868964</td>\n",
       "    </tr>\n",
       "    <tr>\n",
       "      <th>2</th>\n",
       "      <td>Vinoteca Moratín</td>\n",
       "      <td>Internacional</td>\n",
       "      <td>Medio</td>\n",
       "      <td>1221 opiniones</td>\n",
       "      <td>MICHELIN</td>\n",
       "      <td>C. de Moratín, 36, 28014 Madrid</td>\n",
       "      <td>0</td>\n",
       "      <td>40.412472050000005</td>\n",
       "      <td>-3.6954412113077497</td>\n",
       "    </tr>\n",
       "    <tr>\n",
       "      <th>3</th>\n",
       "      <td>Pilar Akaneya</td>\n",
       "      <td>Japonesa</td>\n",
       "      <td>Alto</td>\n",
       "      <td>276 opiniones</td>\n",
       "      <td>MICHELIN</td>\n",
       "      <td>C. de Espronceda, 33, 28003 Madrid</td>\n",
       "      <td>0</td>\n",
       "      <td>40.4405573</td>\n",
       "      <td>-3.696109</td>\n",
       "    </tr>\n",
       "    <tr>\n",
       "      <th>4</th>\n",
       "      <td>Gioia</td>\n",
       "      <td>Italiana</td>\n",
       "      <td>Medio</td>\n",
       "      <td>387 opiniones</td>\n",
       "      <td>MICHELIN</td>\n",
       "      <td>C. de San Bartolomé, 23, 28004 Madrid</td>\n",
       "      <td>0</td>\n",
       "      <td>40.4221651</td>\n",
       "      <td>-3.6983792</td>\n",
       "    </tr>\n",
       "  </tbody>\n",
       "</table>\n",
       "</div>"
      ],
      "text/plain": [
       "        restaurante    gastronomia precio         opinion       reseña  \\\n",
       "0    Yakiniku Rikyu       Japonesa  Medio   267 opiniones  Patrocinado   \n",
       "1          marmitón   Mediterránea  Medio    89 opiniones     MICHELIN   \n",
       "2  Vinoteca Moratín  Internacional  Medio  1221 opiniones     MICHELIN   \n",
       "3     Pilar Akaneya       Japonesa   Alto   276 opiniones     MICHELIN   \n",
       "4             Gioia       Italiana  Medio   387 opiniones     MICHELIN   \n",
       "\n",
       "                                ubicacion  punto                 lat  \\\n",
       "0  P.º de la Castellana, 15, 28046 Madrid      0          40.4280979   \n",
       "1        C. de las Aguas, 6, 28005 Madrid      0          40.4108219   \n",
       "2         C. de Moratín, 36, 28014 Madrid      0  40.412472050000005   \n",
       "3      C. de Espronceda, 33, 28003 Madrid      0          40.4405573   \n",
       "4   C. de San Bartolomé, 23, 28004 Madrid      0          40.4221651   \n",
       "\n",
       "                  long  \n",
       "0            -3.690173  \n",
       "1   -3.712107746868964  \n",
       "2  -3.6954412113077497  \n",
       "3            -3.696109  \n",
       "4           -3.6983792  "
      ]
     },
     "execution_count": 10,
     "metadata": {},
     "output_type": "execute_result"
    }
   ],
   "source": [
    "rest.head()"
   ]
  },
  {
   "cell_type": "markdown",
   "metadata": {},
   "source": [
    "- Como de esta forma perderíamos muchos valores de restaurantes, lo que voy a hacer es reemplazar los valores no válidos con NaN. "
   ]
  },
  {
   "cell_type": "code",
   "execution_count": 11,
   "metadata": {},
   "outputs": [],
   "source": [
    "# Opción 2: Reemplazar los valores no válidos con NaN\n",
    "restaurantes['long'] = pd.to_numeric(restaurantes['long'], errors='coerce')\n",
    "restaurantes['lat'] = pd.to_numeric(restaurantes['lat'], errors='coerce')"
   ]
  },
  {
   "cell_type": "code",
   "execution_count": 12,
   "metadata": {},
   "outputs": [],
   "source": [
    "# Crear la GeoSeries\n",
    "restaurantes['punto'] = gpd.GeoSeries.from_xy(restaurantes['long'], restaurantes['lat'])"
   ]
  },
  {
   "cell_type": "code",
   "execution_count": 13,
   "metadata": {},
   "outputs": [
    {
     "data": {
      "text/plain": [
       "0    POINT (-3.69017 40.42810)\n",
       "1    POINT (-3.71211 40.41082)\n",
       "2    POINT (-3.69544 40.41247)\n",
       "3    POINT (-3.69611 40.44056)\n",
       "4    POINT (-3.69838 40.42217)\n",
       "Name: punto, dtype: geometry"
      ]
     },
     "execution_count": 13,
     "metadata": {},
     "output_type": "execute_result"
    }
   ],
   "source": [
    "restaurantes['punto'].head()"
   ]
  },
  {
   "cell_type": "code",
   "execution_count": 14,
   "metadata": {},
   "outputs": [
    {
     "data": {
      "text/plain": [
       "300"
      ]
     },
     "execution_count": 14,
     "metadata": {},
     "output_type": "execute_result"
    }
   ],
   "source": [
    "len(restaurantes)"
   ]
  },
  {
   "cell_type": "code",
   "execution_count": 15,
   "metadata": {},
   "outputs": [],
   "source": [
    "barrio_rest = []\n",
    "\n",
    "for p in restaurantes.punto:\n",
    "\n",
    "    encontrado = False\n",
    "\n",
    "    for i, area in enumerate(geo.geometry):\n",
    "        if area.contains(p):\n",
    "            barrio_rest.append(geo.name[i])\n",
    "            encontrado = True\n",
    "            break\n",
    "            \n",
    "    if not encontrado:\n",
    "        barrio_rest.append(\"No encontrado\")"
   ]
  },
  {
   "cell_type": "code",
   "execution_count": 16,
   "metadata": {},
   "outputs": [],
   "source": [
    "\n",
    "restaurantes.insert(7, 'barrio', barrio_rest)"
   ]
  },
  {
   "cell_type": "code",
   "execution_count": 17,
   "metadata": {},
   "outputs": [
    {
     "data": {
      "text/html": [
       "<div>\n",
       "<style scoped>\n",
       "    .dataframe tbody tr th:only-of-type {\n",
       "        vertical-align: middle;\n",
       "    }\n",
       "\n",
       "    .dataframe tbody tr th {\n",
       "        vertical-align: top;\n",
       "    }\n",
       "\n",
       "    .dataframe thead th {\n",
       "        text-align: right;\n",
       "    }\n",
       "</style>\n",
       "<table border=\"1\" class=\"dataframe\">\n",
       "  <thead>\n",
       "    <tr style=\"text-align: right;\">\n",
       "      <th></th>\n",
       "      <th>restaurante</th>\n",
       "      <th>gastronomia</th>\n",
       "      <th>precio</th>\n",
       "      <th>opinion</th>\n",
       "      <th>reseña</th>\n",
       "      <th>ubicacion</th>\n",
       "      <th>punto</th>\n",
       "      <th>barrio</th>\n",
       "      <th>lat</th>\n",
       "      <th>long</th>\n",
       "    </tr>\n",
       "  </thead>\n",
       "  <tbody>\n",
       "    <tr>\n",
       "      <th>0</th>\n",
       "      <td>Yakiniku Rikyu</td>\n",
       "      <td>Japonesa</td>\n",
       "      <td>Medio</td>\n",
       "      <td>267 opiniones</td>\n",
       "      <td>Patrocinado</td>\n",
       "      <td>P.º de la Castellana, 15, 28046 Madrid</td>\n",
       "      <td>POINT (-3.69017 40.42810)</td>\n",
       "      <td>Almagro</td>\n",
       "      <td>40.428098</td>\n",
       "      <td>-3.690173</td>\n",
       "    </tr>\n",
       "    <tr>\n",
       "      <th>1</th>\n",
       "      <td>marmitón</td>\n",
       "      <td>Mediterránea</td>\n",
       "      <td>Medio</td>\n",
       "      <td>89 opiniones</td>\n",
       "      <td>MICHELIN</td>\n",
       "      <td>C. de las Aguas, 6, 28005 Madrid</td>\n",
       "      <td>POINT (-3.71211 40.41082)</td>\n",
       "      <td>Palacio</td>\n",
       "      <td>40.410822</td>\n",
       "      <td>-3.712108</td>\n",
       "    </tr>\n",
       "    <tr>\n",
       "      <th>2</th>\n",
       "      <td>Vinoteca Moratín</td>\n",
       "      <td>Internacional</td>\n",
       "      <td>Medio</td>\n",
       "      <td>1221 opiniones</td>\n",
       "      <td>MICHELIN</td>\n",
       "      <td>C. de Moratín, 36, 28014 Madrid</td>\n",
       "      <td>POINT (-3.69544 40.41247)</td>\n",
       "      <td>Cortes</td>\n",
       "      <td>40.412472</td>\n",
       "      <td>-3.695441</td>\n",
       "    </tr>\n",
       "    <tr>\n",
       "      <th>3</th>\n",
       "      <td>Pilar Akaneya</td>\n",
       "      <td>Japonesa</td>\n",
       "      <td>Alto</td>\n",
       "      <td>276 opiniones</td>\n",
       "      <td>MICHELIN</td>\n",
       "      <td>C. de Espronceda, 33, 28003 Madrid</td>\n",
       "      <td>POINT (-3.69611 40.44056)</td>\n",
       "      <td>Rios Rosas</td>\n",
       "      <td>40.440557</td>\n",
       "      <td>-3.696109</td>\n",
       "    </tr>\n",
       "    <tr>\n",
       "      <th>4</th>\n",
       "      <td>Gioia</td>\n",
       "      <td>Italiana</td>\n",
       "      <td>Medio</td>\n",
       "      <td>387 opiniones</td>\n",
       "      <td>MICHELIN</td>\n",
       "      <td>C. de San Bartolomé, 23, 28004 Madrid</td>\n",
       "      <td>POINT (-3.69838 40.42217)</td>\n",
       "      <td>Justicia</td>\n",
       "      <td>40.422165</td>\n",
       "      <td>-3.698379</td>\n",
       "    </tr>\n",
       "  </tbody>\n",
       "</table>\n",
       "</div>"
      ],
      "text/plain": [
       "        restaurante    gastronomia precio         opinion       reseña  \\\n",
       "0    Yakiniku Rikyu       Japonesa  Medio   267 opiniones  Patrocinado   \n",
       "1          marmitón   Mediterránea  Medio    89 opiniones     MICHELIN   \n",
       "2  Vinoteca Moratín  Internacional  Medio  1221 opiniones     MICHELIN   \n",
       "3     Pilar Akaneya       Japonesa   Alto   276 opiniones     MICHELIN   \n",
       "4             Gioia       Italiana  Medio   387 opiniones     MICHELIN   \n",
       "\n",
       "                                ubicacion                      punto  \\\n",
       "0  P.º de la Castellana, 15, 28046 Madrid  POINT (-3.69017 40.42810)   \n",
       "1        C. de las Aguas, 6, 28005 Madrid  POINT (-3.71211 40.41082)   \n",
       "2         C. de Moratín, 36, 28014 Madrid  POINT (-3.69544 40.41247)   \n",
       "3      C. de Espronceda, 33, 28003 Madrid  POINT (-3.69611 40.44056)   \n",
       "4   C. de San Bartolomé, 23, 28004 Madrid  POINT (-3.69838 40.42217)   \n",
       "\n",
       "       barrio        lat      long  \n",
       "0     Almagro  40.428098 -3.690173  \n",
       "1     Palacio  40.410822 -3.712108  \n",
       "2      Cortes  40.412472 -3.695441  \n",
       "3  Rios Rosas  40.440557 -3.696109  \n",
       "4    Justicia  40.422165 -3.698379  "
      ]
     },
     "execution_count": 17,
     "metadata": {},
     "output_type": "execute_result"
    }
   ],
   "source": [
    "restaurantes.head()"
   ]
  },
  {
   "cell_type": "markdown",
   "metadata": {},
   "source": [
    "## Geolocalizacion de Eventos"
   ]
  },
  {
   "cell_type": "code",
   "execution_count": 18,
   "metadata": {},
   "outputs": [
    {
     "data": {
      "text/html": [
       "<div>\n",
       "<style scoped>\n",
       "    .dataframe tbody tr th:only-of-type {\n",
       "        vertical-align: middle;\n",
       "    }\n",
       "\n",
       "    .dataframe tbody tr th {\n",
       "        vertical-align: top;\n",
       "    }\n",
       "\n",
       "    .dataframe thead th {\n",
       "        text-align: right;\n",
       "    }\n",
       "</style>\n",
       "<table border=\"1\" class=\"dataframe\">\n",
       "  <thead>\n",
       "    <tr style=\"text-align: right;\">\n",
       "      <th></th>\n",
       "      <th>nombre</th>\n",
       "      <th>local</th>\n",
       "      <th>precio</th>\n",
       "      <th>enlace</th>\n",
       "      <th>año</th>\n",
       "      <th>mes</th>\n",
       "      <th>dia</th>\n",
       "      <th>hora</th>\n",
       "      <th>ubicacion</th>\n",
       "      <th>lat</th>\n",
       "      <th>long</th>\n",
       "    </tr>\n",
       "  </thead>\n",
       "  <tbody>\n",
       "    <tr>\n",
       "      <th>0</th>\n",
       "      <td>El Rey León</td>\n",
       "      <td>Teatro Lope de Vega</td>\n",
       "      <td>49.0</td>\n",
       "      <td>https://www.entradas.com/event/el-rey-leon-el-...</td>\n",
       "      <td>2023</td>\n",
       "      <td>11</td>\n",
       "      <td>30</td>\n",
       "      <td>19:00</td>\n",
       "      <td>C.Gran Vía, 57, 28013 Madrid</td>\n",
       "      <td>40.4217903</td>\n",
       "      <td>-3.7086754</td>\n",
       "    </tr>\n",
       "    <tr>\n",
       "      <th>1</th>\n",
       "      <td>El Rey León</td>\n",
       "      <td>Teatro Lope de Vega</td>\n",
       "      <td>45.0</td>\n",
       "      <td>https://www.entradas.com/event/el-rey-leon-el-...</td>\n",
       "      <td>2023</td>\n",
       "      <td>12</td>\n",
       "      <td>1</td>\n",
       "      <td>17:00</td>\n",
       "      <td>C.Gran Vía, 57, 28013 Madrid</td>\n",
       "      <td>40.4217903</td>\n",
       "      <td>-3.7086754</td>\n",
       "    </tr>\n",
       "    <tr>\n",
       "      <th>2</th>\n",
       "      <td>El Rey León</td>\n",
       "      <td>Teatro Lope de Vega</td>\n",
       "      <td>45.0</td>\n",
       "      <td>https://www.entradas.com/event/el-rey-leon-el-...</td>\n",
       "      <td>2023</td>\n",
       "      <td>12</td>\n",
       "      <td>1</td>\n",
       "      <td>21:00</td>\n",
       "      <td>C.Gran Vía, 57, 28013 Madrid</td>\n",
       "      <td>40.4217903</td>\n",
       "      <td>-3.7086754</td>\n",
       "    </tr>\n",
       "    <tr>\n",
       "      <th>3</th>\n",
       "      <td>El Rey León</td>\n",
       "      <td>Teatro Lope de Vega</td>\n",
       "      <td>67.0</td>\n",
       "      <td>https://www.entradas.com/event/el-rey-leon-el-...</td>\n",
       "      <td>2023</td>\n",
       "      <td>12</td>\n",
       "      <td>2</td>\n",
       "      <td>17:00</td>\n",
       "      <td>C.Gran Vía, 57, 28013 Madrid</td>\n",
       "      <td>40.4217903</td>\n",
       "      <td>-3.7086754</td>\n",
       "    </tr>\n",
       "    <tr>\n",
       "      <th>4</th>\n",
       "      <td>El Rey León</td>\n",
       "      <td>Teatro Lope de Vega</td>\n",
       "      <td>45.0</td>\n",
       "      <td>https://www.entradas.com/event/el-rey-leon-el-...</td>\n",
       "      <td>2023</td>\n",
       "      <td>12</td>\n",
       "      <td>2</td>\n",
       "      <td>21:00</td>\n",
       "      <td>C.Gran Vía, 57, 28013 Madrid</td>\n",
       "      <td>40.4217903</td>\n",
       "      <td>-3.7086754</td>\n",
       "    </tr>\n",
       "  </tbody>\n",
       "</table>\n",
       "</div>"
      ],
      "text/plain": [
       "        nombre                local  precio  \\\n",
       "0  El Rey León  Teatro Lope de Vega    49.0   \n",
       "1  El Rey León  Teatro Lope de Vega    45.0   \n",
       "2  El Rey León  Teatro Lope de Vega    45.0   \n",
       "3  El Rey León  Teatro Lope de Vega    67.0   \n",
       "4  El Rey León  Teatro Lope de Vega    45.0   \n",
       "\n",
       "                                              enlace   año  mes  dia   hora  \\\n",
       "0  https://www.entradas.com/event/el-rey-leon-el-...  2023   11   30  19:00   \n",
       "1  https://www.entradas.com/event/el-rey-leon-el-...  2023   12    1  17:00   \n",
       "2  https://www.entradas.com/event/el-rey-leon-el-...  2023   12    1  21:00   \n",
       "3  https://www.entradas.com/event/el-rey-leon-el-...  2023   12    2  17:00   \n",
       "4  https://www.entradas.com/event/el-rey-leon-el-...  2023   12    2  21:00   \n",
       "\n",
       "                      ubicacion         lat        long  \n",
       "0  C.Gran Vía, 57, 28013 Madrid  40.4217903  -3.7086754  \n",
       "1  C.Gran Vía, 57, 28013 Madrid  40.4217903  -3.7086754  \n",
       "2  C.Gran Vía, 57, 28013 Madrid  40.4217903  -3.7086754  \n",
       "3  C.Gran Vía, 57, 28013 Madrid  40.4217903  -3.7086754  \n",
       "4  C.Gran Vía, 57, 28013 Madrid  40.4217903  -3.7086754  "
      ]
     },
     "execution_count": 18,
     "metadata": {},
     "output_type": "execute_result"
    }
   ],
   "source": [
    "eventos.head()"
   ]
  },
  {
   "cell_type": "code",
   "execution_count": 19,
   "metadata": {},
   "outputs": [],
   "source": [
    "eventos.insert(9, 'punto', 0)"
   ]
  },
  {
   "cell_type": "code",
   "execution_count": 20,
   "metadata": {},
   "outputs": [
    {
     "data": {
      "text/html": [
       "<div>\n",
       "<style scoped>\n",
       "    .dataframe tbody tr th:only-of-type {\n",
       "        vertical-align: middle;\n",
       "    }\n",
       "\n",
       "    .dataframe tbody tr th {\n",
       "        vertical-align: top;\n",
       "    }\n",
       "\n",
       "    .dataframe thead th {\n",
       "        text-align: right;\n",
       "    }\n",
       "</style>\n",
       "<table border=\"1\" class=\"dataframe\">\n",
       "  <thead>\n",
       "    <tr style=\"text-align: right;\">\n",
       "      <th></th>\n",
       "      <th>nombre</th>\n",
       "      <th>local</th>\n",
       "      <th>precio</th>\n",
       "      <th>enlace</th>\n",
       "      <th>año</th>\n",
       "      <th>mes</th>\n",
       "      <th>dia</th>\n",
       "      <th>hora</th>\n",
       "      <th>ubicacion</th>\n",
       "      <th>punto</th>\n",
       "      <th>lat</th>\n",
       "      <th>long</th>\n",
       "    </tr>\n",
       "  </thead>\n",
       "  <tbody>\n",
       "    <tr>\n",
       "      <th>0</th>\n",
       "      <td>El Rey León</td>\n",
       "      <td>Teatro Lope de Vega</td>\n",
       "      <td>49.0</td>\n",
       "      <td>https://www.entradas.com/event/el-rey-leon-el-...</td>\n",
       "      <td>2023</td>\n",
       "      <td>11</td>\n",
       "      <td>30</td>\n",
       "      <td>19:00</td>\n",
       "      <td>C.Gran Vía, 57, 28013 Madrid</td>\n",
       "      <td>0</td>\n",
       "      <td>40.4217903</td>\n",
       "      <td>-3.7086754</td>\n",
       "    </tr>\n",
       "    <tr>\n",
       "      <th>1</th>\n",
       "      <td>El Rey León</td>\n",
       "      <td>Teatro Lope de Vega</td>\n",
       "      <td>45.0</td>\n",
       "      <td>https://www.entradas.com/event/el-rey-leon-el-...</td>\n",
       "      <td>2023</td>\n",
       "      <td>12</td>\n",
       "      <td>1</td>\n",
       "      <td>17:00</td>\n",
       "      <td>C.Gran Vía, 57, 28013 Madrid</td>\n",
       "      <td>0</td>\n",
       "      <td>40.4217903</td>\n",
       "      <td>-3.7086754</td>\n",
       "    </tr>\n",
       "    <tr>\n",
       "      <th>2</th>\n",
       "      <td>El Rey León</td>\n",
       "      <td>Teatro Lope de Vega</td>\n",
       "      <td>45.0</td>\n",
       "      <td>https://www.entradas.com/event/el-rey-leon-el-...</td>\n",
       "      <td>2023</td>\n",
       "      <td>12</td>\n",
       "      <td>1</td>\n",
       "      <td>21:00</td>\n",
       "      <td>C.Gran Vía, 57, 28013 Madrid</td>\n",
       "      <td>0</td>\n",
       "      <td>40.4217903</td>\n",
       "      <td>-3.7086754</td>\n",
       "    </tr>\n",
       "    <tr>\n",
       "      <th>3</th>\n",
       "      <td>El Rey León</td>\n",
       "      <td>Teatro Lope de Vega</td>\n",
       "      <td>67.0</td>\n",
       "      <td>https://www.entradas.com/event/el-rey-leon-el-...</td>\n",
       "      <td>2023</td>\n",
       "      <td>12</td>\n",
       "      <td>2</td>\n",
       "      <td>17:00</td>\n",
       "      <td>C.Gran Vía, 57, 28013 Madrid</td>\n",
       "      <td>0</td>\n",
       "      <td>40.4217903</td>\n",
       "      <td>-3.7086754</td>\n",
       "    </tr>\n",
       "    <tr>\n",
       "      <th>4</th>\n",
       "      <td>El Rey León</td>\n",
       "      <td>Teatro Lope de Vega</td>\n",
       "      <td>45.0</td>\n",
       "      <td>https://www.entradas.com/event/el-rey-leon-el-...</td>\n",
       "      <td>2023</td>\n",
       "      <td>12</td>\n",
       "      <td>2</td>\n",
       "      <td>21:00</td>\n",
       "      <td>C.Gran Vía, 57, 28013 Madrid</td>\n",
       "      <td>0</td>\n",
       "      <td>40.4217903</td>\n",
       "      <td>-3.7086754</td>\n",
       "    </tr>\n",
       "  </tbody>\n",
       "</table>\n",
       "</div>"
      ],
      "text/plain": [
       "        nombre                local  precio  \\\n",
       "0  El Rey León  Teatro Lope de Vega    49.0   \n",
       "1  El Rey León  Teatro Lope de Vega    45.0   \n",
       "2  El Rey León  Teatro Lope de Vega    45.0   \n",
       "3  El Rey León  Teatro Lope de Vega    67.0   \n",
       "4  El Rey León  Teatro Lope de Vega    45.0   \n",
       "\n",
       "                                              enlace   año  mes  dia   hora  \\\n",
       "0  https://www.entradas.com/event/el-rey-leon-el-...  2023   11   30  19:00   \n",
       "1  https://www.entradas.com/event/el-rey-leon-el-...  2023   12    1  17:00   \n",
       "2  https://www.entradas.com/event/el-rey-leon-el-...  2023   12    1  21:00   \n",
       "3  https://www.entradas.com/event/el-rey-leon-el-...  2023   12    2  17:00   \n",
       "4  https://www.entradas.com/event/el-rey-leon-el-...  2023   12    2  21:00   \n",
       "\n",
       "                      ubicacion  punto         lat        long  \n",
       "0  C.Gran Vía, 57, 28013 Madrid      0  40.4217903  -3.7086754  \n",
       "1  C.Gran Vía, 57, 28013 Madrid      0  40.4217903  -3.7086754  \n",
       "2  C.Gran Vía, 57, 28013 Madrid      0  40.4217903  -3.7086754  \n",
       "3  C.Gran Vía, 57, 28013 Madrid      0  40.4217903  -3.7086754  \n",
       "4  C.Gran Vía, 57, 28013 Madrid      0  40.4217903  -3.7086754  "
      ]
     },
     "execution_count": 20,
     "metadata": {},
     "output_type": "execute_result"
    }
   ],
   "source": [
    "eventos.head()"
   ]
  },
  {
   "cell_type": "code",
   "execution_count": 21,
   "metadata": {},
   "outputs": [],
   "source": [
    "# Opción 2: Reemplazar los valores no válidos con NaN\n",
    "eventos['long'] = pd.to_numeric(eventos['long'], errors='coerce')\n",
    "eventos['lat'] = pd.to_numeric(eventos['lat'], errors='coerce')"
   ]
  },
  {
   "cell_type": "code",
   "execution_count": 22,
   "metadata": {},
   "outputs": [],
   "source": [
    "# Crear la GeoSeries\n",
    "eventos['punto'] = gpd.GeoSeries.from_xy(eventos['long'], eventos['lat'])"
   ]
  },
  {
   "cell_type": "code",
   "execution_count": 23,
   "metadata": {},
   "outputs": [
    {
     "data": {
      "text/plain": [
       "0    POINT (-3.70868 40.42179)\n",
       "1    POINT (-3.70868 40.42179)\n",
       "2    POINT (-3.70868 40.42179)\n",
       "3    POINT (-3.70868 40.42179)\n",
       "4    POINT (-3.70868 40.42179)\n",
       "Name: punto, dtype: geometry"
      ]
     },
     "execution_count": 23,
     "metadata": {},
     "output_type": "execute_result"
    }
   ],
   "source": [
    "eventos['punto'].head()"
   ]
  },
  {
   "cell_type": "code",
   "execution_count": 24,
   "metadata": {},
   "outputs": [],
   "source": [
    "barrio_event = []\n",
    "\n",
    "for p in eventos.punto:\n",
    "\n",
    "    encontrado = False\n",
    "\n",
    "    for i, area in enumerate(geo.geometry):\n",
    "        if area.contains(p):\n",
    "            barrio_event.append(geo.name[i])\n",
    "            encontrado = True\n",
    "            break\n",
    "            \n",
    "    if not encontrado:\n",
    "        barrio_event.append(\"No encontrado\")"
   ]
  },
  {
   "cell_type": "code",
   "execution_count": 25,
   "metadata": {},
   "outputs": [],
   "source": [
    "eventos.insert(10, 'barrio', barrio_event)"
   ]
  },
  {
   "cell_type": "code",
   "execution_count": 26,
   "metadata": {},
   "outputs": [
    {
     "data": {
      "text/html": [
       "<div>\n",
       "<style scoped>\n",
       "    .dataframe tbody tr th:only-of-type {\n",
       "        vertical-align: middle;\n",
       "    }\n",
       "\n",
       "    .dataframe tbody tr th {\n",
       "        vertical-align: top;\n",
       "    }\n",
       "\n",
       "    .dataframe thead th {\n",
       "        text-align: right;\n",
       "    }\n",
       "</style>\n",
       "<table border=\"1\" class=\"dataframe\">\n",
       "  <thead>\n",
       "    <tr style=\"text-align: right;\">\n",
       "      <th></th>\n",
       "      <th>nombre</th>\n",
       "      <th>local</th>\n",
       "      <th>precio</th>\n",
       "      <th>enlace</th>\n",
       "      <th>año</th>\n",
       "      <th>mes</th>\n",
       "      <th>dia</th>\n",
       "      <th>hora</th>\n",
       "      <th>ubicacion</th>\n",
       "      <th>punto</th>\n",
       "      <th>barrio</th>\n",
       "      <th>lat</th>\n",
       "      <th>long</th>\n",
       "    </tr>\n",
       "  </thead>\n",
       "  <tbody>\n",
       "    <tr>\n",
       "      <th>0</th>\n",
       "      <td>El Rey León</td>\n",
       "      <td>Teatro Lope de Vega</td>\n",
       "      <td>49.0</td>\n",
       "      <td>https://www.entradas.com/event/el-rey-leon-el-...</td>\n",
       "      <td>2023</td>\n",
       "      <td>11</td>\n",
       "      <td>30</td>\n",
       "      <td>19:00</td>\n",
       "      <td>C.Gran Vía, 57, 28013 Madrid</td>\n",
       "      <td>POINT (-3.70868 40.42179)</td>\n",
       "      <td>Palacio</td>\n",
       "      <td>40.42179</td>\n",
       "      <td>-3.708675</td>\n",
       "    </tr>\n",
       "    <tr>\n",
       "      <th>1</th>\n",
       "      <td>El Rey León</td>\n",
       "      <td>Teatro Lope de Vega</td>\n",
       "      <td>45.0</td>\n",
       "      <td>https://www.entradas.com/event/el-rey-leon-el-...</td>\n",
       "      <td>2023</td>\n",
       "      <td>12</td>\n",
       "      <td>1</td>\n",
       "      <td>17:00</td>\n",
       "      <td>C.Gran Vía, 57, 28013 Madrid</td>\n",
       "      <td>POINT (-3.70868 40.42179)</td>\n",
       "      <td>Palacio</td>\n",
       "      <td>40.42179</td>\n",
       "      <td>-3.708675</td>\n",
       "    </tr>\n",
       "    <tr>\n",
       "      <th>2</th>\n",
       "      <td>El Rey León</td>\n",
       "      <td>Teatro Lope de Vega</td>\n",
       "      <td>45.0</td>\n",
       "      <td>https://www.entradas.com/event/el-rey-leon-el-...</td>\n",
       "      <td>2023</td>\n",
       "      <td>12</td>\n",
       "      <td>1</td>\n",
       "      <td>21:00</td>\n",
       "      <td>C.Gran Vía, 57, 28013 Madrid</td>\n",
       "      <td>POINT (-3.70868 40.42179)</td>\n",
       "      <td>Palacio</td>\n",
       "      <td>40.42179</td>\n",
       "      <td>-3.708675</td>\n",
       "    </tr>\n",
       "    <tr>\n",
       "      <th>3</th>\n",
       "      <td>El Rey León</td>\n",
       "      <td>Teatro Lope de Vega</td>\n",
       "      <td>67.0</td>\n",
       "      <td>https://www.entradas.com/event/el-rey-leon-el-...</td>\n",
       "      <td>2023</td>\n",
       "      <td>12</td>\n",
       "      <td>2</td>\n",
       "      <td>17:00</td>\n",
       "      <td>C.Gran Vía, 57, 28013 Madrid</td>\n",
       "      <td>POINT (-3.70868 40.42179)</td>\n",
       "      <td>Palacio</td>\n",
       "      <td>40.42179</td>\n",
       "      <td>-3.708675</td>\n",
       "    </tr>\n",
       "    <tr>\n",
       "      <th>4</th>\n",
       "      <td>El Rey León</td>\n",
       "      <td>Teatro Lope de Vega</td>\n",
       "      <td>45.0</td>\n",
       "      <td>https://www.entradas.com/event/el-rey-leon-el-...</td>\n",
       "      <td>2023</td>\n",
       "      <td>12</td>\n",
       "      <td>2</td>\n",
       "      <td>21:00</td>\n",
       "      <td>C.Gran Vía, 57, 28013 Madrid</td>\n",
       "      <td>POINT (-3.70868 40.42179)</td>\n",
       "      <td>Palacio</td>\n",
       "      <td>40.42179</td>\n",
       "      <td>-3.708675</td>\n",
       "    </tr>\n",
       "  </tbody>\n",
       "</table>\n",
       "</div>"
      ],
      "text/plain": [
       "        nombre                local  precio  \\\n",
       "0  El Rey León  Teatro Lope de Vega    49.0   \n",
       "1  El Rey León  Teatro Lope de Vega    45.0   \n",
       "2  El Rey León  Teatro Lope de Vega    45.0   \n",
       "3  El Rey León  Teatro Lope de Vega    67.0   \n",
       "4  El Rey León  Teatro Lope de Vega    45.0   \n",
       "\n",
       "                                              enlace   año  mes  dia   hora  \\\n",
       "0  https://www.entradas.com/event/el-rey-leon-el-...  2023   11   30  19:00   \n",
       "1  https://www.entradas.com/event/el-rey-leon-el-...  2023   12    1  17:00   \n",
       "2  https://www.entradas.com/event/el-rey-leon-el-...  2023   12    1  21:00   \n",
       "3  https://www.entradas.com/event/el-rey-leon-el-...  2023   12    2  17:00   \n",
       "4  https://www.entradas.com/event/el-rey-leon-el-...  2023   12    2  21:00   \n",
       "\n",
       "                      ubicacion                      punto   barrio       lat  \\\n",
       "0  C.Gran Vía, 57, 28013 Madrid  POINT (-3.70868 40.42179)  Palacio  40.42179   \n",
       "1  C.Gran Vía, 57, 28013 Madrid  POINT (-3.70868 40.42179)  Palacio  40.42179   \n",
       "2  C.Gran Vía, 57, 28013 Madrid  POINT (-3.70868 40.42179)  Palacio  40.42179   \n",
       "3  C.Gran Vía, 57, 28013 Madrid  POINT (-3.70868 40.42179)  Palacio  40.42179   \n",
       "4  C.Gran Vía, 57, 28013 Madrid  POINT (-3.70868 40.42179)  Palacio  40.42179   \n",
       "\n",
       "       long  \n",
       "0 -3.708675  \n",
       "1 -3.708675  \n",
       "2 -3.708675  \n",
       "3 -3.708675  \n",
       "4 -3.708675  "
      ]
     },
     "execution_count": 26,
     "metadata": {},
     "output_type": "execute_result"
    }
   ],
   "source": [
    "eventos.head()"
   ]
  },
  {
   "cell_type": "code",
   "execution_count": 27,
   "metadata": {},
   "outputs": [],
   "source": [
    "#Guardo el df completo de cada uno a un nuevo .csv\n",
    "\n",
    "restaurantes.to_csv('../csv/restaurante_fin.csv')\n",
    "eventos.to_csv('../csv/eventos_fin.csv')"
   ]
  }
 ],
 "metadata": {
  "kernelspec": {
   "display_name": "clase",
   "language": "python",
   "name": "clase"
  },
  "language_info": {
   "codemirror_mode": {
    "name": "ipython",
    "version": 3
   },
   "file_extension": ".py",
   "mimetype": "text/x-python",
   "name": "python",
   "nbconvert_exporter": "python",
   "pygments_lexer": "ipython3",
   "version": "3.10.13"
  }
 },
 "nbformat": 4,
 "nbformat_minor": 2
}
